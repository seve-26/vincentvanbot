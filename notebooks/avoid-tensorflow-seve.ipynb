{
 "cells": [
  {
   "cell_type": "markdown",
   "id": "enclosed-reunion",
   "metadata": {},
   "source": [
    "#### `load_img`"
   ]
  },
  {
   "cell_type": "code",
   "execution_count": 13,
   "id": "basic-turkey",
   "metadata": {},
   "outputs": [],
   "source": [
    "from PIL import Image\n",
    "import io\n",
    "from pathlib import Path\n",
    "\n",
    "_PIL_INTERPOLATION_METHODS = {\n",
    "        'nearest': Image.NEAREST,\n",
    "        'bilinear': Image.BILINEAR,\n",
    "        'bicubic': Image.BICUBIC,\n",
    "    }\n",
    "\n",
    "def load_img_seve(path,target_size=(100,100), interpolation='nearest'):\n",
    "    # read the path/image in bytes, and store it in img\n",
    "    if isinstance(path, io.BytesIO):\n",
    "        img = Image.open(path)\n",
    "    elif isinstance(path, (Path, bytes, str)):\n",
    "        if isinstance(path, Path):\n",
    "            path = str(path.resolve())\n",
    "        with open(path, 'rb') as f:\n",
    "            img = Image.open(io.BytesIO(f.read()))\n",
    "    else:\n",
    "        raise TypeError('path should be path-like or io.BytesIO'\n",
    "                        ', not {}'.format(type(path)))\n",
    "    \n",
    "    # resize the image\n",
    "    if target_size is not None:\n",
    "        width_height_tuple = (target_size[1], target_size[0])\n",
    "        resample = _PIL_INTERPOLATION_METHODS[interpolation]\n",
    "        img = img.resize(width_height_tuple, resample)\n",
    "    \n",
    "    return img"
   ]
  },
  {
   "cell_type": "markdown",
   "id": "interim-strength",
   "metadata": {},
   "source": [
    "#### `img_to_array`"
   ]
  },
  {
   "cell_type": "code",
   "execution_count": 4,
   "id": "academic-colonial",
   "metadata": {},
   "outputs": [],
   "source": [
    "import numpy as np\n",
    "\n",
    "def img_to_array_seve(img, dtype='float32'):\n",
    "    x = np.asarray(img, dtype=dtype)\n",
    "    if len(x.shape) == 2:\n",
    "            x = x.reshape((x.shape[0], x.shape[1], 1))\n",
    "    return x"
   ]
  },
  {
   "cell_type": "markdown",
   "id": "under-square",
   "metadata": {},
   "source": [
    "#### Test"
   ]
  },
  {
   "cell_type": "code",
   "execution_count": 6,
   "id": "moved-binding",
   "metadata": {},
   "outputs": [],
   "source": [
    "from tensorflow.keras.preprocessing.image import load_img, img_to_array"
   ]
  },
  {
   "cell_type": "code",
   "execution_count": 14,
   "id": "threatened-reward",
   "metadata": {},
   "outputs": [
    {
     "name": "stdout",
     "output_type": "stream",
     "text": [
      "20.7 ms ± 233 µs per loop (mean ± std. dev. of 7 runs, 10 loops each)\n",
      "20.7 ms ± 253 µs per loop (mean ± std. dev. of 7 runs, 10 loops each)\n"
     ]
    }
   ],
   "source": [
    "test_image_path = '../raw_data/test-images/0.jpg'\n",
    "dim=(100,100)\n",
    "\n",
    "%timeit load_img(test_image_path, target_size=dim)\n",
    "%timeit load_img_seve(test_image_path, target_size=dim)"
   ]
  },
  {
   "cell_type": "code",
   "execution_count": 15,
   "id": "meaningful-republican",
   "metadata": {},
   "outputs": [
    {
     "name": "stdout",
     "output_type": "stream",
     "text": [
      "54.7 µs ± 755 ns per loop (mean ± std. dev. of 7 runs, 10000 loops each)\n",
      "25.9 µs ± 254 ns per loop (mean ± std. dev. of 7 runs, 10000 loops each)\n"
     ]
    }
   ],
   "source": [
    "img = load_img_seve(test_image_path,target_size=dim)\n",
    "\n",
    "%timeit img_to_array(img)\n",
    "%timeit img_to_array_seve(img)"
   ]
  },
  {
   "cell_type": "markdown",
   "id": "progressive-finland",
   "metadata": {},
   "source": [
    "#### avoid matplotlib as well (updating `jpg_to_array`)"
   ]
  },
  {
   "cell_type": "code",
   "execution_count": 1,
   "id": "spare-current",
   "metadata": {},
   "outputs": [],
   "source": [
    "from PIL import Image\n",
    "import requests\n",
    "\n",
    "test_link = 'https://www.wga.hu/art/c/cortona/2/3giove4.jpg'\n",
    "\n",
    "im = Image.open(requests.get(test_link, stream=True).raw)"
   ]
  },
  {
   "cell_type": "code",
   "execution_count": 2,
   "id": "informative-ridge",
   "metadata": {},
   "outputs": [
    {
     "data": {
      "text/plain": [
       "PIL.JpegImagePlugin.JpegImageFile"
      ]
     },
     "execution_count": 2,
     "metadata": {},
     "output_type": "execute_result"
    }
   ],
   "source": [
    "type(im)"
   ]
  },
  {
   "cell_type": "code",
   "execution_count": 6,
   "id": "median-resistance",
   "metadata": {},
   "outputs": [
    {
     "data": {
      "text/plain": [
       "True"
      ]
     },
     "execution_count": 6,
     "metadata": {},
     "output_type": "execute_result"
    }
   ],
   "source": [
    "from vincentvanbot.preprocessing.utils import img_to_array, jpg_to_array\n",
    "import numpy as np\n",
    "\n",
    "np.all(img_to_array(im) == jpg_to_array(test_link))"
   ]
  },
  {
   "cell_type": "code",
   "execution_count": null,
   "id": "offshore-sudan",
   "metadata": {},
   "outputs": [],
   "source": []
  }
 ],
 "metadata": {
  "kernelspec": {
   "display_name": "Python 3",
   "language": "python",
   "name": "python3"
  },
  "language_info": {
   "codemirror_mode": {
    "name": "ipython",
    "version": 3
   },
   "file_extension": ".py",
   "mimetype": "text/x-python",
   "name": "python",
   "nbconvert_exporter": "python",
   "pygments_lexer": "ipython3",
   "version": "3.8.6"
  },
  "toc": {
   "base_numbering": 1,
   "nav_menu": {},
   "number_sections": true,
   "sideBar": true,
   "skip_h1_title": false,
   "title_cell": "Table of Contents",
   "title_sidebar": "Contents",
   "toc_cell": false,
   "toc_position": {},
   "toc_section_display": true,
   "toc_window_display": false
  }
 },
 "nbformat": 4,
 "nbformat_minor": 5
}
