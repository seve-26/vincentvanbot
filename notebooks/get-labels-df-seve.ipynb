{
 "cells": [
  {
   "cell_type": "code",
   "execution_count": 1,
   "id": "blank-circulation",
   "metadata": {},
   "outputs": [],
   "source": [
    "%load_ext autoreload\n",
    "%autoreload 2"
   ]
  },
  {
   "cell_type": "code",
   "execution_count": 3,
   "id": "precious-tourism",
   "metadata": {},
   "outputs": [],
   "source": [
    "import pandas as pd\n",
    "from vincentvanbot.visionlabels.apicall import get_labels_url\n",
    "from vincentvanbot.data import get_data_locally"
   ]
  },
  {
   "cell_type": "code",
   "execution_count": 4,
   "id": "developmental-distributor",
   "metadata": {},
   "outputs": [],
   "source": [
    "df = get_data_locally(10)"
   ]
  },
  {
   "cell_type": "code",
   "execution_count": 5,
   "id": "multiple-angola",
   "metadata": {},
   "outputs": [
    {
     "data": {
      "text/plain": [
       "AUTHOR                                     AACHEN, Hans von\n",
       "BORN-DIED                   (b. 1552, Köln, d. 1615, Praha)\n",
       "TITLE                                      Venus and Adonis\n",
       "DATE                                                1574-88\n",
       "TECHNIQUE                         Oil on canvas, 68 x 95 cm\n",
       "LOCATION     Fogg Art Museum, Harvard University, Cambridge\n",
       "URL              https://www.wga.hu/art/a/aachen/adonis.jpg\n",
       "FORM                                               painting\n",
       "TYPE                                           mythological\n",
       "SCHOOL                                               German\n",
       "TIMEFRAME                                         1601-1650\n",
       "Name: 0, dtype: object"
      ]
     },
     "execution_count": 5,
     "metadata": {},
     "output_type": "execute_result"
    }
   ],
   "source": [
    "test_row = df.iloc[0]\n",
    "test_row"
   ]
  },
  {
   "cell_type": "code",
   "execution_count": 7,
   "id": "unnecessary-bennett",
   "metadata": {},
   "outputs": [
    {
     "data": {
      "text/plain": [
       "{'Tree': 0.8162100911140442,\n",
       " 'Illustration': 0.7098695635795593,\n",
       " 'Drawing': 0.7023025155067444,\n",
       " 'Landscape': 0.6723242998123169,\n",
       " 'Mythology': 0.6706447005271912,\n",
       " 'History': 0.6016780734062195}"
      ]
     },
     "execution_count": 7,
     "metadata": {},
     "output_type": "execute_result"
    }
   ],
   "source": [
    "test_labels = get_labels_url(test_row['URL'],25)\n",
    "test_labels"
   ]
  },
  {
   "cell_type": "code",
   "execution_count": 8,
   "id": "announced-disposition",
   "metadata": {},
   "outputs": [],
   "source": [
    "labels_df = pd.DataFrame()"
   ]
  },
  {
   "cell_type": "code",
   "execution_count": 9,
   "id": "interior-network",
   "metadata": {},
   "outputs": [],
   "source": [
    "for label, proba in test_labels.items():\n",
    "    labels_df[label] = proba"
   ]
  },
  {
   "cell_type": "code",
   "execution_count": 10,
   "id": "running-genetics",
   "metadata": {},
   "outputs": [
    {
     "data": {
      "text/html": [
       "<div>\n",
       "<style scoped>\n",
       "    .dataframe tbody tr th:only-of-type {\n",
       "        vertical-align: middle;\n",
       "    }\n",
       "\n",
       "    .dataframe tbody tr th {\n",
       "        vertical-align: top;\n",
       "    }\n",
       "\n",
       "    .dataframe thead th {\n",
       "        text-align: right;\n",
       "    }\n",
       "</style>\n",
       "<table border=\"1\" class=\"dataframe\">\n",
       "  <thead>\n",
       "    <tr style=\"text-align: right;\">\n",
       "      <th></th>\n",
       "      <th>Tree</th>\n",
       "      <th>Illustration</th>\n",
       "      <th>Drawing</th>\n",
       "      <th>Landscape</th>\n",
       "      <th>Mythology</th>\n",
       "      <th>History</th>\n",
       "    </tr>\n",
       "  </thead>\n",
       "  <tbody>\n",
       "  </tbody>\n",
       "</table>\n",
       "</div>"
      ],
      "text/plain": [
       "Empty DataFrame\n",
       "Columns: [Tree, Illustration, Drawing, Landscape, Mythology, History]\n",
       "Index: []"
      ]
     },
     "execution_count": 10,
     "metadata": {},
     "output_type": "execute_result"
    }
   ],
   "source": [
    "labels_df"
   ]
  },
  {
   "cell_type": "code",
   "execution_count": 18,
   "id": "classified-patrick",
   "metadata": {},
   "outputs": [],
   "source": [
    "def get_labels_row(row):\n",
    "    labels_dict = get_labels_url(row['URL'],25)\n",
    "    row.drop(row.index,inplace=True)\n",
    "    for label, proba in labels_dict.items():\n",
    "        row[label] = proba\n",
    "    return row"
   ]
  },
  {
   "cell_type": "code",
   "execution_count": 17,
   "id": "coordinate-soccer",
   "metadata": {},
   "outputs": [
    {
     "data": {
      "text/plain": [
       "Series([], Name: 0, dtype: object)"
      ]
     },
     "execution_count": 17,
     "metadata": {},
     "output_type": "execute_result"
    }
   ],
   "source": [
    "test_row.drop(test_row.index)"
   ]
  },
  {
   "cell_type": "code",
   "execution_count": 19,
   "id": "virgin-consolidation",
   "metadata": {},
   "outputs": [
    {
     "data": {
      "text/html": [
       "<div>\n",
       "<style scoped>\n",
       "    .dataframe tbody tr th:only-of-type {\n",
       "        vertical-align: middle;\n",
       "    }\n",
       "\n",
       "    .dataframe tbody tr th {\n",
       "        vertical-align: top;\n",
       "    }\n",
       "\n",
       "    .dataframe thead th {\n",
       "        text-align: right;\n",
       "    }\n",
       "</style>\n",
       "<table border=\"1\" class=\"dataframe\">\n",
       "  <thead>\n",
       "    <tr style=\"text-align: right;\">\n",
       "      <th></th>\n",
       "      <th>Ancient history</th>\n",
       "      <th>Drawing</th>\n",
       "      <th>Event</th>\n",
       "      <th>History</th>\n",
       "      <th>Holy places</th>\n",
       "      <th>Illustration</th>\n",
       "      <th>Landscape</th>\n",
       "      <th>Mythology</th>\n",
       "      <th>Stock photography</th>\n",
       "      <th>Tree</th>\n",
       "      <th>Vintage clothing</th>\n",
       "    </tr>\n",
       "  </thead>\n",
       "  <tbody>\n",
       "    <tr>\n",
       "      <th>0</th>\n",
       "      <td>NaN</td>\n",
       "      <td>0.702303</td>\n",
       "      <td>NaN</td>\n",
       "      <td>0.601678</td>\n",
       "      <td>NaN</td>\n",
       "      <td>0.709870</td>\n",
       "      <td>0.672324</td>\n",
       "      <td>0.670645</td>\n",
       "      <td>NaN</td>\n",
       "      <td>0.81621</td>\n",
       "      <td>NaN</td>\n",
       "    </tr>\n",
       "    <tr>\n",
       "      <th>1</th>\n",
       "      <td>NaN</td>\n",
       "      <td>0.680177</td>\n",
       "      <td>NaN</td>\n",
       "      <td>NaN</td>\n",
       "      <td>NaN</td>\n",
       "      <td>0.695579</td>\n",
       "      <td>NaN</td>\n",
       "      <td>0.687935</td>\n",
       "      <td>0.620559</td>\n",
       "      <td>NaN</td>\n",
       "      <td>NaN</td>\n",
       "    </tr>\n",
       "    <tr>\n",
       "      <th>2</th>\n",
       "      <td>NaN</td>\n",
       "      <td>0.658634</td>\n",
       "      <td>NaN</td>\n",
       "      <td>0.639749</td>\n",
       "      <td>NaN</td>\n",
       "      <td>0.684888</td>\n",
       "      <td>NaN</td>\n",
       "      <td>0.691546</td>\n",
       "      <td>0.632767</td>\n",
       "      <td>NaN</td>\n",
       "      <td>NaN</td>\n",
       "    </tr>\n",
       "    <tr>\n",
       "      <th>3</th>\n",
       "      <td>NaN</td>\n",
       "      <td>0.696659</td>\n",
       "      <td>NaN</td>\n",
       "      <td>NaN</td>\n",
       "      <td>NaN</td>\n",
       "      <td>0.752009</td>\n",
       "      <td>NaN</td>\n",
       "      <td>0.670392</td>\n",
       "      <td>0.637397</td>\n",
       "      <td>NaN</td>\n",
       "      <td>NaN</td>\n",
       "    </tr>\n",
       "    <tr>\n",
       "      <th>4</th>\n",
       "      <td>NaN</td>\n",
       "      <td>0.676851</td>\n",
       "      <td>NaN</td>\n",
       "      <td>NaN</td>\n",
       "      <td>NaN</td>\n",
       "      <td>0.687830</td>\n",
       "      <td>NaN</td>\n",
       "      <td>0.675071</td>\n",
       "      <td>NaN</td>\n",
       "      <td>NaN</td>\n",
       "      <td>0.690338</td>\n",
       "    </tr>\n",
       "    <tr>\n",
       "      <th>5</th>\n",
       "      <td>NaN</td>\n",
       "      <td>0.703628</td>\n",
       "      <td>0.644181</td>\n",
       "      <td>NaN</td>\n",
       "      <td>NaN</td>\n",
       "      <td>0.726635</td>\n",
       "      <td>NaN</td>\n",
       "      <td>0.697044</td>\n",
       "      <td>0.620030</td>\n",
       "      <td>NaN</td>\n",
       "      <td>NaN</td>\n",
       "    </tr>\n",
       "    <tr>\n",
       "      <th>6</th>\n",
       "      <td>NaN</td>\n",
       "      <td>NaN</td>\n",
       "      <td>NaN</td>\n",
       "      <td>NaN</td>\n",
       "      <td>NaN</td>\n",
       "      <td>0.734482</td>\n",
       "      <td>NaN</td>\n",
       "      <td>NaN</td>\n",
       "      <td>NaN</td>\n",
       "      <td>NaN</td>\n",
       "      <td>0.708335</td>\n",
       "    </tr>\n",
       "    <tr>\n",
       "      <th>7</th>\n",
       "      <td>NaN</td>\n",
       "      <td>0.721867</td>\n",
       "      <td>NaN</td>\n",
       "      <td>NaN</td>\n",
       "      <td>NaN</td>\n",
       "      <td>0.745854</td>\n",
       "      <td>NaN</td>\n",
       "      <td>0.710266</td>\n",
       "      <td>0.645187</td>\n",
       "      <td>NaN</td>\n",
       "      <td>NaN</td>\n",
       "    </tr>\n",
       "    <tr>\n",
       "      <th>8</th>\n",
       "      <td>0.601057</td>\n",
       "      <td>0.709728</td>\n",
       "      <td>0.691097</td>\n",
       "      <td>0.674888</td>\n",
       "      <td>0.633039</td>\n",
       "      <td>0.714652</td>\n",
       "      <td>NaN</td>\n",
       "      <td>0.695881</td>\n",
       "      <td>0.621295</td>\n",
       "      <td>NaN</td>\n",
       "      <td>NaN</td>\n",
       "    </tr>\n",
       "    <tr>\n",
       "      <th>9</th>\n",
       "      <td>NaN</td>\n",
       "      <td>NaN</td>\n",
       "      <td>NaN</td>\n",
       "      <td>NaN</td>\n",
       "      <td>NaN</td>\n",
       "      <td>0.702257</td>\n",
       "      <td>NaN</td>\n",
       "      <td>0.682173</td>\n",
       "      <td>0.620870</td>\n",
       "      <td>NaN</td>\n",
       "      <td>NaN</td>\n",
       "    </tr>\n",
       "  </tbody>\n",
       "</table>\n",
       "</div>"
      ],
      "text/plain": [
       "   Ancient history   Drawing     Event   History  Holy places  Illustration  \\\n",
       "0              NaN  0.702303       NaN  0.601678          NaN      0.709870   \n",
       "1              NaN  0.680177       NaN       NaN          NaN      0.695579   \n",
       "2              NaN  0.658634       NaN  0.639749          NaN      0.684888   \n",
       "3              NaN  0.696659       NaN       NaN          NaN      0.752009   \n",
       "4              NaN  0.676851       NaN       NaN          NaN      0.687830   \n",
       "5              NaN  0.703628  0.644181       NaN          NaN      0.726635   \n",
       "6              NaN       NaN       NaN       NaN          NaN      0.734482   \n",
       "7              NaN  0.721867       NaN       NaN          NaN      0.745854   \n",
       "8         0.601057  0.709728  0.691097  0.674888     0.633039      0.714652   \n",
       "9              NaN       NaN       NaN       NaN          NaN      0.702257   \n",
       "\n",
       "   Landscape  Mythology  Stock photography     Tree  Vintage clothing  \n",
       "0   0.672324   0.670645                NaN  0.81621               NaN  \n",
       "1        NaN   0.687935           0.620559      NaN               NaN  \n",
       "2        NaN   0.691546           0.632767      NaN               NaN  \n",
       "3        NaN   0.670392           0.637397      NaN               NaN  \n",
       "4        NaN   0.675071                NaN      NaN          0.690338  \n",
       "5        NaN   0.697044           0.620030      NaN               NaN  \n",
       "6        NaN        NaN                NaN      NaN          0.708335  \n",
       "7        NaN   0.710266           0.645187      NaN               NaN  \n",
       "8        NaN   0.695881           0.621295      NaN               NaN  \n",
       "9        NaN   0.682173           0.620870      NaN               NaN  "
      ]
     },
     "execution_count": 19,
     "metadata": {},
     "output_type": "execute_result"
    }
   ],
   "source": [
    "df.apply(get_labels_row,axis=1)"
   ]
  },
  {
   "cell_type": "code",
   "execution_count": null,
   "id": "intellectual-vulnerability",
   "metadata": {},
   "outputs": [],
   "source": []
  }
 ],
 "metadata": {
  "kernelspec": {
   "display_name": "Python 3",
   "language": "python",
   "name": "python3"
  },
  "language_info": {
   "codemirror_mode": {
    "name": "ipython",
    "version": 3
   },
   "file_extension": ".py",
   "mimetype": "text/x-python",
   "name": "python",
   "nbconvert_exporter": "python",
   "pygments_lexer": "ipython3",
   "version": "3.8.6"
  },
  "toc": {
   "base_numbering": 1,
   "nav_menu": {},
   "number_sections": true,
   "sideBar": true,
   "skip_h1_title": false,
   "title_cell": "Table of Contents",
   "title_sidebar": "Contents",
   "toc_cell": false,
   "toc_position": {},
   "toc_section_display": true,
   "toc_window_display": false
  }
 },
 "nbformat": 4,
 "nbformat_minor": 5
}
