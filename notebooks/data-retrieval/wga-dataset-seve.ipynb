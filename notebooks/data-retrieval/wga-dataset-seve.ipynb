{
 "cells": [
  {
   "cell_type": "code",
   "execution_count": 1,
   "id": "significant-denmark",
   "metadata": {},
   "outputs": [],
   "source": [
    "import pandas as pd\n",
    "import os\n",
    "import matplotlib.pyplot as plt\n",
    "import numpy as np"
   ]
  },
  {
   "cell_type": "markdown",
   "id": "homeless-material",
   "metadata": {},
   "source": [
    "# Paintings"
   ]
  },
  {
   "cell_type": "markdown",
   "id": "dense-tiffany",
   "metadata": {
    "heading_collapsed": true
   },
   "source": [
    "## Get data"
   ]
  },
  {
   "cell_type": "markdown",
   "id": "dietary-guinea",
   "metadata": {
    "heading_collapsed": true,
    "hidden": true
   },
   "source": [
    "### Download data"
   ]
  },
  {
   "cell_type": "markdown",
   "id": "powerful-pepper",
   "metadata": {
    "hidden": true
   },
   "source": [
    "Make sure to have opened Jupyter notebook from the project folder."
   ]
  },
  {
   "cell_type": "code",
   "execution_count": 2,
   "id": "legendary-cameroon",
   "metadata": {
    "hidden": true
   },
   "outputs": [
    {
     "name": "stdout",
     "output_type": "stream",
     "text": [
      "/home/sevebot/code/seve-26/vincentvanbot/notebooks/data-retrieval\r\n"
     ]
    }
   ],
   "source": [
    "!pwd"
   ]
  },
  {
   "cell_type": "code",
   "execution_count": 4,
   "id": "digital-hampshire",
   "metadata": {
    "hidden": true
   },
   "outputs": [
    {
     "name": "stdout",
     "output_type": "stream",
     "text": [
      "  % Total    % Received % Xferd  Average Speed   Time    Time     Time  Current\n",
      "                                 Dload  Upload   Total   Spent    Left  Speed\n",
      "100 1630k  100 1630k    0     0  1946k      0 --:--:-- --:--:-- --:--:-- 1943k\n"
     ]
    }
   ],
   "source": [
    "# download data in zip file\n",
    "!curl https://www.wga.hu/database/download/data_txt.zip > data_txt.zip"
   ]
  },
  {
   "cell_type": "code",
   "execution_count": 5,
   "id": "sophisticated-appointment",
   "metadata": {
    "hidden": true
   },
   "outputs": [
    {
     "name": "stdout",
     "output_type": "stream",
     "text": [
      "Archive:  data_txt.zip\n",
      "  inflating: ../../raw_data/catalog.csv  \n"
     ]
    }
   ],
   "source": [
    "# unzip downloaded data ands save it in a data folder \n",
    "#(on Mac you might have to change the direction of the slashes to \\..\\..\\raw_data)\n",
    "!unzip data_txt.zip -d ../../raw_data"
   ]
  },
  {
   "cell_type": "markdown",
   "id": "perfect-injury",
   "metadata": {
    "hidden": true
   },
   "source": [
    "If you don't have unzip installed (i.e. you receive an error like \"unzip command not found\" from the last cell), you can install it with `sudo apt install -y unzip`"
   ]
  },
  {
   "cell_type": "code",
   "execution_count": 6,
   "id": "blank-pollution",
   "metadata": {
    "hidden": true
   },
   "outputs": [],
   "source": [
    "# clean your directory\n",
    "!rm data_txt.zip"
   ]
  },
  {
   "cell_type": "markdown",
   "id": "israeli-juvenile",
   "metadata": {
    "heading_collapsed": true,
    "hidden": true
   },
   "source": [
    "### Import data in your notebook"
   ]
  },
  {
   "cell_type": "code",
   "execution_count": 8,
   "id": "proprietary-devon",
   "metadata": {
    "hidden": true,
    "scrolled": true
   },
   "outputs": [
    {
     "data": {
      "text/html": [
       "<div>\n",
       "<style scoped>\n",
       "    .dataframe tbody tr th:only-of-type {\n",
       "        vertical-align: middle;\n",
       "    }\n",
       "\n",
       "    .dataframe tbody tr th {\n",
       "        vertical-align: top;\n",
       "    }\n",
       "\n",
       "    .dataframe thead th {\n",
       "        text-align: right;\n",
       "    }\n",
       "</style>\n",
       "<table border=\"1\" class=\"dataframe\">\n",
       "  <thead>\n",
       "    <tr style=\"text-align: right;\">\n",
       "      <th></th>\n",
       "      <th>AUTHOR</th>\n",
       "      <th>BORN-DIED</th>\n",
       "      <th>TITLE</th>\n",
       "      <th>DATE</th>\n",
       "      <th>TECHNIQUE</th>\n",
       "      <th>LOCATION</th>\n",
       "      <th>URL</th>\n",
       "      <th>FORM</th>\n",
       "      <th>TYPE</th>\n",
       "      <th>SCHOOL</th>\n",
       "      <th>TIMEFRAME</th>\n",
       "    </tr>\n",
       "  </thead>\n",
       "  <tbody>\n",
       "    <tr>\n",
       "      <th>0</th>\n",
       "      <td>AACHEN, Hans von</td>\n",
       "      <td>(b. 1552, Köln, d. 1615, Praha)</td>\n",
       "      <td>Venus and Adonis</td>\n",
       "      <td>1574-88</td>\n",
       "      <td>Oil on canvas, 68 x 95 cm</td>\n",
       "      <td>Fogg Art Museum, Harvard University, Cambridge</td>\n",
       "      <td>https://www.wga.hu/html/a/aachen/adonis.html</td>\n",
       "      <td>painting</td>\n",
       "      <td>mythological</td>\n",
       "      <td>German</td>\n",
       "      <td>1601-1650</td>\n",
       "    </tr>\n",
       "    <tr>\n",
       "      <th>1</th>\n",
       "      <td>AACHEN, Hans von</td>\n",
       "      <td>(b. 1552, Köln, d. 1615, Praha)</td>\n",
       "      <td>Allegory</td>\n",
       "      <td>1598</td>\n",
       "      <td>Oil on copper, 56 x 47 cm</td>\n",
       "      <td>Alte Pinakothek, Munich</td>\n",
       "      <td>https://www.wga.hu/html/a/aachen/allegory.html</td>\n",
       "      <td>painting</td>\n",
       "      <td>mythological</td>\n",
       "      <td>German</td>\n",
       "      <td>1601-1650</td>\n",
       "    </tr>\n",
       "    <tr>\n",
       "      <th>2</th>\n",
       "      <td>AACHEN, Hans von</td>\n",
       "      <td>(b. 1552, Köln, d. 1615, Praha)</td>\n",
       "      <td>Allegory of Peace, Art and Abundance</td>\n",
       "      <td>1602</td>\n",
       "      <td>Oil on canvas, 197 x 142 cm</td>\n",
       "      <td>The Hermitage, St. Petersburg</td>\n",
       "      <td>https://www.wga.hu/html/a/aachen/allegorz.html</td>\n",
       "      <td>painting</td>\n",
       "      <td>mythological</td>\n",
       "      <td>German</td>\n",
       "      <td>1601-1650</td>\n",
       "    </tr>\n",
       "    <tr>\n",
       "      <th>3</th>\n",
       "      <td>AACHEN, Hans von</td>\n",
       "      <td>(b. 1552, Köln, d. 1615, Praha)</td>\n",
       "      <td>Jupiter, Antiope and Cupid</td>\n",
       "      <td>1595-98</td>\n",
       "      <td>Oil on copper, 31 x 21 cm</td>\n",
       "      <td>Kunsthistorisches Museum, Vienna</td>\n",
       "      <td>https://www.wga.hu/html/a/aachen/antiope.html</td>\n",
       "      <td>painting</td>\n",
       "      <td>mythological</td>\n",
       "      <td>German</td>\n",
       "      <td>1601-1650</td>\n",
       "    </tr>\n",
       "    <tr>\n",
       "      <th>4</th>\n",
       "      <td>AACHEN, Hans von</td>\n",
       "      <td>(b. 1552, Köln, d. 1615, Praha)</td>\n",
       "      <td>Pallas Athena, Venus and Juno</td>\n",
       "      <td>1593</td>\n",
       "      <td>Oil on canvas, 54 x 67 cm</td>\n",
       "      <td>Museum of Fine Arts, Boston</td>\n",
       "      <td>https://www.wga.hu/html/a/aachen/athena.html</td>\n",
       "      <td>painting</td>\n",
       "      <td>mythological</td>\n",
       "      <td>German</td>\n",
       "      <td>1601-1650</td>\n",
       "    </tr>\n",
       "  </tbody>\n",
       "</table>\n",
       "</div>"
      ],
      "text/plain": [
       "             AUTHOR                        BORN-DIED  \\\n",
       "0  AACHEN, Hans von  (b. 1552, Köln, d. 1615, Praha)   \n",
       "1  AACHEN, Hans von  (b. 1552, Köln, d. 1615, Praha)   \n",
       "2  AACHEN, Hans von  (b. 1552, Köln, d. 1615, Praha)   \n",
       "3  AACHEN, Hans von  (b. 1552, Köln, d. 1615, Praha)   \n",
       "4  AACHEN, Hans von  (b. 1552, Köln, d. 1615, Praha)   \n",
       "\n",
       "                                  TITLE     DATE                    TECHNIQUE  \\\n",
       "0                      Venus and Adonis  1574-88    Oil on canvas, 68 x 95 cm   \n",
       "1                              Allegory     1598    Oil on copper, 56 x 47 cm   \n",
       "2  Allegory of Peace, Art and Abundance     1602  Oil on canvas, 197 x 142 cm   \n",
       "3            Jupiter, Antiope and Cupid  1595-98    Oil on copper, 31 x 21 cm   \n",
       "4         Pallas Athena, Venus and Juno     1593    Oil on canvas, 54 x 67 cm   \n",
       "\n",
       "                                         LOCATION  \\\n",
       "0  Fogg Art Museum, Harvard University, Cambridge   \n",
       "1                         Alte Pinakothek, Munich   \n",
       "2                   The Hermitage, St. Petersburg   \n",
       "3                Kunsthistorisches Museum, Vienna   \n",
       "4                     Museum of Fine Arts, Boston   \n",
       "\n",
       "                                              URL      FORM          TYPE  \\\n",
       "0    https://www.wga.hu/html/a/aachen/adonis.html  painting  mythological   \n",
       "1  https://www.wga.hu/html/a/aachen/allegory.html  painting  mythological   \n",
       "2  https://www.wga.hu/html/a/aachen/allegorz.html  painting  mythological   \n",
       "3   https://www.wga.hu/html/a/aachen/antiope.html  painting  mythological   \n",
       "4    https://www.wga.hu/html/a/aachen/athena.html  painting  mythological   \n",
       "\n",
       "   SCHOOL  TIMEFRAME  \n",
       "0  German  1601-1650  \n",
       "1  German  1601-1650  \n",
       "2  German  1601-1650  \n",
       "3  German  1601-1650  \n",
       "4  German  1601-1650  "
      ]
     },
     "execution_count": 8,
     "metadata": {},
     "output_type": "execute_result"
    }
   ],
   "source": [
    "path = os.path.join('..','..','raw_data','catalog.csv')\n",
    "df = pd.read_csv(path, encoding= 'unicode_escape') # take care of non-ASCII characters such as 'ö'\n",
    "\n",
    "df.head()"
   ]
  },
  {
   "cell_type": "code",
   "execution_count": 9,
   "id": "industrial-evaluation",
   "metadata": {
    "hidden": true
   },
   "outputs": [
    {
     "data": {
      "text/plain": [
       "50575"
      ]
     },
     "execution_count": 9,
     "metadata": {},
     "output_type": "execute_result"
    }
   ],
   "source": [
    "len(df)"
   ]
  },
  {
   "cell_type": "code",
   "execution_count": 10,
   "id": "comparative-findings",
   "metadata": {
    "hidden": true
   },
   "outputs": [
    {
     "data": {
      "text/plain": [
       "AUTHOR       object\n",
       "BORN-DIED    object\n",
       "TITLE        object\n",
       "DATE         object\n",
       "TECHNIQUE    object\n",
       "LOCATION     object\n",
       "URL          object\n",
       "FORM         object\n",
       "TYPE         object\n",
       "SCHOOL       object\n",
       "TIMEFRAME    object\n",
       "dtype: object"
      ]
     },
     "execution_count": 10,
     "metadata": {},
     "output_type": "execute_result"
    }
   ],
   "source": [
    "df.dtypes # if we want to use the dates, we need to do some preprocessing"
   ]
  },
  {
   "cell_type": "code",
   "execution_count": 11,
   "id": "floppy-architect",
   "metadata": {
    "hidden": true
   },
   "outputs": [
    {
     "data": {
      "text/plain": [
       "AUTHOR       0\n",
       "BORN-DIED    0\n",
       "TITLE        0\n",
       "DATE         0\n",
       "TECHNIQUE    0\n",
       "LOCATION     0\n",
       "URL          0\n",
       "FORM         0\n",
       "TYPE         0\n",
       "SCHOOL       0\n",
       "TIMEFRAME    0\n",
       "dtype: int64"
      ]
     },
     "execution_count": 11,
     "metadata": {},
     "output_type": "execute_result"
    }
   ],
   "source": [
    "df.isnull().sum() # we might have to check for other types of null values (maybe '', or '-')"
   ]
  },
  {
   "cell_type": "markdown",
   "id": "formed-intermediate",
   "metadata": {
    "heading_collapsed": true,
    "hidden": true
   },
   "source": [
    "### Initial preprocessing"
   ]
  },
  {
   "cell_type": "markdown",
   "id": "removed-publication",
   "metadata": {
    "hidden": true
   },
   "source": [
    "We need to transform the URL (currently an html page) into the usual representation of an image (i.e. np.array of shape (width,height,channels)"
   ]
  },
  {
   "cell_type": "markdown",
   "id": "hybrid-tuner",
   "metadata": {
    "heading_collapsed": true,
    "hidden": true
   },
   "source": [
    "#### Get link from html to jpg"
   ]
  },
  {
   "cell_type": "markdown",
   "id": "potential-newfoundland",
   "metadata": {
    "hidden": true
   },
   "source": [
    "The URL of the image is in html form. We need to adjust this URL to get the direct link to the image. This adjustment is based on how the website was built."
   ]
  },
  {
   "cell_type": "code",
   "execution_count": 12,
   "id": "first-genetics",
   "metadata": {
    "hidden": true
   },
   "outputs": [],
   "source": [
    "def get_jpg_link(html_link: str) -> str:\n",
    "    \"\"\"Tranform the html_link of the image to its respective jpg_link\"\"\"\n",
    "    \n",
    "    jpg_link = html_link.replace('html','art', 1).replace('html','jpg')\n",
    "    \n",
    "    return jpg_link"
   ]
  },
  {
   "cell_type": "code",
   "execution_count": 13,
   "id": "crude-telephone",
   "metadata": {
    "hidden": true
   },
   "outputs": [
    {
     "data": {
      "text/plain": [
       "'https://www.wga.hu/art/a/aachen/adonis.jpg'"
      ]
     },
     "execution_count": 13,
     "metadata": {},
     "output_type": "execute_result"
    }
   ],
   "source": [
    "html_link_test = 'https://www.wga.hu/html/a/aachen/adonis.html'\n",
    "get_jpg_link(html_link_test) # should return 'https://www.wga.hu/art/a/aachen/adonis.jpg'"
   ]
  },
  {
   "cell_type": "markdown",
   "id": "comparable-malta",
   "metadata": {
    "heading_collapsed": true,
    "hidden": true
   },
   "source": [
    "#### Transform jpg to NumPy array"
   ]
  },
  {
   "cell_type": "code",
   "execution_count": 14,
   "id": "indoor-flexibility",
   "metadata": {
    "hidden": true
   },
   "outputs": [],
   "source": [
    "def jpg_to_array(jpg_link: str) -> np.ndarray:\n",
    "    \"\"\"Given an image jpg_link, it returns its vectorial representation\"\"\"\n",
    "    \n",
    "    img_vector = plt.imread(jpg_link, format='jpg')\n",
    "    \n",
    "    return img_vector"
   ]
  },
  {
   "cell_type": "code",
   "execution_count": 15,
   "id": "becoming-january",
   "metadata": {
    "hidden": true,
    "scrolled": true
   },
   "outputs": [
    {
     "name": "stdout",
     "output_type": "stream",
     "text": [
      "<class 'numpy.ndarray'> (1400, 1032, 3)\n"
     ]
    },
    {
     "data": {
      "image/png": "[encoded data removed]",
      "text/plain": [
       "<Figure size 432x288 with 1 Axes>"
      ]
     },
     "metadata": {
      "needs_background": "light"
     },
     "output_type": "display_data"
    }
   ],
   "source": [
    "random_img_html = df.iloc[np.random.randint(0,len(df))]['URL']\n",
    "random_img_jpg = get_jpg_link(random_img_html)\n",
    "random_img_arr = jpg_to_array(random_img_jpg)\n",
    "\n",
    "print(type(random_img_arr), random_img_arr.shape)\n",
    "\n",
    "plt.imshow(random_img_arr)\n",
    "plt.axis('off');"
   ]
  },
  {
   "cell_type": "markdown",
   "id": "southern-mobility",
   "metadata": {
    "hidden": true
   },
   "source": [
    "Run the above cell a few times. Notice how we have different sizes for different images! This is something we should probably take care of (maybe padding? Or size reduction?)"
   ]
  },
  {
   "cell_type": "markdown",
   "id": "prompt-heart",
   "metadata": {
    "heading_collapsed": true
   },
   "source": [
    "## Product ideas"
   ]
  },
  {
   "cell_type": "markdown",
   "id": "ready-drove",
   "metadata": {
    "heading_collapsed": true,
    "hidden": true
   },
   "source": [
    "### Paintings that look like pictures"
   ]
  },
  {
   "cell_type": "markdown",
   "id": "young-ecology",
   "metadata": {
    "hidden": true
   },
   "source": [
    "The user takes a picture of something that he likes (e.g. a sunrise on the sea). The algorithm returns the painting that is most similar to the picture (e.g. _Impression, Sunrise_ by Claude Monet)"
   ]
  },
  {
   "cell_type": "markdown",
   "id": "limiting-spyware",
   "metadata": {
    "hidden": true
   },
   "source": [
    "<table>\n",
    "    <tr>\n",
    "        <td style=\"text-align:center;font-size:15px\"><strong>Uploaded by the user</strong></td>\n",
    "        <td></td>\n",
    "        <td style=\"text-align:center;font-size:15px\"><strong>Returned by algorithm</strong></td>\n",
    "    </tr>\n",
    "    <tr>\n",
    "        <td> <img src=\"https://pixnio.com/free-images/2017/10/17/2017-10-17-05-52-13.jpg\" width=\"300\"/> </td>\n",
    "        <td>\n",
    "            <img src=\"https://www.clipartkey.com/mpngs/m/38-380671_arrows-black-right-arrow-white-background.png\" width=\"50\"/>\n",
    "        </td>\n",
    "        <td> <img src=\"https://www.wga.hu/art/m/monet/03/0impress.jpg\" width=\"300\"/> </td>\n",
    "    </tr>\n",
    "</table>"
   ]
  },
  {
   "cell_type": "code",
   "execution_count": null,
   "id": "verified-amazon",
   "metadata": {
    "hidden": true
   },
   "outputs": [],
   "source": [
    "df[df['TITLE'] == 'Impression, Sunrise']"
   ]
  },
  {
   "cell_type": "markdown",
   "id": "green-independence",
   "metadata": {
    "heading_collapsed": true,
    "hidden": true
   },
   "source": [
    "### Paintings recommender system"
   ]
  },
  {
   "cell_type": "markdown",
   "id": "removable-writing",
   "metadata": {
    "hidden": true
   },
   "source": [
    "The user types the title of his favourite painting (e.g. `Impression, Sunrise`). The algorithm returns a list of other painting that are similar to the input and that the user might like."
   ]
  },
  {
   "cell_type": "markdown",
   "id": "authorized-authority",
   "metadata": {
    "hidden": true
   },
   "source": [
    "<table>\n",
    "    <tr>\n",
    "        <td style=\"text-align:center;font-size:15px\"><strong>Uploaded by the user</strong></td>\n",
    "        <td></td>\n",
    "        <td style=\"text-align:center;font-size:15px\"><strong>Returned by algorithm</strong></td>\n",
    "    </tr>\n",
    "    <tr>\n",
    "        <td style=\"text-align:center;font-size:26px\">\"Impression, Sunrise\"</td>\n",
    "        <td>\n",
    "            <img src=\"https://www.clipartkey.com/mpngs/m/38-380671_arrows-black-right-arrow-white-background.png\" width=\"50\"/>\n",
    "        </td>\n",
    "        <td>\n",
    "            <table>\n",
    "                <tr>\n",
    "                    <td>\n",
    "                        <img src=\"https://images.fineartamerica.com/images/artworkimages/mediumlarge/1/ocean-sunrise-sandy-hemmer.jpg\" width=\"150\"/>\n",
    "                    </td>\n",
    "                    <td>\n",
    "                        <img src=\"https://images.fineartamerica.com/images/artworkimages/mediumlarge/1/abstract-ocean-bay-sunrise-kathy-symonds.jpg\" width=\"150\"/>\n",
    "                    </td>\n",
    "                    <td>\n",
    "                        <img src=\"https://i.pinimg.com/736x/d8/27/c0/d827c0d8164c3ffea31cdb36dad5eeb1.jpg\" width=\"150\"/>\n",
    "                    </td>\n",
    "                </tr>\n",
    "            </table>\n",
    "        </td>\n",
    "    </tr>\n",
    "</table>"
   ]
  },
  {
   "cell_type": "markdown",
   "id": "bored-luxembourg",
   "metadata": {
    "heading_collapsed": true,
    "hidden": true
   },
   "source": [
    "### Any other idea?"
   ]
  },
  {
   "cell_type": "code",
   "execution_count": null,
   "id": "transparent-bristol",
   "metadata": {
    "hidden": true
   },
   "outputs": [],
   "source": []
  }
 ],
 "metadata": {
  "kernelspec": {
   "display_name": "Python 3",
   "language": "python",
   "name": "python3"
  },
  "language_info": {
   "codemirror_mode": {
    "name": "ipython",
    "version": 3
   },
   "file_extension": ".py",
   "mimetype": "text/x-python",
   "name": "python",
   "nbconvert_exporter": "python",
   "pygments_lexer": "ipython3",
   "version": "3.8.6"
  },
  "toc": {
   "base_numbering": 1,
   "nav_menu": {},
   "number_sections": true,
   "sideBar": true,
   "skip_h1_title": false,
   "title_cell": "Table of Contents",
   "title_sidebar": "Contents",
   "toc_cell": false,
   "toc_position": {},
   "toc_section_display": true,
   "toc_window_display": false
  }
 },
 "nbformat": 4,
 "nbformat_minor": 5
}
