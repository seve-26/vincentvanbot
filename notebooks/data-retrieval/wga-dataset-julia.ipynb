{
 "cells": [
  {
   "cell_type": "code",
   "execution_count": 110,
   "metadata": {},
   "outputs": [
    {
     "name": "stdout",
     "output_type": "stream",
     "text": [
      "The autoreload extension is already loaded. To reload it, use:\n",
      "  %reload_ext autoreload\n"
     ]
    }
   ],
   "source": [
    "%load_ext autoreload\n",
    "%autoreload 2"
   ]
  },
  {
   "cell_type": "code",
   "execution_count": 2,
   "metadata": {},
   "outputs": [],
   "source": [
    "import pandas as pd\n",
    "import os\n",
    "import matplotlib.pyplot as plt\n",
    "import numpy as np\n",
    "import random "
   ]
  },
  {
   "cell_type": "markdown",
   "metadata": {},
   "source": [
    "# Paintings"
   ]
  },
  {
   "cell_type": "markdown",
   "metadata": {
    "heading_collapsed": true
   },
   "source": [
    "## Get data"
   ]
  },
  {
   "cell_type": "markdown",
   "metadata": {
    "heading_collapsed": true,
    "hidden": true
   },
   "source": [
    "### Import data in your notebook"
   ]
  },
  {
   "cell_type": "code",
   "execution_count": 3,
   "metadata": {},
   "outputs": [],
   "source": [
    "from vincentvanbot.data import get_data_locally\n",
    "from vincentvanbot.preprocessing.pipeline import build_pipe\n",
    "from vincentvanbot.preprocessing.utils import get_jpg_link\n",
    "from vincentvanbot.preprocessing.utils import jpg_to_array, resize_image"
   ]
  },
  {
   "cell_type": "code",
   "execution_count": 4,
   "metadata": {},
   "outputs": [
    {
     "data": {
      "text/plain": [
       "(10, 12)"
      ]
     },
     "execution_count": 4,
     "metadata": {},
     "output_type": "execute_result"
    }
   ],
   "source": [
    "df = get_data_locally()\n",
    "pipe = build_pipe(dim=(420,360))\n",
    "df_transformed = pipe.fit_transform(df)\n",
    "df_transformed.shape"
   ]
  },
  {
   "cell_type": "code",
   "execution_count": 5,
   "metadata": {},
   "outputs": [
    {
     "data": {
      "text/html": [
       "<div>\n",
       "<style scoped>\n",
       "    .dataframe tbody tr th:only-of-type {\n",
       "        vertical-align: middle;\n",
       "    }\n",
       "\n",
       "    .dataframe tbody tr th {\n",
       "        vertical-align: top;\n",
       "    }\n",
       "\n",
       "    .dataframe thead th {\n",
       "        text-align: right;\n",
       "    }\n",
       "</style>\n",
       "<table border=\"1\" class=\"dataframe\">\n",
       "  <thead>\n",
       "    <tr style=\"text-align: right;\">\n",
       "      <th></th>\n",
       "      <th>AUTHOR</th>\n",
       "      <th>BORN-DIED</th>\n",
       "      <th>TITLE</th>\n",
       "      <th>DATE</th>\n",
       "      <th>TECHNIQUE</th>\n",
       "      <th>LOCATION</th>\n",
       "      <th>URL</th>\n",
       "      <th>FORM</th>\n",
       "      <th>TYPE</th>\n",
       "      <th>SCHOOL</th>\n",
       "      <th>TIMEFRAME</th>\n",
       "      <th>IMAGE</th>\n",
       "    </tr>\n",
       "  </thead>\n",
       "  <tbody>\n",
       "    <tr>\n",
       "      <th>0</th>\n",
       "      <td>AACHEN, Hans von</td>\n",
       "      <td>(b. 1552, Köln, d. 1615, Praha)</td>\n",
       "      <td>Venus and Adonis</td>\n",
       "      <td>1574-88</td>\n",
       "      <td>Oil on canvas, 68 x 95 cm</td>\n",
       "      <td>Fogg Art Museum, Harvard University, Cambridge</td>\n",
       "      <td>https://www.wga.hu/art/a/aachen/adonis.jpg</td>\n",
       "      <td>painting</td>\n",
       "      <td>mythological</td>\n",
       "      <td>German</td>\n",
       "      <td>1601-1650</td>\n",
       "      <td>[[[109, 106, 87], [116, 113, 94], [111, 108, 8...</td>\n",
       "    </tr>\n",
       "    <tr>\n",
       "      <th>1</th>\n",
       "      <td>AACHEN, Hans von</td>\n",
       "      <td>(b. 1552, Köln, d. 1615, Praha)</td>\n",
       "      <td>Allegory</td>\n",
       "      <td>1598</td>\n",
       "      <td>Oil on copper, 56 x 47 cm</td>\n",
       "      <td>Alte Pinakothek, Munich</td>\n",
       "      <td>https://www.wga.hu/art/a/aachen/allegory.jpg</td>\n",
       "      <td>painting</td>\n",
       "      <td>mythological</td>\n",
       "      <td>German</td>\n",
       "      <td>1601-1650</td>\n",
       "      <td>[[[95, 89, 77], [81, 76, 64], [68, 65, 53], [5...</td>\n",
       "    </tr>\n",
       "    <tr>\n",
       "      <th>2</th>\n",
       "      <td>AACHEN, Hans von</td>\n",
       "      <td>(b. 1552, Köln, d. 1615, Praha)</td>\n",
       "      <td>Allegory of Peace, Art and Abundance</td>\n",
       "      <td>1602</td>\n",
       "      <td>Oil on canvas, 197 x 142 cm</td>\n",
       "      <td>The Hermitage, St. Petersburg</td>\n",
       "      <td>https://www.wga.hu/art/a/aachen/allegorz.jpg</td>\n",
       "      <td>painting</td>\n",
       "      <td>mythological</td>\n",
       "      <td>German</td>\n",
       "      <td>1601-1650</td>\n",
       "      <td>[[[125, 104, 59], [94, 72, 37], [63, 39, 16], ...</td>\n",
       "    </tr>\n",
       "    <tr>\n",
       "      <th>3</th>\n",
       "      <td>AACHEN, Hans von</td>\n",
       "      <td>(b. 1552, Köln, d. 1615, Praha)</td>\n",
       "      <td>Jupiter, Antiope and Cupid</td>\n",
       "      <td>1595-98</td>\n",
       "      <td>Oil on copper, 31 x 21 cm</td>\n",
       "      <td>Kunsthistorisches Museum, Vienna</td>\n",
       "      <td>https://www.wga.hu/art/a/aachen/antiope.jpg</td>\n",
       "      <td>painting</td>\n",
       "      <td>mythological</td>\n",
       "      <td>German</td>\n",
       "      <td>1601-1650</td>\n",
       "      <td>[[[56, 49, 43], [49, 42, 36], [63, 56, 50], [7...</td>\n",
       "    </tr>\n",
       "    <tr>\n",
       "      <th>4</th>\n",
       "      <td>AACHEN, Hans von</td>\n",
       "      <td>(b. 1552, Köln, d. 1615, Praha)</td>\n",
       "      <td>Pallas Athena, Venus and Juno</td>\n",
       "      <td>1593</td>\n",
       "      <td>Oil on canvas, 54 x 67 cm</td>\n",
       "      <td>Museum of Fine Arts, Boston</td>\n",
       "      <td>https://www.wga.hu/art/a/aachen/athena.jpg</td>\n",
       "      <td>painting</td>\n",
       "      <td>mythological</td>\n",
       "      <td>German</td>\n",
       "      <td>1601-1650</td>\n",
       "      <td>[[[98, 86, 65], [82, 71, 63], [66, 55, 57], [4...</td>\n",
       "    </tr>\n",
       "  </tbody>\n",
       "</table>\n",
       "</div>"
      ],
      "text/plain": [
       "             AUTHOR                        BORN-DIED  \\\n",
       "0  AACHEN, Hans von  (b. 1552, Köln, d. 1615, Praha)   \n",
       "1  AACHEN, Hans von  (b. 1552, Köln, d. 1615, Praha)   \n",
       "2  AACHEN, Hans von  (b. 1552, Köln, d. 1615, Praha)   \n",
       "3  AACHEN, Hans von  (b. 1552, Köln, d. 1615, Praha)   \n",
       "4  AACHEN, Hans von  (b. 1552, Köln, d. 1615, Praha)   \n",
       "\n",
       "                                  TITLE     DATE                    TECHNIQUE  \\\n",
       "0                      Venus and Adonis  1574-88    Oil on canvas, 68 x 95 cm   \n",
       "1                              Allegory     1598    Oil on copper, 56 x 47 cm   \n",
       "2  Allegory of Peace, Art and Abundance     1602  Oil on canvas, 197 x 142 cm   \n",
       "3            Jupiter, Antiope and Cupid  1595-98    Oil on copper, 31 x 21 cm   \n",
       "4         Pallas Athena, Venus and Juno     1593    Oil on canvas, 54 x 67 cm   \n",
       "\n",
       "                                         LOCATION  \\\n",
       "0  Fogg Art Museum, Harvard University, Cambridge   \n",
       "1                         Alte Pinakothek, Munich   \n",
       "2                   The Hermitage, St. Petersburg   \n",
       "3                Kunsthistorisches Museum, Vienna   \n",
       "4                     Museum of Fine Arts, Boston   \n",
       "\n",
       "                                            URL      FORM          TYPE  \\\n",
       "0    https://www.wga.hu/art/a/aachen/adonis.jpg  painting  mythological   \n",
       "1  https://www.wga.hu/art/a/aachen/allegory.jpg  painting  mythological   \n",
       "2  https://www.wga.hu/art/a/aachen/allegorz.jpg  painting  mythological   \n",
       "3   https://www.wga.hu/art/a/aachen/antiope.jpg  painting  mythological   \n",
       "4    https://www.wga.hu/art/a/aachen/athena.jpg  painting  mythological   \n",
       "\n",
       "   SCHOOL  TIMEFRAME                                              IMAGE  \n",
       "0  German  1601-1650  [[[109, 106, 87], [116, 113, 94], [111, 108, 8...  \n",
       "1  German  1601-1650  [[[95, 89, 77], [81, 76, 64], [68, 65, 53], [5...  \n",
       "2  German  1601-1650  [[[125, 104, 59], [94, 72, 37], [63, 39, 16], ...  \n",
       "3  German  1601-1650  [[[56, 49, 43], [49, 42, 36], [63, 56, 50], [7...  \n",
       "4  German  1601-1650  [[[98, 86, 65], [82, 71, 63], [66, 55, 57], [4...  "
      ]
     },
     "execution_count": 5,
     "metadata": {},
     "output_type": "execute_result"
    }
   ],
   "source": [
    "df_transformed.head()"
   ]
  },
  {
   "cell_type": "markdown",
   "metadata": {},
   "source": [
    "### Built KNN"
   ]
  },
  {
   "cell_type": "code",
   "execution_count": 6,
   "metadata": {},
   "outputs": [],
   "source": [
    "from sklearn.neighbors import NearestNeighbors"
   ]
  },
  {
   "cell_type": "code",
   "execution_count": 7,
   "metadata": {},
   "outputs": [],
   "source": [
    "#load image\n",
    "\n",
    "def load_image(html_link):\n",
    "    jpg_link = get_jpg_link(html_link)\n",
    "    img = jpg_to_array(jpg_link)\n",
    "    #x = np.expand_dims(x, axis=0)\n",
    "    X = resize_image(img,width=420,height=360)\n",
    "    return img, X\n"
   ]
  },
  {
   "cell_type": "code",
   "execution_count": 8,
   "metadata": {},
   "outputs": [
    {
     "name": "stdout",
     "output_type": "stream",
     "text": [
      "shape of x:  (360, 420, 3)\n",
      "data type:  uint8\n"
     ]
    },
    {
     "data": {
      "text/plain": [
       "<matplotlib.image.AxesImage at 0x128ec4f70>"
      ]
     },
     "execution_count": 8,
     "metadata": {},
     "output_type": "execute_result"
    },
    {
     "data": {
      "image/png": "[encoded data removed]",
      "text/plain": [
       "<Figure size 432x288 with 1 Axes>"
      ]
     },
     "metadata": {
      "needs_background": "light"
     },
     "output_type": "display_data"
    }
   ],
   "source": [
    "img, X = load_image(\"https://www.wga.hu/html/a/aachen/gods.html\")\n",
    "print(\"shape of x: \", X.shape)\n",
    "print(\"data type: \", X.dtype)\n",
    "plt.imshow(img)"
   ]
  },
  {
   "cell_type": "code",
   "execution_count": 9,
   "metadata": {},
   "outputs": [],
   "source": [
    "# Read scaled images as numpy arrays\n",
    "images = df_transformed['IMAGE'].iloc[:,]"
   ]
  },
  {
   "cell_type": "code",
   "execution_count": 10,
   "metadata": {},
   "outputs": [
    {
     "data": {
      "text/html": [
       "<div>\n",
       "<style scoped>\n",
       "    .dataframe tbody tr th:only-of-type {\n",
       "        vertical-align: middle;\n",
       "    }\n",
       "\n",
       "    .dataframe tbody tr th {\n",
       "        vertical-align: top;\n",
       "    }\n",
       "\n",
       "    .dataframe thead th {\n",
       "        text-align: right;\n",
       "    }\n",
       "</style>\n",
       "<table border=\"1\" class=\"dataframe\">\n",
       "  <thead>\n",
       "    <tr style=\"text-align: right;\">\n",
       "      <th></th>\n",
       "      <th>0</th>\n",
       "      <th>1</th>\n",
       "      <th>2</th>\n",
       "      <th>3</th>\n",
       "      <th>4</th>\n",
       "      <th>5</th>\n",
       "      <th>6</th>\n",
       "      <th>7</th>\n",
       "      <th>8</th>\n",
       "      <th>9</th>\n",
       "      <th>...</th>\n",
       "      <th>453590</th>\n",
       "      <th>453591</th>\n",
       "      <th>453592</th>\n",
       "      <th>453593</th>\n",
       "      <th>453594</th>\n",
       "      <th>453595</th>\n",
       "      <th>453596</th>\n",
       "      <th>453597</th>\n",
       "      <th>453598</th>\n",
       "      <th>453599</th>\n",
       "    </tr>\n",
       "  </thead>\n",
       "  <tbody>\n",
       "    <tr>\n",
       "      <th>0</th>\n",
       "      <td>109</td>\n",
       "      <td>106</td>\n",
       "      <td>87</td>\n",
       "      <td>116</td>\n",
       "      <td>113</td>\n",
       "      <td>94</td>\n",
       "      <td>111</td>\n",
       "      <td>108</td>\n",
       "      <td>89</td>\n",
       "      <td>75</td>\n",
       "      <td>...</td>\n",
       "      <td>14</td>\n",
       "      <td>42</td>\n",
       "      <td>25</td>\n",
       "      <td>17</td>\n",
       "      <td>44</td>\n",
       "      <td>30</td>\n",
       "      <td>21</td>\n",
       "      <td>50</td>\n",
       "      <td>26</td>\n",
       "      <td>19</td>\n",
       "    </tr>\n",
       "    <tr>\n",
       "      <th>1</th>\n",
       "      <td>95</td>\n",
       "      <td>89</td>\n",
       "      <td>77</td>\n",
       "      <td>81</td>\n",
       "      <td>76</td>\n",
       "      <td>64</td>\n",
       "      <td>68</td>\n",
       "      <td>65</td>\n",
       "      <td>53</td>\n",
       "      <td>52</td>\n",
       "      <td>...</td>\n",
       "      <td>77</td>\n",
       "      <td>135</td>\n",
       "      <td>111</td>\n",
       "      <td>75</td>\n",
       "      <td>131</td>\n",
       "      <td>107</td>\n",
       "      <td>71</td>\n",
       "      <td>125</td>\n",
       "      <td>102</td>\n",
       "      <td>66</td>\n",
       "    </tr>\n",
       "    <tr>\n",
       "      <th>2</th>\n",
       "      <td>125</td>\n",
       "      <td>104</td>\n",
       "      <td>59</td>\n",
       "      <td>94</td>\n",
       "      <td>72</td>\n",
       "      <td>37</td>\n",
       "      <td>63</td>\n",
       "      <td>39</td>\n",
       "      <td>16</td>\n",
       "      <td>62</td>\n",
       "      <td>...</td>\n",
       "      <td>99</td>\n",
       "      <td>149</td>\n",
       "      <td>123</td>\n",
       "      <td>87</td>\n",
       "      <td>156</td>\n",
       "      <td>130</td>\n",
       "      <td>92</td>\n",
       "      <td>160</td>\n",
       "      <td>135</td>\n",
       "      <td>94</td>\n",
       "    </tr>\n",
       "    <tr>\n",
       "      <th>3</th>\n",
       "      <td>56</td>\n",
       "      <td>49</td>\n",
       "      <td>43</td>\n",
       "      <td>49</td>\n",
       "      <td>42</td>\n",
       "      <td>36</td>\n",
       "      <td>63</td>\n",
       "      <td>56</td>\n",
       "      <td>50</td>\n",
       "      <td>78</td>\n",
       "      <td>...</td>\n",
       "      <td>45</td>\n",
       "      <td>91</td>\n",
       "      <td>67</td>\n",
       "      <td>52</td>\n",
       "      <td>81</td>\n",
       "      <td>61</td>\n",
       "      <td>47</td>\n",
       "      <td>79</td>\n",
       "      <td>61</td>\n",
       "      <td>48</td>\n",
       "    </tr>\n",
       "    <tr>\n",
       "      <th>4</th>\n",
       "      <td>98</td>\n",
       "      <td>86</td>\n",
       "      <td>65</td>\n",
       "      <td>82</td>\n",
       "      <td>71</td>\n",
       "      <td>63</td>\n",
       "      <td>66</td>\n",
       "      <td>55</td>\n",
       "      <td>57</td>\n",
       "      <td>42</td>\n",
       "      <td>...</td>\n",
       "      <td>61</td>\n",
       "      <td>85</td>\n",
       "      <td>66</td>\n",
       "      <td>62</td>\n",
       "      <td>74</td>\n",
       "      <td>55</td>\n",
       "      <td>49</td>\n",
       "      <td>82</td>\n",
       "      <td>63</td>\n",
       "      <td>59</td>\n",
       "    </tr>\n",
       "    <tr>\n",
       "      <th>5</th>\n",
       "      <td>37</td>\n",
       "      <td>21</td>\n",
       "      <td>22</td>\n",
       "      <td>38</td>\n",
       "      <td>22</td>\n",
       "      <td>22</td>\n",
       "      <td>39</td>\n",
       "      <td>24</td>\n",
       "      <td>21</td>\n",
       "      <td>42</td>\n",
       "      <td>...</td>\n",
       "      <td>12</td>\n",
       "      <td>5</td>\n",
       "      <td>3</td>\n",
       "      <td>12</td>\n",
       "      <td>10</td>\n",
       "      <td>4</td>\n",
       "      <td>10</td>\n",
       "      <td>13</td>\n",
       "      <td>6</td>\n",
       "      <td>12</td>\n",
       "    </tr>\n",
       "    <tr>\n",
       "      <th>6</th>\n",
       "      <td>5</td>\n",
       "      <td>3</td>\n",
       "      <td>6</td>\n",
       "      <td>5</td>\n",
       "      <td>3</td>\n",
       "      <td>6</td>\n",
       "      <td>5</td>\n",
       "      <td>3</td>\n",
       "      <td>6</td>\n",
       "      <td>5</td>\n",
       "      <td>...</td>\n",
       "      <td>10</td>\n",
       "      <td>30</td>\n",
       "      <td>12</td>\n",
       "      <td>9</td>\n",
       "      <td>13</td>\n",
       "      <td>7</td>\n",
       "      <td>9</td>\n",
       "      <td>13</td>\n",
       "      <td>7</td>\n",
       "      <td>9</td>\n",
       "    </tr>\n",
       "    <tr>\n",
       "      <th>7</th>\n",
       "      <td>31</td>\n",
       "      <td>25</td>\n",
       "      <td>22</td>\n",
       "      <td>28</td>\n",
       "      <td>22</td>\n",
       "      <td>19</td>\n",
       "      <td>30</td>\n",
       "      <td>24</td>\n",
       "      <td>20</td>\n",
       "      <td>27</td>\n",
       "      <td>...</td>\n",
       "      <td>11</td>\n",
       "      <td>20</td>\n",
       "      <td>13</td>\n",
       "      <td>8</td>\n",
       "      <td>18</td>\n",
       "      <td>11</td>\n",
       "      <td>6</td>\n",
       "      <td>20</td>\n",
       "      <td>13</td>\n",
       "      <td>8</td>\n",
       "    </tr>\n",
       "    <tr>\n",
       "      <th>8</th>\n",
       "      <td>47</td>\n",
       "      <td>41</td>\n",
       "      <td>29</td>\n",
       "      <td>47</td>\n",
       "      <td>41</td>\n",
       "      <td>29</td>\n",
       "      <td>47</td>\n",
       "      <td>41</td>\n",
       "      <td>29</td>\n",
       "      <td>48</td>\n",
       "      <td>...</td>\n",
       "      <td>21</td>\n",
       "      <td>43</td>\n",
       "      <td>32</td>\n",
       "      <td>26</td>\n",
       "      <td>43</td>\n",
       "      <td>32</td>\n",
       "      <td>27</td>\n",
       "      <td>42</td>\n",
       "      <td>31</td>\n",
       "      <td>28</td>\n",
       "    </tr>\n",
       "    <tr>\n",
       "      <th>9</th>\n",
       "      <td>122</td>\n",
       "      <td>120</td>\n",
       "      <td>121</td>\n",
       "      <td>67</td>\n",
       "      <td>65</td>\n",
       "      <td>66</td>\n",
       "      <td>17</td>\n",
       "      <td>15</td>\n",
       "      <td>16</td>\n",
       "      <td>11</td>\n",
       "      <td>...</td>\n",
       "      <td>14</td>\n",
       "      <td>15</td>\n",
       "      <td>15</td>\n",
       "      <td>15</td>\n",
       "      <td>12</td>\n",
       "      <td>12</td>\n",
       "      <td>12</td>\n",
       "      <td>13</td>\n",
       "      <td>13</td>\n",
       "      <td>13</td>\n",
       "    </tr>\n",
       "  </tbody>\n",
       "</table>\n",
       "<p>10 rows × 453600 columns</p>\n",
       "</div>"
      ],
      "text/plain": [
       "   0       1       2       3       4       5       6       7       8       \\\n",
       "0     109     106      87     116     113      94     111     108      89   \n",
       "1      95      89      77      81      76      64      68      65      53   \n",
       "2     125     104      59      94      72      37      63      39      16   \n",
       "3      56      49      43      49      42      36      63      56      50   \n",
       "4      98      86      65      82      71      63      66      55      57   \n",
       "5      37      21      22      38      22      22      39      24      21   \n",
       "6       5       3       6       5       3       6       5       3       6   \n",
       "7      31      25      22      28      22      19      30      24      20   \n",
       "8      47      41      29      47      41      29      47      41      29   \n",
       "9     122     120     121      67      65      66      17      15      16   \n",
       "\n",
       "   9       ...  453590  453591  453592  453593  453594  453595  453596  \\\n",
       "0      75  ...      14      42      25      17      44      30      21   \n",
       "1      52  ...      77     135     111      75     131     107      71   \n",
       "2      62  ...      99     149     123      87     156     130      92   \n",
       "3      78  ...      45      91      67      52      81      61      47   \n",
       "4      42  ...      61      85      66      62      74      55      49   \n",
       "5      42  ...      12       5       3      12      10       4      10   \n",
       "6       5  ...      10      30      12       9      13       7       9   \n",
       "7      27  ...      11      20      13       8      18      11       6   \n",
       "8      48  ...      21      43      32      26      43      32      27   \n",
       "9      11  ...      14      15      15      15      12      12      12   \n",
       "\n",
       "   453597  453598  453599  \n",
       "0      50      26      19  \n",
       "1     125     102      66  \n",
       "2     160     135      94  \n",
       "3      79      61      48  \n",
       "4      82      63      59  \n",
       "5      13       6      12  \n",
       "6      13       7       9  \n",
       "7      20      13       8  \n",
       "8      42      31      28  \n",
       "9      13      13      13  \n",
       "\n",
       "[10 rows x 453600 columns]"
      ]
     },
     "execution_count": 10,
     "metadata": {},
     "output_type": "execute_result"
    }
   ],
   "source": [
    "# Flatten so we have ndarrays of shape (108810,)\n",
    "def flatten_images():\n",
    "    \"\"\"Returns df of flattened IMAGE column\"\"\"\n",
    "    flat_images = [image.flatten() for image in images]\n",
    "    \n",
    "    return flat_images\n",
    "    \n",
    "#flatten_images()[1]\n",
    "X_flattened = pd.DataFrame(np.vstack(flatten_images()))\n",
    "X_flattened"
   ]
  },
  {
   "cell_type": "code",
   "execution_count": 11,
   "metadata": {},
   "outputs": [
    {
     "data": {
      "text/plain": [
       "array([[1., 0., 1., 0., 0., 0., 0., 1., 1., 1.],\n",
       "       [1., 1., 1., 0., 0., 1., 0., 0., 1., 0.],\n",
       "       [1., 0., 1., 0., 0., 0., 0., 1., 1., 1.],\n",
       "       [1., 0., 0., 1., 0., 0., 1., 1., 0., 1.],\n",
       "       [1., 0., 0., 0., 1., 1., 1., 0., 1., 0.],\n",
       "       [1., 0., 1., 0., 0., 1., 0., 0., 1., 1.],\n",
       "       [1., 0., 0., 0., 1., 0., 1., 1., 0., 1.],\n",
       "       [1., 0., 0., 1., 0., 0., 1., 1., 0., 1.],\n",
       "       [1., 1., 1., 0., 0., 1., 0., 0., 1., 0.],\n",
       "       [1., 0., 0., 1., 0., 1., 0., 1., 0., 1.]])"
      ]
     },
     "execution_count": 11,
     "metadata": {},
     "output_type": "execute_result"
    }
   ],
   "source": [
    "# fit the KNN model\n",
    "\n",
    "model = NearestNeighbors(n_neighbors=5)\n",
    "model = model.fit(X_flattened)\n",
    "NearestNeighbors(n_neighbors=5)\n",
    "\n",
    "#connections between neighboring points:\n",
    "A = model.kneighbors_graph(X_flattened)\n",
    "A.toarray()"
   ]
  },
  {
   "cell_type": "code",
   "execution_count": 12,
   "metadata": {},
   "outputs": [
    {
     "data": {
      "text/plain": [
       "(array([[    0.        , 37515.61746793, 38147.06809179]]), array([[0, 9, 8]]))"
      ]
     },
     "execution_count": 12,
     "metadata": {},
     "output_type": "execute_result"
    }
   ],
   "source": [
    "test_X = X_flattened.iloc[:1]\n",
    "#test_X = test_X.reshape(1, -1)\n",
    "\n",
    "model.kneighbors(test_X,n_neighbors=3)"
   ]
  },
  {
   "cell_type": "code",
   "execution_count": 13,
   "metadata": {},
   "outputs": [
    {
     "data": {
      "text/html": [
       "<div>\n",
       "<style scoped>\n",
       "    .dataframe tbody tr th:only-of-type {\n",
       "        vertical-align: middle;\n",
       "    }\n",
       "\n",
       "    .dataframe tbody tr th {\n",
       "        vertical-align: top;\n",
       "    }\n",
       "\n",
       "    .dataframe thead th {\n",
       "        text-align: right;\n",
       "    }\n",
       "</style>\n",
       "<table border=\"1\" class=\"dataframe\">\n",
       "  <thead>\n",
       "    <tr style=\"text-align: right;\">\n",
       "      <th></th>\n",
       "      <th>0</th>\n",
       "      <th>1</th>\n",
       "      <th>2</th>\n",
       "      <th>3</th>\n",
       "      <th>4</th>\n",
       "      <th>5</th>\n",
       "      <th>6</th>\n",
       "      <th>7</th>\n",
       "      <th>8</th>\n",
       "      <th>9</th>\n",
       "      <th>...</th>\n",
       "      <th>453590</th>\n",
       "      <th>453591</th>\n",
       "      <th>453592</th>\n",
       "      <th>453593</th>\n",
       "      <th>453594</th>\n",
       "      <th>453595</th>\n",
       "      <th>453596</th>\n",
       "      <th>453597</th>\n",
       "      <th>453598</th>\n",
       "      <th>453599</th>\n",
       "    </tr>\n",
       "  </thead>\n",
       "  <tbody>\n",
       "    <tr>\n",
       "      <th>0</th>\n",
       "      <td>109</td>\n",
       "      <td>106</td>\n",
       "      <td>87</td>\n",
       "      <td>116</td>\n",
       "      <td>113</td>\n",
       "      <td>94</td>\n",
       "      <td>111</td>\n",
       "      <td>108</td>\n",
       "      <td>89</td>\n",
       "      <td>75</td>\n",
       "      <td>...</td>\n",
       "      <td>14</td>\n",
       "      <td>42</td>\n",
       "      <td>25</td>\n",
       "      <td>17</td>\n",
       "      <td>44</td>\n",
       "      <td>30</td>\n",
       "      <td>21</td>\n",
       "      <td>50</td>\n",
       "      <td>26</td>\n",
       "      <td>19</td>\n",
       "    </tr>\n",
       "  </tbody>\n",
       "</table>\n",
       "<p>1 rows × 453600 columns</p>\n",
       "</div>"
      ],
      "text/plain": [
       "   0       1       2       3       4       5       6       7       8       \\\n",
       "0     109     106      87     116     113      94     111     108      89   \n",
       "\n",
       "   9       ...  453590  453591  453592  453593  453594  453595  453596  \\\n",
       "0      75  ...      14      42      25      17      44      30      21   \n",
       "\n",
       "   453597  453598  453599  \n",
       "0      50      26      19  \n",
       "\n",
       "[1 rows x 453600 columns]"
      ]
     },
     "execution_count": 13,
     "metadata": {},
     "output_type": "execute_result"
    }
   ],
   "source": [
    "test_X\n",
    "\n",
    "#df_transformed.iloc[ind_df.iloc[1]]"
   ]
  },
  {
   "cell_type": "code",
   "execution_count": 14,
   "metadata": {},
   "outputs": [
    {
     "data": {
      "text/plain": [
       "array([[    0.        , 37515.61746793, 38147.06809179]])"
      ]
     },
     "execution_count": 14,
     "metadata": {},
     "output_type": "execute_result"
    }
   ],
   "source": [
    "idx_closest = model.kneighbors(test_X,n_neighbors=3)[0]\n",
    "idx_closest"
   ]
  },
  {
   "cell_type": "code",
   "execution_count": 15,
   "metadata": {},
   "outputs": [
    {
     "data": {
      "text/plain": [
       "array([38147.06809179])"
      ]
     },
     "execution_count": 15,
     "metadata": {},
     "output_type": "execute_result"
    }
   ],
   "source": [
    "idx_closest[:,2]"
   ]
  },
  {
   "cell_type": "code",
   "execution_count": 16,
   "metadata": {},
   "outputs": [
    {
     "data": {
      "text/plain": [
       "<matplotlib.image.AxesImage at 0x128f7a550>"
      ]
     },
     "execution_count": 16,
     "metadata": {},
     "output_type": "execute_result"
    },
    {
     "data": {
      "image/png": "[encoded data removed]",
      "text/plain": [
       "<Figure size 432x288 with 1 Axes>"
      ]
     },
     "metadata": {
      "needs_background": "light"
     },
     "output_type": "display_data"
    }
   ],
   "source": [
    "#test_X.reshape(1, 420, 360)\n",
    "\n",
    "new_x = np.array(test_X)\n",
    "plt.imshow(new_x.reshape((420, 360, 3)))"
   ]
  },
  {
   "cell_type": "code",
   "execution_count": 17,
   "metadata": {},
   "outputs": [
    {
     "data": {
      "text/plain": [
       "AUTHOR                                        AACHEN, Hans von\n",
       "BORN-DIED                      (b. 1552, Köln, d. 1615, Praha)\n",
       "TITLE                                      David and Bathsheba\n",
       "DATE                                                   1612-15\n",
       "TECHNIQUE                          Oil on canvas, 128 x 105 cm\n",
       "LOCATION                      Kunsthistorisches Museum, Vienna\n",
       "URL               https://www.wga.hu/art/a/aachen/davidbat.jpg\n",
       "FORM                                                  painting\n",
       "TYPE                                                historical\n",
       "SCHOOL                                                  German\n",
       "TIMEFRAME                                            1601-1650\n",
       "IMAGE        [[[31, 25, 22], [28, 22, 19], [30, 24, 20], [2...\n",
       "Name: 7, dtype: object"
      ]
     },
     "execution_count": 17,
     "metadata": {},
     "output_type": "execute_result"
    }
   ],
   "source": [
    "df_transformed.iloc[7]"
   ]
  },
  {
   "cell_type": "code",
   "execution_count": 18,
   "metadata": {},
   "outputs": [
    {
     "data": {
      "text/html": [
       "<div>\n",
       "<style scoped>\n",
       "    .dataframe tbody tr th:only-of-type {\n",
       "        vertical-align: middle;\n",
       "    }\n",
       "\n",
       "    .dataframe tbody tr th {\n",
       "        vertical-align: top;\n",
       "    }\n",
       "\n",
       "    .dataframe thead th {\n",
       "        text-align: right;\n",
       "    }\n",
       "</style>\n",
       "<table border=\"1\" class=\"dataframe\">\n",
       "  <thead>\n",
       "    <tr style=\"text-align: right;\">\n",
       "      <th></th>\n",
       "      <th>distance</th>\n",
       "    </tr>\n",
       "  </thead>\n",
       "  <tbody>\n",
       "    <tr>\n",
       "      <th>0</th>\n",
       "      <td>0.000000</td>\n",
       "    </tr>\n",
       "    <tr>\n",
       "      <th>1</th>\n",
       "      <td>37515.617468</td>\n",
       "    </tr>\n",
       "    <tr>\n",
       "      <th>2</th>\n",
       "      <td>38147.068092</td>\n",
       "    </tr>\n",
       "    <tr>\n",
       "      <th>3</th>\n",
       "      <td>39009.852115</td>\n",
       "    </tr>\n",
       "    <tr>\n",
       "      <th>4</th>\n",
       "      <td>39656.707402</td>\n",
       "    </tr>\n",
       "  </tbody>\n",
       "</table>\n",
       "</div>"
      ],
      "text/plain": [
       "       distance\n",
       "0      0.000000\n",
       "1  37515.617468\n",
       "2  38147.068092\n",
       "3  39009.852115\n",
       "4  39656.707402"
      ]
     },
     "execution_count": 18,
     "metadata": {},
     "output_type": "execute_result"
    }
   ],
   "source": [
    "# Pass song to model, ask for 11 closest points, and unpack the corresponding indices to a list\n",
    "\n",
    "\n",
    "distance_list = list(model.kneighbors(X_flattened,n_neighbors=5)[0][0])\n",
    "distance_df = pd.DataFrame(distance_list, columns=['distance'])    \n",
    "distance_df\n",
    "\n",
    "\n",
    "\n",
    "# Filter original dataframe with indices list and sort by tempo\n",
    "#df.iloc[ind_list, :].sort_values(by=\"IMAGE\")\n",
    "\n",
    "#function takes as input of flatten images \n",
    "#output df with disatnce"
   ]
  },
  {
   "cell_type": "code",
   "execution_count": 19,
   "metadata": {},
   "outputs": [
    {
     "data": {
      "text/html": [
       "<div>\n",
       "<style scoped>\n",
       "    .dataframe tbody tr th:only-of-type {\n",
       "        vertical-align: middle;\n",
       "    }\n",
       "\n",
       "    .dataframe tbody tr th {\n",
       "        vertical-align: top;\n",
       "    }\n",
       "\n",
       "    .dataframe thead th {\n",
       "        text-align: right;\n",
       "    }\n",
       "</style>\n",
       "<table border=\"1\" class=\"dataframe\">\n",
       "  <thead>\n",
       "    <tr style=\"text-align: right;\">\n",
       "      <th></th>\n",
       "      <th>index</th>\n",
       "    </tr>\n",
       "  </thead>\n",
       "  <tbody>\n",
       "    <tr>\n",
       "      <th>0</th>\n",
       "      <td>0</td>\n",
       "    </tr>\n",
       "    <tr>\n",
       "      <th>1</th>\n",
       "      <td>9</td>\n",
       "    </tr>\n",
       "    <tr>\n",
       "      <th>2</th>\n",
       "      <td>8</td>\n",
       "    </tr>\n",
       "    <tr>\n",
       "      <th>3</th>\n",
       "      <td>7</td>\n",
       "    </tr>\n",
       "    <tr>\n",
       "      <th>4</th>\n",
       "      <td>2</td>\n",
       "    </tr>\n",
       "  </tbody>\n",
       "</table>\n",
       "</div>"
      ],
      "text/plain": [
       "   index\n",
       "0      0\n",
       "1      9\n",
       "2      8\n",
       "3      7\n",
       "4      2"
      ]
     },
     "execution_count": 19,
     "metadata": {},
     "output_type": "execute_result"
    }
   ],
   "source": [
    "ind_list = list(model.kneighbors(X_flattened,n_neighbors=5)[1][0])\n",
    "#ind_list\n",
    "ind_df = pd.DataFrame(ind_list, columns=['index'])    \n",
    "ind_df"
   ]
  },
  {
   "cell_type": "code",
   "execution_count": 20,
   "metadata": {},
   "outputs": [
    {
     "data": {
      "text/html": [
       "<div>\n",
       "<style scoped>\n",
       "    .dataframe tbody tr th:only-of-type {\n",
       "        vertical-align: middle;\n",
       "    }\n",
       "\n",
       "    .dataframe tbody tr th {\n",
       "        vertical-align: top;\n",
       "    }\n",
       "\n",
       "    .dataframe thead th {\n",
       "        text-align: right;\n",
       "    }\n",
       "</style>\n",
       "<table border=\"1\" class=\"dataframe\">\n",
       "  <thead>\n",
       "    <tr style=\"text-align: right;\">\n",
       "      <th></th>\n",
       "      <th>AUTHOR</th>\n",
       "      <th>BORN-DIED</th>\n",
       "      <th>TITLE</th>\n",
       "      <th>DATE</th>\n",
       "      <th>TECHNIQUE</th>\n",
       "      <th>LOCATION</th>\n",
       "      <th>FORM</th>\n",
       "      <th>TYPE</th>\n",
       "      <th>SCHOOL</th>\n",
       "      <th>TIMEFRAME</th>\n",
       "    </tr>\n",
       "  </thead>\n",
       "  <tbody>\n",
       "    <tr>\n",
       "      <th>9</th>\n",
       "      <td>AACHEN, Hans von</td>\n",
       "      <td>(b. 1552, Köln, d. 1615, Praha)</td>\n",
       "      <td>Pan and Selene</td>\n",
       "      <td>1600-05</td>\n",
       "      <td>Oil on panel, 40 x 49 cm</td>\n",
       "      <td>Private collection</td>\n",
       "      <td>painting</td>\n",
       "      <td>mythological</td>\n",
       "      <td>German</td>\n",
       "      <td>1601-1650</td>\n",
       "    </tr>\n",
       "  </tbody>\n",
       "</table>\n",
       "</div>"
      ],
      "text/plain": [
       "             AUTHOR                        BORN-DIED           TITLE     DATE  \\\n",
       "9  AACHEN, Hans von  (b. 1552, Köln, d. 1615, Praha)  Pan and Selene  1600-05   \n",
       "\n",
       "                  TECHNIQUE            LOCATION      FORM          TYPE  \\\n",
       "9  Oil on panel, 40 x 49 cm  Private collection  painting  mythological   \n",
       "\n",
       "   SCHOOL  TIMEFRAME  \n",
       "9  German  1601-1650  "
      ]
     },
     "execution_count": 20,
     "metadata": {},
     "output_type": "execute_result"
    }
   ],
   "source": [
    "details_df = df_transformed.iloc[ind_df.iloc[1]].drop(columns=[\"URL\", \"IMAGE\"])\n",
    "details_df"
   ]
  },
  {
   "cell_type": "code",
   "execution_count": 21,
   "metadata": {},
   "outputs": [],
   "source": [
    "#df.to_dict('details_df')"
   ]
  },
  {
   "cell_type": "code",
   "execution_count": null,
   "metadata": {},
   "outputs": [],
   "source": []
  },
  {
   "cell_type": "code",
   "execution_count": null,
   "metadata": {},
   "outputs": [],
   "source": []
  },
  {
   "cell_type": "code",
   "execution_count": null,
   "metadata": {},
   "outputs": [],
   "source": []
  },
  {
   "cell_type": "code",
   "execution_count": null,
   "metadata": {},
   "outputs": [],
   "source": []
  },
  {
   "cell_type": "code",
   "execution_count": null,
   "metadata": {},
   "outputs": [],
   "source": []
  },
  {
   "cell_type": "code",
   "execution_count": null,
   "metadata": {},
   "outputs": [],
   "source": []
  },
  {
   "cell_type": "code",
   "execution_count": null,
   "metadata": {},
   "outputs": [],
   "source": []
  },
  {
   "cell_type": "code",
   "execution_count": null,
   "metadata": {},
   "outputs": [],
   "source": []
  },
  {
   "cell_type": "code",
   "execution_count": null,
   "metadata": {},
   "outputs": [],
   "source": []
  },
  {
   "cell_type": "code",
   "execution_count": null,
   "metadata": {},
   "outputs": [],
   "source": []
  },
  {
   "cell_type": "code",
   "execution_count": 134,
   "metadata": {},
   "outputs": [
    {
     "data": {
      "text/html": [
       "<div>\n",
       "<style scoped>\n",
       "    .dataframe tbody tr th:only-of-type {\n",
       "        vertical-align: middle;\n",
       "    }\n",
       "\n",
       "    .dataframe tbody tr th {\n",
       "        vertical-align: top;\n",
       "    }\n",
       "\n",
       "    .dataframe thead th {\n",
       "        text-align: right;\n",
       "    }\n",
       "</style>\n",
       "<table border=\"1\" class=\"dataframe\">\n",
       "  <thead>\n",
       "    <tr style=\"text-align: right;\">\n",
       "      <th></th>\n",
       "      <th>0</th>\n",
       "      <th>1</th>\n",
       "      <th>2</th>\n",
       "      <th>3</th>\n",
       "      <th>4</th>\n",
       "      <th>5</th>\n",
       "      <th>6</th>\n",
       "      <th>7</th>\n",
       "      <th>8</th>\n",
       "      <th>9</th>\n",
       "      <th>...</th>\n",
       "      <th>4526</th>\n",
       "      <th>4527</th>\n",
       "      <th>4528</th>\n",
       "      <th>4529</th>\n",
       "      <th>4530</th>\n",
       "      <th>4531</th>\n",
       "      <th>4532</th>\n",
       "      <th>4533</th>\n",
       "      <th>4534</th>\n",
       "      <th>4535</th>\n",
       "    </tr>\n",
       "  </thead>\n",
       "  <tbody>\n",
       "    <tr>\n",
       "      <th>0</th>\n",
       "      <td>0.274510</td>\n",
       "      <td>0.282353</td>\n",
       "      <td>0.188235</td>\n",
       "      <td>0.215686</td>\n",
       "      <td>0.200000</td>\n",
       "      <td>0.164706</td>\n",
       "      <td>0.180392</td>\n",
       "      <td>0.168627</td>\n",
       "      <td>0.149020</td>\n",
       "      <td>0.317647</td>\n",
       "      <td>...</td>\n",
       "      <td>0.078431</td>\n",
       "      <td>0.125490</td>\n",
       "      <td>0.086275</td>\n",
       "      <td>0.078431</td>\n",
       "      <td>0.090196</td>\n",
       "      <td>0.062745</td>\n",
       "      <td>0.039216</td>\n",
       "      <td>0.152941</td>\n",
       "      <td>0.109804</td>\n",
       "      <td>0.094118</td>\n",
       "    </tr>\n",
       "    <tr>\n",
       "      <th>1</th>\n",
       "      <td>0.262745</td>\n",
       "      <td>0.278431</td>\n",
       "      <td>0.211765</td>\n",
       "      <td>0.254902</td>\n",
       "      <td>0.294118</td>\n",
       "      <td>0.250980</td>\n",
       "      <td>0.219608</td>\n",
       "      <td>0.290196</td>\n",
       "      <td>0.243137</td>\n",
       "      <td>0.160784</td>\n",
       "      <td>...</td>\n",
       "      <td>0.156863</td>\n",
       "      <td>0.364706</td>\n",
       "      <td>0.301961</td>\n",
       "      <td>0.203922</td>\n",
       "      <td>0.345098</td>\n",
       "      <td>0.294118</td>\n",
       "      <td>0.231373</td>\n",
       "      <td>0.305882</td>\n",
       "      <td>0.231373</td>\n",
       "      <td>0.164706</td>\n",
       "    </tr>\n",
       "    <tr>\n",
       "      <th>10</th>\n",
       "      <td>0.066667</td>\n",
       "      <td>0.054902</td>\n",
       "      <td>0.027451</td>\n",
       "      <td>0.058824</td>\n",
       "      <td>0.031373</td>\n",
       "      <td>0.007843</td>\n",
       "      <td>0.078431</td>\n",
       "      <td>0.050980</td>\n",
       "      <td>0.027451</td>\n",
       "      <td>0.094118</td>\n",
       "      <td>...</td>\n",
       "      <td>0.000000</td>\n",
       "      <td>0.286275</td>\n",
       "      <td>0.117647</td>\n",
       "      <td>0.050980</td>\n",
       "      <td>0.113725</td>\n",
       "      <td>0.035294</td>\n",
       "      <td>0.000000</td>\n",
       "      <td>0.074510</td>\n",
       "      <td>0.019608</td>\n",
       "      <td>0.019608</td>\n",
       "    </tr>\n",
       "    <tr>\n",
       "      <th>100</th>\n",
       "      <td>0.176471</td>\n",
       "      <td>0.172549</td>\n",
       "      <td>0.164706</td>\n",
       "      <td>0.164706</td>\n",
       "      <td>0.145098</td>\n",
       "      <td>0.121569</td>\n",
       "      <td>0.192157</td>\n",
       "      <td>0.152941</td>\n",
       "      <td>0.149020</td>\n",
       "      <td>0.141176</td>\n",
       "      <td>...</td>\n",
       "      <td>0.243137</td>\n",
       "      <td>0.360784</td>\n",
       "      <td>0.301961</td>\n",
       "      <td>0.274510</td>\n",
       "      <td>0.356863</td>\n",
       "      <td>0.294118</td>\n",
       "      <td>0.298039</td>\n",
       "      <td>0.286275</td>\n",
       "      <td>0.239216</td>\n",
       "      <td>0.239216</td>\n",
       "    </tr>\n",
       "    <tr>\n",
       "      <th>101</th>\n",
       "      <td>0.254902</td>\n",
       "      <td>0.192157</td>\n",
       "      <td>0.094118</td>\n",
       "      <td>0.239216</td>\n",
       "      <td>0.172549</td>\n",
       "      <td>0.101961</td>\n",
       "      <td>0.215686</td>\n",
       "      <td>0.145098</td>\n",
       "      <td>0.098039</td>\n",
       "      <td>0.254902</td>\n",
       "      <td>...</td>\n",
       "      <td>0.105882</td>\n",
       "      <td>0.133333</td>\n",
       "      <td>0.129412</td>\n",
       "      <td>0.121569</td>\n",
       "      <td>0.137255</td>\n",
       "      <td>0.137255</td>\n",
       "      <td>0.129412</td>\n",
       "      <td>0.113725</td>\n",
       "      <td>0.109804</td>\n",
       "      <td>0.094118</td>\n",
       "    </tr>\n",
       "  </tbody>\n",
       "</table>\n",
       "<p>5 rows × 4536 columns</p>\n",
       "</div>"
      ],
      "text/plain": [
       "         0         1         2         3         4         5         6     \\\n",
       "0    0.274510  0.282353  0.188235  0.215686  0.200000  0.164706  0.180392   \n",
       "1    0.262745  0.278431  0.211765  0.254902  0.294118  0.250980  0.219608   \n",
       "10   0.066667  0.054902  0.027451  0.058824  0.031373  0.007843  0.078431   \n",
       "100  0.176471  0.172549  0.164706  0.164706  0.145098  0.121569  0.192157   \n",
       "101  0.254902  0.192157  0.094118  0.239216  0.172549  0.101961  0.215686   \n",
       "\n",
       "         7         8         9     ...      4526      4527      4528  \\\n",
       "0    0.168627  0.149020  0.317647  ...  0.078431  0.125490  0.086275   \n",
       "1    0.290196  0.243137  0.160784  ...  0.156863  0.364706  0.301961   \n",
       "10   0.050980  0.027451  0.094118  ...  0.000000  0.286275  0.117647   \n",
       "100  0.152941  0.149020  0.141176  ...  0.243137  0.360784  0.301961   \n",
       "101  0.145098  0.098039  0.254902  ...  0.105882  0.133333  0.129412   \n",
       "\n",
       "         4529      4530      4531      4532      4533      4534      4535  \n",
       "0    0.078431  0.090196  0.062745  0.039216  0.152941  0.109804  0.094118  \n",
       "1    0.203922  0.345098  0.294118  0.231373  0.305882  0.231373  0.164706  \n",
       "10   0.050980  0.113725  0.035294  0.000000  0.074510  0.019608  0.019608  \n",
       "100  0.274510  0.356863  0.294118  0.298039  0.286275  0.239216  0.239216  \n",
       "101  0.121569  0.137255  0.137255  0.129412  0.113725  0.109804  0.094118  \n",
       "\n",
       "[5 rows x 4536 columns]"
      ]
     },
     "execution_count": 134,
     "metadata": {},
     "output_type": "execute_result"
    }
   ],
   "source": [
    "from google.cloud import storage\n",
    "\n",
    "BUCKET_NAME='vincent-van-bot-bucket'\n",
    "BUCKET_PICKLE_FOLDER='data'\n",
    "PICKLE_PATH='flat_resized_images_100.pkl'\n",
    "\n",
    "\n",
    "def get_pickle(size=100, source='gcp'):\n",
    "    \"\"\"Gets pickle file from source and returns images df\"\"\"\n",
    "    client = storage.Client()\n",
    "\n",
    "    if source == 'local':\n",
    "        path = PICKLE_PATH\n",
    "    elif source == 'gcp':\n",
    "        path = f\"gs://{BUCKET_NAME}/{BUCKET_PICKLE_FOLDER}/{PICKLE_PATH}\"\n",
    "    img_df = pd.read_pickle(path)\n",
    "\n",
    "    return img_df\n",
    "\n",
    "df = get_pickle(size=100, source='gcp')\n",
    "df.head()"
   ]
  },
  {
   "cell_type": "code",
   "execution_count": 108,
   "metadata": {},
   "outputs": [
    {
     "data": {
      "text/plain": [
       "(1, 4536)"
      ]
     },
     "execution_count": 108,
     "metadata": {},
     "output_type": "execute_result"
    }
   ],
   "source": [
    "df.iloc[3:4].shape"
   ]
  },
  {
   "cell_type": "code",
   "execution_count": 217,
   "metadata": {},
   "outputs": [
    {
     "ename": "ImportError",
     "evalue": "cannot import name 'return_closest_image' from 'vincentvanbot.model' (/Users/juliaschmitt/code/JulSchmitt/vincentvanbot/vincentvanbot/model.py)",
     "output_type": "error",
     "traceback": [
      "\u001b[0;31m---------------------------------------------------------------------------\u001b[0m",
      "\u001b[0;31mImportError\u001b[0m                               Traceback (most recent call last)",
      "\u001b[0;32m<ipython-input-217-54a6636d650a>\u001b[0m in \u001b[0;36m<module>\u001b[0;34m\u001b[0m\n\u001b[0;32m----> 1\u001b[0;31m \u001b[0;32mfrom\u001b[0m \u001b[0mvincentvanbot\u001b[0m\u001b[0;34m.\u001b[0m\u001b[0mmodel\u001b[0m \u001b[0;32mimport\u001b[0m \u001b[0mtrain_KNN_model\u001b[0m\u001b[0;34m,\u001b[0m \u001b[0mreturn_closest_image\u001b[0m\u001b[0;34m,\u001b[0m \u001b[0mplot_closest_image\u001b[0m\u001b[0;34m\u001b[0m\u001b[0;34m\u001b[0m\u001b[0m\n\u001b[0m",
      "\u001b[0;31mImportError\u001b[0m: cannot import name 'return_closest_image' from 'vincentvanbot.model' (/Users/juliaschmitt/code/JulSchmitt/vincentvanbot/vincentvanbot/model.py)"
     ]
    }
   ],
   "source": [
    "from vincentvanbot.model import train_KNN_model, return_closest_image, plot_closest_image"
   ]
  },
  {
   "cell_type": "code",
   "execution_count": 121,
   "metadata": {},
   "outputs": [],
   "source": [
    "df_array = np.array(df)"
   ]
  },
  {
   "cell_type": "code",
   "execution_count": 122,
   "metadata": {},
   "outputs": [
    {
     "data": {
      "text/plain": [
       "(100, 4536)"
      ]
     },
     "execution_count": 122,
     "metadata": {},
     "output_type": "execute_result"
    }
   ],
   "source": [
    "# Flatten so we have ndarrays of shape (108810,)\n",
    "\n",
    "\n",
    "def flatten_images():\n",
    "    \"\"\"Returns df of flattened IMAGE column\"\"\"\n",
    "    flat_images = [image.flatten() for image in df_array]\n",
    "    \n",
    "    return flat_images\n",
    "    \n",
    "#flatten_images()[1]\n",
    "X_flattened = pd.DataFrame(np.vstack(flatten_images()))\n",
    "X_flattened.shape"
   ]
  },
  {
   "cell_type": "code",
   "execution_count": 123,
   "metadata": {},
   "outputs": [],
   "source": [
    "knn_model = train_KNN_model(X_flattened, 10)"
   ]
  },
  {
   "cell_type": "code",
   "execution_count": 124,
   "metadata": {},
   "outputs": [
    {
     "data": {
      "text/html": [
       "<div>\n",
       "<style scoped>\n",
       "    .dataframe tbody tr th:only-of-type {\n",
       "        vertical-align: middle;\n",
       "    }\n",
       "\n",
       "    .dataframe tbody tr th {\n",
       "        vertical-align: top;\n",
       "    }\n",
       "\n",
       "    .dataframe thead th {\n",
       "        text-align: right;\n",
       "    }\n",
       "</style>\n",
       "<table border=\"1\" class=\"dataframe\">\n",
       "  <thead>\n",
       "    <tr style=\"text-align: right;\">\n",
       "      <th></th>\n",
       "      <th>distance</th>\n",
       "    </tr>\n",
       "  </thead>\n",
       "  <tbody>\n",
       "    <tr>\n",
       "      <th>0</th>\n",
       "      <td>0.000000</td>\n",
       "    </tr>\n",
       "    <tr>\n",
       "      <th>1</th>\n",
       "      <td>12.097389</td>\n",
       "    </tr>\n",
       "    <tr>\n",
       "      <th>2</th>\n",
       "      <td>12.215402</td>\n",
       "    </tr>\n",
       "    <tr>\n",
       "      <th>3</th>\n",
       "      <td>12.416092</td>\n",
       "    </tr>\n",
       "    <tr>\n",
       "      <th>4</th>\n",
       "      <td>12.460543</td>\n",
       "    </tr>\n",
       "    <tr>\n",
       "      <th>...</th>\n",
       "      <td>...</td>\n",
       "    </tr>\n",
       "    <tr>\n",
       "      <th>95</th>\n",
       "      <td>27.136664</td>\n",
       "    </tr>\n",
       "    <tr>\n",
       "      <th>96</th>\n",
       "      <td>27.606648</td>\n",
       "    </tr>\n",
       "    <tr>\n",
       "      <th>97</th>\n",
       "      <td>27.607588</td>\n",
       "    </tr>\n",
       "    <tr>\n",
       "      <th>98</th>\n",
       "      <td>28.623299</td>\n",
       "    </tr>\n",
       "    <tr>\n",
       "      <th>99</th>\n",
       "      <td>36.289114</td>\n",
       "    </tr>\n",
       "  </tbody>\n",
       "</table>\n",
       "<p>100 rows × 1 columns</p>\n",
       "</div>"
      ],
      "text/plain": [
       "     distance\n",
       "0    0.000000\n",
       "1   12.097389\n",
       "2   12.215402\n",
       "3   12.416092\n",
       "4   12.460543\n",
       "..        ...\n",
       "95  27.136664\n",
       "96  27.606648\n",
       "97  27.607588\n",
       "98  28.623299\n",
       "99  36.289114\n",
       "\n",
       "[100 rows x 1 columns]"
      ]
     },
     "execution_count": 124,
     "metadata": {},
     "output_type": "execute_result"
    }
   ],
   "source": [
    "get_distance(knn_model , X_flattened)"
   ]
  },
  {
   "cell_type": "code",
   "execution_count": 125,
   "metadata": {},
   "outputs": [
    {
     "data": {
      "text/html": [
       "<div>\n",
       "<style scoped>\n",
       "    .dataframe tbody tr th:only-of-type {\n",
       "        vertical-align: middle;\n",
       "    }\n",
       "\n",
       "    .dataframe tbody tr th {\n",
       "        vertical-align: top;\n",
       "    }\n",
       "\n",
       "    .dataframe thead th {\n",
       "        text-align: right;\n",
       "    }\n",
       "</style>\n",
       "<table border=\"1\" class=\"dataframe\">\n",
       "  <thead>\n",
       "    <tr style=\"text-align: right;\">\n",
       "      <th></th>\n",
       "      <th>index</th>\n",
       "    </tr>\n",
       "  </thead>\n",
       "  <tbody>\n",
       "    <tr>\n",
       "      <th>0</th>\n",
       "      <td>0</td>\n",
       "    </tr>\n",
       "    <tr>\n",
       "      <th>1</th>\n",
       "      <td>17</td>\n",
       "    </tr>\n",
       "    <tr>\n",
       "      <th>2</th>\n",
       "      <td>4</td>\n",
       "    </tr>\n",
       "    <tr>\n",
       "      <th>3</th>\n",
       "      <td>8</td>\n",
       "    </tr>\n",
       "    <tr>\n",
       "      <th>4</th>\n",
       "      <td>50</td>\n",
       "    </tr>\n",
       "    <tr>\n",
       "      <th>...</th>\n",
       "      <td>...</td>\n",
       "    </tr>\n",
       "    <tr>\n",
       "      <th>95</th>\n",
       "      <td>86</td>\n",
       "    </tr>\n",
       "    <tr>\n",
       "      <th>96</th>\n",
       "      <td>3</td>\n",
       "    </tr>\n",
       "    <tr>\n",
       "      <th>97</th>\n",
       "      <td>93</td>\n",
       "    </tr>\n",
       "    <tr>\n",
       "      <th>98</th>\n",
       "      <td>90</td>\n",
       "    </tr>\n",
       "    <tr>\n",
       "      <th>99</th>\n",
       "      <td>98</td>\n",
       "    </tr>\n",
       "  </tbody>\n",
       "</table>\n",
       "<p>100 rows × 1 columns</p>\n",
       "</div>"
      ],
      "text/plain": [
       "    index\n",
       "0       0\n",
       "1      17\n",
       "2       4\n",
       "3       8\n",
       "4      50\n",
       "..    ...\n",
       "95     86\n",
       "96      3\n",
       "97     93\n",
       "98     90\n",
       "99     98\n",
       "\n",
       "[100 rows x 1 columns]"
      ]
     },
     "execution_count": 125,
     "metadata": {},
     "output_type": "execute_result"
    }
   ],
   "source": [
    "get_indexes(knn_model, X_flattened)"
   ]
  },
  {
   "cell_type": "markdown",
   "metadata": {},
   "source": [
    "### testing with random input image "
   ]
  },
  {
   "cell_type": "code",
   "execution_count": 126,
   "metadata": {},
   "outputs": [
    {
     "data": {
      "text/plain": [
       "<matplotlib.image.AxesImage at 0x12d5797f0>"
      ]
     },
     "execution_count": 126,
     "metadata": {},
     "output_type": "execute_result"
    },
    {
     "data": {
      "image/png": "[encoded data removed]",
      "text/plain": [
       "<Figure size 432x288 with 1 Axes>"
      ]
     },
     "metadata": {
      "needs_background": "light"
     },
     "output_type": "display_data"
    }
   ],
   "source": [
    "# select input image \n",
    "j_test = X_flattened.iloc[5:6]\n",
    "\n",
    "#plot input image \n",
    "input_img = np.array(j_test)\n",
    "plt.imshow(input_img.reshape((42, 36, 3)))"
   ]
  },
  {
   "cell_type": "code",
   "execution_count": 168,
   "metadata": {},
   "outputs": [],
   "source": [
    "df_closest_images = return_closest_image(df, knn_model, j_test)"
   ]
  },
  {
   "cell_type": "code",
   "execution_count": 170,
   "metadata": {},
   "outputs": [
    {
     "data": {
      "image/png": "[encoded data removed]",
      "text/plain": [
       "<Figure size 432x288 with 1 Axes>"
      ]
     },
     "metadata": {
      "needs_background": "light"
     },
     "output_type": "display_data"
    }
   ],
   "source": [
    "plot_closest_image(df_closest_images)"
   ]
  },
  {
   "cell_type": "code",
   "execution_count": 103,
   "metadata": {},
   "outputs": [
    {
     "name": "stdout",
     "output_type": "stream",
     "text": [
      "[5, 17, 50, 0, 28]\n"
     ]
    },
    {
     "data": {
      "text/html": [
       "<div>\n",
       "<style scoped>\n",
       "    .dataframe tbody tr th:only-of-type {\n",
       "        vertical-align: middle;\n",
       "    }\n",
       "\n",
       "    .dataframe tbody tr th {\n",
       "        vertical-align: top;\n",
       "    }\n",
       "\n",
       "    .dataframe thead th {\n",
       "        text-align: right;\n",
       "    }\n",
       "</style>\n",
       "<table border=\"1\" class=\"dataframe\">\n",
       "  <thead>\n",
       "    <tr style=\"text-align: right;\">\n",
       "      <th></th>\n",
       "      <th>0</th>\n",
       "      <th>1</th>\n",
       "      <th>2</th>\n",
       "      <th>3</th>\n",
       "      <th>4</th>\n",
       "      <th>5</th>\n",
       "      <th>6</th>\n",
       "      <th>7</th>\n",
       "      <th>8</th>\n",
       "      <th>9</th>\n",
       "      <th>...</th>\n",
       "      <th>4526</th>\n",
       "      <th>4527</th>\n",
       "      <th>4528</th>\n",
       "      <th>4529</th>\n",
       "      <th>4530</th>\n",
       "      <th>4531</th>\n",
       "      <th>4532</th>\n",
       "      <th>4533</th>\n",
       "      <th>4534</th>\n",
       "      <th>4535</th>\n",
       "    </tr>\n",
       "  </thead>\n",
       "  <tbody>\n",
       "    <tr>\n",
       "      <th>103</th>\n",
       "      <td>0.156863</td>\n",
       "      <td>0.160784</td>\n",
       "      <td>0.168627</td>\n",
       "      <td>0.160784</td>\n",
       "      <td>0.156863</td>\n",
       "      <td>0.137255</td>\n",
       "      <td>0.192157</td>\n",
       "      <td>0.164706</td>\n",
       "      <td>0.125490</td>\n",
       "      <td>0.200000</td>\n",
       "      <td>...</td>\n",
       "      <td>0.098039</td>\n",
       "      <td>0.109804</td>\n",
       "      <td>0.105882</td>\n",
       "      <td>0.098039</td>\n",
       "      <td>0.286275</td>\n",
       "      <td>0.274510</td>\n",
       "      <td>0.207843</td>\n",
       "      <td>0.274510</td>\n",
       "      <td>0.243137</td>\n",
       "      <td>0.168627</td>\n",
       "    </tr>\n",
       "    <tr>\n",
       "      <th>12</th>\n",
       "      <td>0.117647</td>\n",
       "      <td>0.070588</td>\n",
       "      <td>0.015686</td>\n",
       "      <td>0.133333</td>\n",
       "      <td>0.090196</td>\n",
       "      <td>0.066667</td>\n",
       "      <td>0.121569</td>\n",
       "      <td>0.082353</td>\n",
       "      <td>0.043137</td>\n",
       "      <td>0.141176</td>\n",
       "      <td>...</td>\n",
       "      <td>0.074510</td>\n",
       "      <td>0.082353</td>\n",
       "      <td>0.062745</td>\n",
       "      <td>0.047059</td>\n",
       "      <td>0.184314</td>\n",
       "      <td>0.164706</td>\n",
       "      <td>0.149020</td>\n",
       "      <td>0.090196</td>\n",
       "      <td>0.062745</td>\n",
       "      <td>0.039216</td>\n",
       "    </tr>\n",
       "    <tr>\n",
       "      <th>18</th>\n",
       "      <td>0.109804</td>\n",
       "      <td>0.105882</td>\n",
       "      <td>0.098039</td>\n",
       "      <td>0.098039</td>\n",
       "      <td>0.098039</td>\n",
       "      <td>0.090196</td>\n",
       "      <td>0.098039</td>\n",
       "      <td>0.098039</td>\n",
       "      <td>0.090196</td>\n",
       "      <td>0.086275</td>\n",
       "      <td>...</td>\n",
       "      <td>0.109804</td>\n",
       "      <td>0.101961</td>\n",
       "      <td>0.105882</td>\n",
       "      <td>0.082353</td>\n",
       "      <td>0.145098</td>\n",
       "      <td>0.149020</td>\n",
       "      <td>0.125490</td>\n",
       "      <td>0.105882</td>\n",
       "      <td>0.109804</td>\n",
       "      <td>0.086275</td>\n",
       "    </tr>\n",
       "    <tr>\n",
       "      <th>0</th>\n",
       "      <td>0.274510</td>\n",
       "      <td>0.282353</td>\n",
       "      <td>0.188235</td>\n",
       "      <td>0.215686</td>\n",
       "      <td>0.200000</td>\n",
       "      <td>0.164706</td>\n",
       "      <td>0.180392</td>\n",
       "      <td>0.168627</td>\n",
       "      <td>0.149020</td>\n",
       "      <td>0.317647</td>\n",
       "      <td>...</td>\n",
       "      <td>0.078431</td>\n",
       "      <td>0.125490</td>\n",
       "      <td>0.086275</td>\n",
       "      <td>0.078431</td>\n",
       "      <td>0.090196</td>\n",
       "      <td>0.062745</td>\n",
       "      <td>0.039216</td>\n",
       "      <td>0.152941</td>\n",
       "      <td>0.109804</td>\n",
       "      <td>0.094118</td>\n",
       "    </tr>\n",
       "    <tr>\n",
       "      <th>13</th>\n",
       "      <td>0.129412</td>\n",
       "      <td>0.121569</td>\n",
       "      <td>0.039216</td>\n",
       "      <td>0.160784</td>\n",
       "      <td>0.149020</td>\n",
       "      <td>0.074510</td>\n",
       "      <td>0.137255</td>\n",
       "      <td>0.109804</td>\n",
       "      <td>0.047059</td>\n",
       "      <td>0.145098</td>\n",
       "      <td>...</td>\n",
       "      <td>0.047059</td>\n",
       "      <td>0.145098</td>\n",
       "      <td>0.133333</td>\n",
       "      <td>0.058824</td>\n",
       "      <td>0.105882</td>\n",
       "      <td>0.113725</td>\n",
       "      <td>0.031373</td>\n",
       "      <td>0.141176</td>\n",
       "      <td>0.129412</td>\n",
       "      <td>0.054902</td>\n",
       "    </tr>\n",
       "  </tbody>\n",
       "</table>\n",
       "<p>5 rows × 4536 columns</p>\n",
       "</div>"
      ],
      "text/plain": [
       "         0         1         2         3         4         5         6     \\\n",
       "103  0.156863  0.160784  0.168627  0.160784  0.156863  0.137255  0.192157   \n",
       "12   0.117647  0.070588  0.015686  0.133333  0.090196  0.066667  0.121569   \n",
       "18   0.109804  0.105882  0.098039  0.098039  0.098039  0.090196  0.098039   \n",
       "0    0.274510  0.282353  0.188235  0.215686  0.200000  0.164706  0.180392   \n",
       "13   0.129412  0.121569  0.039216  0.160784  0.149020  0.074510  0.137255   \n",
       "\n",
       "         7         8         9     ...      4526      4527      4528  \\\n",
       "103  0.164706  0.125490  0.200000  ...  0.098039  0.109804  0.105882   \n",
       "12   0.082353  0.043137  0.141176  ...  0.074510  0.082353  0.062745   \n",
       "18   0.098039  0.090196  0.086275  ...  0.109804  0.101961  0.105882   \n",
       "0    0.168627  0.149020  0.317647  ...  0.078431  0.125490  0.086275   \n",
       "13   0.109804  0.047059  0.145098  ...  0.047059  0.145098  0.133333   \n",
       "\n",
       "         4529      4530      4531      4532      4533      4534      4535  \n",
       "103  0.098039  0.286275  0.274510  0.207843  0.274510  0.243137  0.168627  \n",
       "12   0.047059  0.184314  0.164706  0.149020  0.090196  0.062745  0.039216  \n",
       "18   0.082353  0.145098  0.149020  0.125490  0.105882  0.109804  0.086275  \n",
       "0    0.078431  0.090196  0.062745  0.039216  0.152941  0.109804  0.094118  \n",
       "13   0.058824  0.105882  0.113725  0.031373  0.141176  0.129412  0.054902  \n",
       "\n",
       "[5 rows x 4536 columns]"
      ]
     },
     "execution_count": 103,
     "metadata": {},
     "output_type": "execute_result"
    }
   ],
   "source": [
    "# Pass song to model, ask for 11 closest points, and unpack the corresponding indices to a list\n",
    "ind_list = list(knn_model.kneighbors(j_test,n_neighbors=5)[1][0])\n",
    "print(ind_list)\n",
    "# Filter original dataframe with indices list and sort by tempo\n",
    "df.iloc[ind_list, :] #.sort_values(by=\"distance\")"
   ]
  },
  {
   "cell_type": "code",
   "execution_count": 216,
   "metadata": {},
   "outputs": [
    {
     "ename": "TypeError",
     "evalue": "get_URL() takes 0 positional arguments but 2 were given",
     "output_type": "error",
     "traceback": [
      "\u001b[0;31m---------------------------------------------------------------------------\u001b[0m",
      "\u001b[0;31mTypeError\u001b[0m                                 Traceback (most recent call last)",
      "\u001b[0;32m<ipython-input-216-dbe2061e9d82>\u001b[0m in \u001b[0;36m<module>\u001b[0;34m\u001b[0m\n\u001b[0;32m----> 1\u001b[0;31m \u001b[0mget_URL\u001b[0m\u001b[0;34m(\u001b[0m\u001b[0mind_list\u001b[0m\u001b[0;34m,\u001b[0m \u001b[0mdf_transformed\u001b[0m\u001b[0;34m)\u001b[0m\u001b[0;34m\u001b[0m\u001b[0;34m\u001b[0m\u001b[0m\n\u001b[0m",
      "\u001b[0;31mTypeError\u001b[0m: get_URL() takes 0 positional arguments but 2 were given"
     ]
    }
   ],
   "source": [
    "get_URL(ind_list, df_transformed)"
   ]
  },
  {
   "cell_type": "code",
   "execution_count": 215,
   "metadata": {},
   "outputs": [
    {
     "data": {
      "text/plain": [
       "<function __main__.get_URL()>"
      ]
     },
     "execution_count": 215,
     "metadata": {},
     "output_type": "execute_result"
    }
   ],
   "source": [
    "# get URL for closest images\n",
    "def get_URL():\n",
    "    for i in ind_list:\n",
    "        #URL = df_transformed.iloc[i] # original dataframe \n",
    "        print(i)\n",
    "    #return URL\n",
    "get_URL\n"
   ]
  },
  {
   "cell_type": "code",
   "execution_count": 140,
   "metadata": {},
   "outputs": [],
   "source": [
    "# plot closest output image \n",
    "\n",
    "closest_img = np.array(df.iloc[1:2])\n",
    "#plt.imshow(closest_img.reshape((42, 36, 3)))"
   ]
  },
  {
   "cell_type": "code",
   "execution_count": 161,
   "metadata": {},
   "outputs": [],
   "source": [
    "def return_closest_image(df, knn_model, X_test):\n",
    "    \"\"\"Filters original dataframe with indices and returns reduced dataframe\"\"\"\n",
    "    ind_list = list(knn_model.kneighbors(X_test,n_neighbors=5)[1][0]) # get n closest points, unpack indices to a list\n",
    "    df_closest_images = df.iloc[ind_list, :] # filter original df with indices. Sort by distance - default??\n",
    "\n",
    "    return df_closest_images\n",
    "\n",
    "\n",
    "def plot_closest_image(df_closest_images):\n",
    "    closest_img = np.array(df_closest_images.iloc[1:2]) #note that first image is input image\n",
    "    plt.imshow(closest_img.reshape((42, 36, 3)))\n"
   ]
  },
  {
   "cell_type": "code",
   "execution_count": 164,
   "metadata": {},
   "outputs": [
    {
     "data": {
      "image/png": "[encoded data removed]",
      "text/plain": [
       "<Figure size 432x288 with 1 Axes>"
      ]
     },
     "metadata": {
      "needs_background": "light"
     },
     "output_type": "display_data"
    }
   ],
   "source": [
    "plot_closest_images(df, df_closest_images)"
   ]
  },
  {
   "cell_type": "code",
   "execution_count": null,
   "metadata": {},
   "outputs": [],
   "source": [
    "def plot_closest_images(df_closest_images):\n",
    "    for i in df_closest_images:\n",
    "        closest_img = np.array(i) #note that first image is input image\n",
    "        plt.imshow(closest_img.reshape((42, 36, 3)))\n",
    "    \n"
   ]
  },
  {
   "cell_type": "code",
   "execution_count": 179,
   "metadata": {},
   "outputs": [
    {
     "name": "stdout",
     "output_type": "stream",
     "text": [
      "[12.926823084739853, 13.014196020680577, 13.27345009320033, 13.378415533367043]\n"
     ]
    }
   ],
   "source": [
    "ind_list = list(knn_model.kneighbors(j_test,n_neighbors=5)[0][0])[1:]\n",
    "print(ind_list)"
   ]
  },
  {
   "cell_type": "code",
   "execution_count": 191,
   "metadata": {},
   "outputs": [
    {
     "data": {
      "text/html": [
       "<div>\n",
       "<style scoped>\n",
       "    .dataframe tbody tr th:only-of-type {\n",
       "        vertical-align: middle;\n",
       "    }\n",
       "\n",
       "    .dataframe tbody tr th {\n",
       "        vertical-align: top;\n",
       "    }\n",
       "\n",
       "    .dataframe thead th {\n",
       "        text-align: right;\n",
       "    }\n",
       "</style>\n",
       "<table border=\"1\" class=\"dataframe\">\n",
       "  <thead>\n",
       "    <tr style=\"text-align: right;\">\n",
       "      <th></th>\n",
       "      <th>0</th>\n",
       "      <th>1</th>\n",
       "      <th>2</th>\n",
       "      <th>3</th>\n",
       "      <th>4</th>\n",
       "      <th>5</th>\n",
       "      <th>6</th>\n",
       "      <th>7</th>\n",
       "      <th>8</th>\n",
       "      <th>9</th>\n",
       "      <th>...</th>\n",
       "      <th>4526</th>\n",
       "      <th>4527</th>\n",
       "      <th>4528</th>\n",
       "      <th>4529</th>\n",
       "      <th>4530</th>\n",
       "      <th>4531</th>\n",
       "      <th>4532</th>\n",
       "      <th>4533</th>\n",
       "      <th>4534</th>\n",
       "      <th>4535</th>\n",
       "    </tr>\n",
       "  </thead>\n",
       "  <tbody>\n",
       "    <tr>\n",
       "      <th>12</th>\n",
       "      <td>0.117647</td>\n",
       "      <td>0.070588</td>\n",
       "      <td>0.015686</td>\n",
       "      <td>0.133333</td>\n",
       "      <td>0.090196</td>\n",
       "      <td>0.066667</td>\n",
       "      <td>0.121569</td>\n",
       "      <td>0.082353</td>\n",
       "      <td>0.043137</td>\n",
       "      <td>0.141176</td>\n",
       "      <td>...</td>\n",
       "      <td>0.07451</td>\n",
       "      <td>0.082353</td>\n",
       "      <td>0.062745</td>\n",
       "      <td>0.047059</td>\n",
       "      <td>0.184314</td>\n",
       "      <td>0.164706</td>\n",
       "      <td>0.14902</td>\n",
       "      <td>0.090196</td>\n",
       "      <td>0.062745</td>\n",
       "      <td>0.039216</td>\n",
       "    </tr>\n",
       "  </tbody>\n",
       "</table>\n",
       "<p>1 rows × 4536 columns</p>\n",
       "</div>"
      ],
      "text/plain": [
       "        0         1         2         3         4         5         6     \\\n",
       "12  0.117647  0.070588  0.015686  0.133333  0.090196  0.066667  0.121569   \n",
       "\n",
       "        7         8         9     ...     4526      4527      4528      4529  \\\n",
       "12  0.082353  0.043137  0.141176  ...  0.07451  0.082353  0.062745  0.047059   \n",
       "\n",
       "        4530      4531     4532      4533      4534      4535  \n",
       "12  0.184314  0.164706  0.14902  0.090196  0.062745  0.039216  \n",
       "\n",
       "[1 rows x 4536 columns]"
      ]
     },
     "execution_count": 191,
     "metadata": {},
     "output_type": "execute_result"
    }
   ],
   "source": [
    "df_closest_images.iloc[1:2]"
   ]
  },
  {
   "cell_type": "code",
   "execution_count": 181,
   "metadata": {},
   "outputs": [
    {
     "data": {
      "text/plain": [
       "array([[0.11764706, 0.07058824, 0.01568628, ..., 0.09019608, 0.0627451 ,\n",
       "        0.03921569]], dtype=float32)"
      ]
     },
     "execution_count": 181,
     "metadata": {},
     "output_type": "execute_result"
    }
   ],
   "source": [
    "np.array(df_closest_images.iloc[1:2])"
   ]
  },
  {
   "cell_type": "code",
   "execution_count": 207,
   "metadata": {},
   "outputs": [
    {
     "ename": "NameError",
     "evalue": "name 'iloc' is not defined",
     "output_type": "error",
     "traceback": [
      "\u001b[0;31m---------------------------------------------------------------------------\u001b[0m",
      "\u001b[0;31mNameError\u001b[0m                                 Traceback (most recent call last)",
      "\u001b[0;32m<ipython-input-207-f5eb11a1bb35>\u001b[0m in \u001b[0;36m<module>\u001b[0;34m\u001b[0m\n\u001b[1;32m      1\u001b[0m \u001b[0;32mfor\u001b[0m \u001b[0mrow\u001b[0m \u001b[0;32min\u001b[0m \u001b[0mdf_closest_images\u001b[0m\u001b[0;34m:\u001b[0m\u001b[0;34m\u001b[0m\u001b[0;34m\u001b[0m\u001b[0m\n\u001b[0;32m----> 2\u001b[0;31m     \u001b[0mprint\u001b[0m\u001b[0;34m(\u001b[0m\u001b[0miloc\u001b[0m\u001b[0;34m(\u001b[0m\u001b[0mrow\u001b[0m\u001b[0;34m)\u001b[0m\u001b[0;34m)\u001b[0m\u001b[0;34m\u001b[0m\u001b[0;34m\u001b[0m\u001b[0m\n\u001b[0m\u001b[1;32m      3\u001b[0m \u001b[0;34m\u001b[0m\u001b[0m\n\u001b[1;32m      4\u001b[0m     \u001b[0;31m#plt.imshow(closest_imgs.reshape((42, 36, 3)))\u001b[0m\u001b[0;34m\u001b[0m\u001b[0;34m\u001b[0m\u001b[0;34m\u001b[0m\u001b[0m\n",
      "\u001b[0;31mNameError\u001b[0m: name 'iloc' is not defined"
     ]
    }
   ],
   "source": [
    "def get_URL(ind_list, df_transformed):\n",
    "    for i in ind_list:\n",
    "        df_transformed.iloc[i] # original dataframe\n",
    "    #plt.imshow(closest_imgs.reshape((42, 36, 3)))"
   ]
  },
  {
   "cell_type": "code",
   "execution_count": null,
   "metadata": {},
   "outputs": [],
   "source": []
  }
 ],
 "metadata": {
  "kernelspec": {
   "display_name": "Python 3",
   "language": "python",
   "name": "python3"
  },
  "language_info": {
   "codemirror_mode": {
    "name": "ipython",
    "version": 3
   },
   "file_extension": ".py",
   "mimetype": "text/x-python",
   "name": "python",
   "nbconvert_exporter": "python",
   "pygments_lexer": "ipython3",
   "version": "3.8.6"
  },
  "toc": {
   "base_numbering": 1,
   "nav_menu": {},
   "number_sections": true,
   "sideBar": true,
   "skip_h1_title": false,
   "title_cell": "Table of Contents",
   "title_sidebar": "Contents",
   "toc_cell": false,
   "toc_position": {},
   "toc_section_display": true,
   "toc_window_display": false
  }
 },
 "nbformat": 4,
 "nbformat_minor": 5
}
