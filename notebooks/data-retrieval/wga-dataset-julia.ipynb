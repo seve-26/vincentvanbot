{
 "cells": [
  {
   "cell_type": "code",
   "execution_count": 1,
   "metadata": {},
   "outputs": [],
   "source": [
    "import pandas as pd\n",
    "import os\n",
    "import matplotlib.pyplot as plt\n",
    "import numpy as np\n",
    "import random "
   ]
  },
  {
   "cell_type": "markdown",
   "metadata": {},
   "source": [
    "# Paintings"
   ]
  },
  {
   "cell_type": "markdown",
   "metadata": {
    "heading_collapsed": true
   },
   "source": [
    "## Get data"
   ]
  },
  {
   "cell_type": "markdown",
   "metadata": {
    "heading_collapsed": true,
    "hidden": true
   },
   "source": [
    "### Import data in your notebook"
   ]
  },
  {
   "cell_type": "code",
   "execution_count": 2,
   "metadata": {},
   "outputs": [],
   "source": [
    "from vincentvanbot.data import get_data_locally\n",
    "from vincentvanbot.preprocessing.utils import jpg_to_array\n",
    "from sklearn.pipeline import Pipeline\n",
    "from vincentvanbot.preprocessing.imagevectorizer import ImageVectorizer\n",
    "from vincentvanbot.preprocessing.imageresizer import ImageResizer\n",
    "import cv2\n",
    "from vincentvanbot.preprocessing.utils import get_jpg_link\n",
    "from vincentvanbot.preprocessing.pipeline import build_pipe"
   ]
  },
  {
   "cell_type": "code",
   "execution_count": 3,
   "metadata": {},
   "outputs": [
    {
     "data": {
      "text/plain": [
       "(10, 12)"
      ]
     },
     "execution_count": 3,
     "metadata": {},
     "output_type": "execute_result"
    }
   ],
   "source": [
    "df = get_data_locally()\n",
    "pipe = build_pipe(dim=(420,360))\n",
    "df_transformed = pipe.fit_transform(df)\n",
    "df_transformed.shape"
   ]
  },
  {
   "cell_type": "code",
   "execution_count": 4,
   "metadata": {},
   "outputs": [
    {
     "data": {
      "text/html": [
       "<div>\n",
       "<style scoped>\n",
       "    .dataframe tbody tr th:only-of-type {\n",
       "        vertical-align: middle;\n",
       "    }\n",
       "\n",
       "    .dataframe tbody tr th {\n",
       "        vertical-align: top;\n",
       "    }\n",
       "\n",
       "    .dataframe thead th {\n",
       "        text-align: right;\n",
       "    }\n",
       "</style>\n",
       "<table border=\"1\" class=\"dataframe\">\n",
       "  <thead>\n",
       "    <tr style=\"text-align: right;\">\n",
       "      <th></th>\n",
       "      <th>AUTHOR</th>\n",
       "      <th>BORN-DIED</th>\n",
       "      <th>TITLE</th>\n",
       "      <th>DATE</th>\n",
       "      <th>TECHNIQUE</th>\n",
       "      <th>LOCATION</th>\n",
       "      <th>URL</th>\n",
       "      <th>FORM</th>\n",
       "      <th>TYPE</th>\n",
       "      <th>SCHOOL</th>\n",
       "      <th>TIMEFRAME</th>\n",
       "      <th>IMAGE</th>\n",
       "    </tr>\n",
       "  </thead>\n",
       "  <tbody>\n",
       "    <tr>\n",
       "      <th>0</th>\n",
       "      <td>AACHEN, Hans von</td>\n",
       "      <td>(b. 1552, Köln, d. 1615, Praha)</td>\n",
       "      <td>Venus and Adonis</td>\n",
       "      <td>1574-88</td>\n",
       "      <td>Oil on canvas, 68 x 95 cm</td>\n",
       "      <td>Fogg Art Museum, Harvard University, Cambridge</td>\n",
       "      <td>https://www.wga.hu/art/a/aachen/adonis.jpg</td>\n",
       "      <td>painting</td>\n",
       "      <td>mythological</td>\n",
       "      <td>German</td>\n",
       "      <td>1601-1650</td>\n",
       "      <td>[[[109, 106, 87], [116, 113, 94], [111, 108, 8...</td>\n",
       "    </tr>\n",
       "    <tr>\n",
       "      <th>1</th>\n",
       "      <td>AACHEN, Hans von</td>\n",
       "      <td>(b. 1552, Köln, d. 1615, Praha)</td>\n",
       "      <td>Allegory</td>\n",
       "      <td>1598</td>\n",
       "      <td>Oil on copper, 56 x 47 cm</td>\n",
       "      <td>Alte Pinakothek, Munich</td>\n",
       "      <td>https://www.wga.hu/art/a/aachen/allegory.jpg</td>\n",
       "      <td>painting</td>\n",
       "      <td>mythological</td>\n",
       "      <td>German</td>\n",
       "      <td>1601-1650</td>\n",
       "      <td>[[[95, 89, 77], [81, 76, 64], [68, 65, 53], [5...</td>\n",
       "    </tr>\n",
       "    <tr>\n",
       "      <th>2</th>\n",
       "      <td>AACHEN, Hans von</td>\n",
       "      <td>(b. 1552, Köln, d. 1615, Praha)</td>\n",
       "      <td>Allegory of Peace, Art and Abundance</td>\n",
       "      <td>1602</td>\n",
       "      <td>Oil on canvas, 197 x 142 cm</td>\n",
       "      <td>The Hermitage, St. Petersburg</td>\n",
       "      <td>https://www.wga.hu/art/a/aachen/allegorz.jpg</td>\n",
       "      <td>painting</td>\n",
       "      <td>mythological</td>\n",
       "      <td>German</td>\n",
       "      <td>1601-1650</td>\n",
       "      <td>[[[125, 104, 59], [94, 72, 37], [63, 39, 16], ...</td>\n",
       "    </tr>\n",
       "    <tr>\n",
       "      <th>3</th>\n",
       "      <td>AACHEN, Hans von</td>\n",
       "      <td>(b. 1552, Köln, d. 1615, Praha)</td>\n",
       "      <td>Jupiter, Antiope and Cupid</td>\n",
       "      <td>1595-98</td>\n",
       "      <td>Oil on copper, 31 x 21 cm</td>\n",
       "      <td>Kunsthistorisches Museum, Vienna</td>\n",
       "      <td>https://www.wga.hu/art/a/aachen/antiope.jpg</td>\n",
       "      <td>painting</td>\n",
       "      <td>mythological</td>\n",
       "      <td>German</td>\n",
       "      <td>1601-1650</td>\n",
       "      <td>[[[56, 49, 43], [49, 42, 36], [63, 56, 50], [7...</td>\n",
       "    </tr>\n",
       "    <tr>\n",
       "      <th>4</th>\n",
       "      <td>AACHEN, Hans von</td>\n",
       "      <td>(b. 1552, Köln, d. 1615, Praha)</td>\n",
       "      <td>Pallas Athena, Venus and Juno</td>\n",
       "      <td>1593</td>\n",
       "      <td>Oil on canvas, 54 x 67 cm</td>\n",
       "      <td>Museum of Fine Arts, Boston</td>\n",
       "      <td>https://www.wga.hu/art/a/aachen/athena.jpg</td>\n",
       "      <td>painting</td>\n",
       "      <td>mythological</td>\n",
       "      <td>German</td>\n",
       "      <td>1601-1650</td>\n",
       "      <td>[[[98, 86, 65], [82, 71, 63], [66, 55, 57], [4...</td>\n",
       "    </tr>\n",
       "  </tbody>\n",
       "</table>\n",
       "</div>"
      ],
      "text/plain": [
       "             AUTHOR                        BORN-DIED  \\\n",
       "0  AACHEN, Hans von  (b. 1552, Köln, d. 1615, Praha)   \n",
       "1  AACHEN, Hans von  (b. 1552, Köln, d. 1615, Praha)   \n",
       "2  AACHEN, Hans von  (b. 1552, Köln, d. 1615, Praha)   \n",
       "3  AACHEN, Hans von  (b. 1552, Köln, d. 1615, Praha)   \n",
       "4  AACHEN, Hans von  (b. 1552, Köln, d. 1615, Praha)   \n",
       "\n",
       "                                  TITLE     DATE                    TECHNIQUE  \\\n",
       "0                      Venus and Adonis  1574-88    Oil on canvas, 68 x 95 cm   \n",
       "1                              Allegory     1598    Oil on copper, 56 x 47 cm   \n",
       "2  Allegory of Peace, Art and Abundance     1602  Oil on canvas, 197 x 142 cm   \n",
       "3            Jupiter, Antiope and Cupid  1595-98    Oil on copper, 31 x 21 cm   \n",
       "4         Pallas Athena, Venus and Juno     1593    Oil on canvas, 54 x 67 cm   \n",
       "\n",
       "                                         LOCATION  \\\n",
       "0  Fogg Art Museum, Harvard University, Cambridge   \n",
       "1                         Alte Pinakothek, Munich   \n",
       "2                   The Hermitage, St. Petersburg   \n",
       "3                Kunsthistorisches Museum, Vienna   \n",
       "4                     Museum of Fine Arts, Boston   \n",
       "\n",
       "                                            URL      FORM          TYPE  \\\n",
       "0    https://www.wga.hu/art/a/aachen/adonis.jpg  painting  mythological   \n",
       "1  https://www.wga.hu/art/a/aachen/allegory.jpg  painting  mythological   \n",
       "2  https://www.wga.hu/art/a/aachen/allegorz.jpg  painting  mythological   \n",
       "3   https://www.wga.hu/art/a/aachen/antiope.jpg  painting  mythological   \n",
       "4    https://www.wga.hu/art/a/aachen/athena.jpg  painting  mythological   \n",
       "\n",
       "   SCHOOL  TIMEFRAME                                              IMAGE  \n",
       "0  German  1601-1650  [[[109, 106, 87], [116, 113, 94], [111, 108, 8...  \n",
       "1  German  1601-1650  [[[95, 89, 77], [81, 76, 64], [68, 65, 53], [5...  \n",
       "2  German  1601-1650  [[[125, 104, 59], [94, 72, 37], [63, 39, 16], ...  \n",
       "3  German  1601-1650  [[[56, 49, 43], [49, 42, 36], [63, 56, 50], [7...  \n",
       "4  German  1601-1650  [[[98, 86, 65], [82, 71, 63], [66, 55, 57], [4...  "
      ]
     },
     "execution_count": 4,
     "metadata": {},
     "output_type": "execute_result"
    }
   ],
   "source": [
    "df_transformed.head()"
   ]
  },
  {
   "cell_type": "markdown",
   "metadata": {},
   "source": [
    "### Built KNN"
   ]
  },
  {
   "cell_type": "code",
   "execution_count": 5,
   "metadata": {},
   "outputs": [],
   "source": [
    "from sklearn.neighbors import NearestNeighbors\n",
    "from sklearn.model_selection import train_test_split\n",
    "from sklearn.model_selection import cross_val_score"
   ]
  },
  {
   "cell_type": "code",
   "execution_count": 6,
   "metadata": {},
   "outputs": [
    {
     "data": {
      "text/plain": [
       "0    [[[109, 106, 87], [116, 113, 94], [111, 108, 8...\n",
       "1    [[[95, 89, 77], [81, 76, 64], [68, 65, 53], [5...\n",
       "2    [[[125, 104, 59], [94, 72, 37], [63, 39, 16], ...\n",
       "3    [[[56, 49, 43], [49, 42, 36], [63, 56, 50], [7...\n",
       "4    [[[98, 86, 65], [82, 71, 63], [66, 55, 57], [4...\n",
       "5    [[[37, 21, 22], [38, 22, 22], [39, 24, 21], [4...\n",
       "6    [[[5, 3, 6], [5, 3, 6], [5, 3, 6], [5, 3, 6], ...\n",
       "7    [[[31, 25, 22], [28, 22, 19], [30, 24, 20], [2...\n",
       "8    [[[47, 41, 29], [47, 41, 29], [47, 41, 29], [4...\n",
       "9    [[[122, 120, 121], [67, 65, 66], [17, 15, 16],...\n",
       "Name: IMAGE, dtype: object"
      ]
     },
     "execution_count": 6,
     "metadata": {},
     "output_type": "execute_result"
    }
   ],
   "source": [
    "#print original shape of an image\n",
    "X = df_transformed['IMAGE'].iloc[:,]\n",
    "X"
   ]
  },
  {
   "cell_type": "code",
   "execution_count": 7,
   "metadata": {},
   "outputs": [
    {
     "data": {
      "text/plain": [
       "(10, 45360)"
      ]
     },
     "execution_count": 7,
     "metadata": {},
     "output_type": "execute_result"
    }
   ],
   "source": [
    "for i in df_transformed['IMAGE']:\n",
    "    X_flat = i.reshape(10, -1)\n",
    "    #X_flat = X_flat[1]\n",
    "X_flat.shape"
   ]
  },
  {
   "cell_type": "code",
   "execution_count": 8,
   "metadata": {},
   "outputs": [],
   "source": [
    "#df_transformed.images is a numpy array with 10 numpy arrays 360X420 (feature vectors) representing digits\n",
    "#df_transformed.target ???"
   ]
  },
  {
   "cell_type": "code",
   "execution_count": 9,
   "metadata": {},
   "outputs": [
    {
     "data": {
      "text/plain": [
       "array([[1., 0., 0., 0., 0., 0., 0., 0., 0., 1.],\n",
       "       [0., 1., 0., 0., 0., 0., 0., 0., 0., 1.],\n",
       "       [0., 0., 1., 0., 0., 0., 0., 0., 0., 1.],\n",
       "       [0., 0., 0., 1., 0., 0., 1., 0., 0., 0.],\n",
       "       [0., 0., 0., 0., 1., 0., 0., 0., 0., 1.],\n",
       "       [0., 0., 0., 0., 0., 1., 1., 0., 0., 0.],\n",
       "       [0., 0., 0., 1., 0., 0., 1., 0., 0., 0.],\n",
       "       [0., 0., 0., 0., 0., 0., 0., 1., 0., 1.],\n",
       "       [0., 0., 0., 0., 0., 0., 0., 0., 1., 1.],\n",
       "       [0., 1., 0., 0., 0., 0., 0., 0., 0., 1.]])"
      ]
     },
     "execution_count": 9,
     "metadata": {},
     "output_type": "execute_result"
    }
   ],
   "source": [
    "model = NearestNeighbors(n_neighbors=2)\n",
    "model.fit(X_flat)\n",
    "NearestNeighbors(n_neighbors=2)\n",
    "\n",
    "A = model.kneighbors_graph(X_flat)\n",
    "A.toarray()"
   ]
  },
  {
   "cell_type": "code",
   "execution_count": 60,
   "metadata": {},
   "outputs": [
    {
     "name": "stdout",
     "output_type": "stream",
     "text": [
      "[6, 4, 5, 2, 1]\n",
      "[7, 4, 5, 6, 0]\n",
      "[6, 0, 1, 5, 9]\n",
      "[6, 0, 1, 9, 7]\n",
      "[1, 0, 6, 9, 5]\n",
      "[9, 1, 0, 6, 7]\n",
      "[0, 2, 1, 5, 9]\n",
      "[1, 0, 8, 5, 6]\n",
      "[7, 5, 9, 6, 1]\n",
      "[5, 6, 0, 4, 8]\n",
      "IGRAPH D-W- 10 50 -- \n",
      "+ attr: weight (e)\n"
     ]
    }
   ],
   "source": [
    "from scipy.spatial import distance\n",
    "from igraph import *\n",
    "\n",
    "\n",
    "graph = Graph(directed=True)\n",
    "graph.add_vertices(len(df_transformed['IMAGE']))\n",
    "\n",
    "for i in range(len(df_transformed['IMAGE'])):\n",
    "    distances = [distance.cosine(X_flat[i], feat) for feat in X_flat] #compute distance\n",
    "    idx_closest = sorted(range(len(distances)), key=lambda k: distances[k])[1:6] #order and return the indexes of 5 most similar images\n",
    "    print(idx_closest)\n",
    "    for j in idx_closest:\n",
    "        graph.add_edge(i, j, weight=distances[j])\n",
    "    \n",
    "summary(graph)"
   ]
  },
  {
   "cell_type": "code",
   "execution_count": 56,
   "metadata": {},
   "outputs": [
    {
     "name": "stdout",
     "output_type": "stream",
     "text": [
      "<class 'numpy.ndarray'> (1600, 1193, 3)\n"
     ]
    },
    {
     "data": {
      "image/png": "[encoded data removed]",
      "text/plain": [
       "<Figure size 432x288 with 1 Axes>"
      ]
     },
     "metadata": {
      "needs_background": "light"
     },
     "output_type": "display_data"
    }
   ],
   "source": [
    "# grab a random image\n",
    "def load_image():\n",
    "    random_img_html = df_transformed.iloc[np.random.randint(0,len(df_transformed))]['URL']\n",
    "    random_img_jpg = get_jpg_link(random_img_html)\n",
    "    random_img_arr = jpg_to_array(random_img_jpg)\n",
    "\n",
    "    print(type(random_img_arr), random_img_arr.shape)\n",
    "\n",
    "    # display  image\n",
    "    plt.imshow(random_img_arr)\n",
    "    plt.axis('off');\n",
    "\n",
    "load_img()"
   ]
  },
  {
   "cell_type": "code",
   "execution_count": 62,
   "metadata": {},
   "outputs": [
    {
     "ename": "KeyError",
     "evalue": "5",
     "output_type": "error",
     "traceback": [
      "\u001b[0;31m---------------------------------------------------------------------------\u001b[0m",
      "\u001b[0;31mKeyError\u001b[0m                                  Traceback (most recent call last)",
      "\u001b[0;32m~/.pyenv/versions/3.8.6/envs/lewagon/lib/python3.8/site-packages/pandas/core/indexes/base.py\u001b[0m in \u001b[0;36mget_loc\u001b[0;34m(self, key, method, tolerance)\u001b[0m\n\u001b[1;32m   3079\u001b[0m             \u001b[0;32mtry\u001b[0m\u001b[0;34m:\u001b[0m\u001b[0;34m\u001b[0m\u001b[0;34m\u001b[0m\u001b[0m\n\u001b[0;32m-> 3080\u001b[0;31m                 \u001b[0;32mreturn\u001b[0m \u001b[0mself\u001b[0m\u001b[0;34m.\u001b[0m\u001b[0m_engine\u001b[0m\u001b[0;34m.\u001b[0m\u001b[0mget_loc\u001b[0m\u001b[0;34m(\u001b[0m\u001b[0mcasted_key\u001b[0m\u001b[0;34m)\u001b[0m\u001b[0;34m\u001b[0m\u001b[0;34m\u001b[0m\u001b[0m\n\u001b[0m\u001b[1;32m   3081\u001b[0m             \u001b[0;32mexcept\u001b[0m \u001b[0mKeyError\u001b[0m \u001b[0;32mas\u001b[0m \u001b[0merr\u001b[0m\u001b[0;34m:\u001b[0m\u001b[0;34m\u001b[0m\u001b[0;34m\u001b[0m\u001b[0m\n",
      "\u001b[0;32mpandas/_libs/index.pyx\u001b[0m in \u001b[0;36mpandas._libs.index.IndexEngine.get_loc\u001b[0;34m()\u001b[0m\n",
      "\u001b[0;32mpandas/_libs/index.pyx\u001b[0m in \u001b[0;36mpandas._libs.index.IndexEngine.get_loc\u001b[0;34m()\u001b[0m\n",
      "\u001b[0;32mpandas/_libs/hashtable_class_helper.pxi\u001b[0m in \u001b[0;36mpandas._libs.hashtable.PyObjectHashTable.get_item\u001b[0;34m()\u001b[0m\n",
      "\u001b[0;32mpandas/_libs/hashtable_class_helper.pxi\u001b[0m in \u001b[0;36mpandas._libs.hashtable.PyObjectHashTable.get_item\u001b[0;34m()\u001b[0m\n",
      "\u001b[0;31mKeyError\u001b[0m: 5",
      "\nThe above exception was the direct cause of the following exception:\n",
      "\u001b[0;31mKeyError\u001b[0m                                  Traceback (most recent call last)",
      "\u001b[0;32m<ipython-input-62-c88e296f5f60>\u001b[0m in \u001b[0;36m<module>\u001b[0;34m\u001b[0m\n\u001b[1;32m      6\u001b[0m \u001b[0mthumbs\u001b[0m \u001b[0;34m=\u001b[0m \u001b[0;34m[\u001b[0m\u001b[0;34m]\u001b[0m\u001b[0;34m\u001b[0m\u001b[0;34m\u001b[0m\u001b[0m\n\u001b[1;32m      7\u001b[0m \u001b[0;32mfor\u001b[0m \u001b[0midx\u001b[0m \u001b[0;32min\u001b[0m \u001b[0midx_closest\u001b[0m\u001b[0;34m:\u001b[0m\u001b[0;34m\u001b[0m\u001b[0;34m\u001b[0m\u001b[0m\n\u001b[0;32m----> 8\u001b[0;31m     \u001b[0mimg\u001b[0m \u001b[0;34m=\u001b[0m \u001b[0mimage\u001b[0m\u001b[0;34m.\u001b[0m\u001b[0mload_img\u001b[0m\u001b[0;34m(\u001b[0m\u001b[0mdf_transformed\u001b[0m\u001b[0;34m[\u001b[0m\u001b[0midx\u001b[0m\u001b[0;34m]\u001b[0m\u001b[0;34m)\u001b[0m\u001b[0;34m\u001b[0m\u001b[0;34m\u001b[0m\u001b[0m\n\u001b[0m\u001b[1;32m      9\u001b[0m     \u001b[0mimg\u001b[0m \u001b[0;34m=\u001b[0m \u001b[0mimg\u001b[0m\u001b[0;34m.\u001b[0m\u001b[0mresize\u001b[0m\u001b[0;34m(\u001b[0m\u001b[0;34m(\u001b[0m\u001b[0mint\u001b[0m\u001b[0;34m(\u001b[0m\u001b[0mimg\u001b[0m\u001b[0;34m.\u001b[0m\u001b[0mwidth\u001b[0m \u001b[0;34m*\u001b[0m \u001b[0;36m100\u001b[0m \u001b[0;34m/\u001b[0m \u001b[0mimg\u001b[0m\u001b[0;34m.\u001b[0m\u001b[0mheight\u001b[0m\u001b[0;34m)\u001b[0m\u001b[0;34m,\u001b[0m \u001b[0;36m100\u001b[0m\u001b[0;34m)\u001b[0m\u001b[0;34m)\u001b[0m\u001b[0;34m\u001b[0m\u001b[0;34m\u001b[0m\u001b[0m\n\u001b[1;32m     10\u001b[0m     \u001b[0mthumbs\u001b[0m\u001b[0;34m.\u001b[0m\u001b[0mappend\u001b[0m\u001b[0;34m(\u001b[0m\u001b[0mimg\u001b[0m\u001b[0;34m)\u001b[0m\u001b[0;34m\u001b[0m\u001b[0;34m\u001b[0m\u001b[0m\n",
      "\u001b[0;32m~/.pyenv/versions/3.8.6/envs/lewagon/lib/python3.8/site-packages/pandas/core/frame.py\u001b[0m in \u001b[0;36m__getitem__\u001b[0;34m(self, key)\u001b[0m\n\u001b[1;32m   3022\u001b[0m             \u001b[0;32mif\u001b[0m \u001b[0mself\u001b[0m\u001b[0;34m.\u001b[0m\u001b[0mcolumns\u001b[0m\u001b[0;34m.\u001b[0m\u001b[0mnlevels\u001b[0m \u001b[0;34m>\u001b[0m \u001b[0;36m1\u001b[0m\u001b[0;34m:\u001b[0m\u001b[0;34m\u001b[0m\u001b[0;34m\u001b[0m\u001b[0m\n\u001b[1;32m   3023\u001b[0m                 \u001b[0;32mreturn\u001b[0m \u001b[0mself\u001b[0m\u001b[0;34m.\u001b[0m\u001b[0m_getitem_multilevel\u001b[0m\u001b[0;34m(\u001b[0m\u001b[0mkey\u001b[0m\u001b[0;34m)\u001b[0m\u001b[0;34m\u001b[0m\u001b[0;34m\u001b[0m\u001b[0m\n\u001b[0;32m-> 3024\u001b[0;31m             \u001b[0mindexer\u001b[0m \u001b[0;34m=\u001b[0m \u001b[0mself\u001b[0m\u001b[0;34m.\u001b[0m\u001b[0mcolumns\u001b[0m\u001b[0;34m.\u001b[0m\u001b[0mget_loc\u001b[0m\u001b[0;34m(\u001b[0m\u001b[0mkey\u001b[0m\u001b[0;34m)\u001b[0m\u001b[0;34m\u001b[0m\u001b[0;34m\u001b[0m\u001b[0m\n\u001b[0m\u001b[1;32m   3025\u001b[0m             \u001b[0;32mif\u001b[0m \u001b[0mis_integer\u001b[0m\u001b[0;34m(\u001b[0m\u001b[0mindexer\u001b[0m\u001b[0;34m)\u001b[0m\u001b[0;34m:\u001b[0m\u001b[0;34m\u001b[0m\u001b[0;34m\u001b[0m\u001b[0m\n\u001b[1;32m   3026\u001b[0m                 \u001b[0mindexer\u001b[0m \u001b[0;34m=\u001b[0m \u001b[0;34m[\u001b[0m\u001b[0mindexer\u001b[0m\u001b[0;34m]\u001b[0m\u001b[0;34m\u001b[0m\u001b[0;34m\u001b[0m\u001b[0m\n",
      "\u001b[0;32m~/.pyenv/versions/3.8.6/envs/lewagon/lib/python3.8/site-packages/pandas/core/indexes/base.py\u001b[0m in \u001b[0;36mget_loc\u001b[0;34m(self, key, method, tolerance)\u001b[0m\n\u001b[1;32m   3080\u001b[0m                 \u001b[0;32mreturn\u001b[0m \u001b[0mself\u001b[0m\u001b[0;34m.\u001b[0m\u001b[0m_engine\u001b[0m\u001b[0;34m.\u001b[0m\u001b[0mget_loc\u001b[0m\u001b[0;34m(\u001b[0m\u001b[0mcasted_key\u001b[0m\u001b[0;34m)\u001b[0m\u001b[0;34m\u001b[0m\u001b[0;34m\u001b[0m\u001b[0m\n\u001b[1;32m   3081\u001b[0m             \u001b[0;32mexcept\u001b[0m \u001b[0mKeyError\u001b[0m \u001b[0;32mas\u001b[0m \u001b[0merr\u001b[0m\u001b[0;34m:\u001b[0m\u001b[0;34m\u001b[0m\u001b[0;34m\u001b[0m\u001b[0m\n\u001b[0;32m-> 3082\u001b[0;31m                 \u001b[0;32mraise\u001b[0m \u001b[0mKeyError\u001b[0m\u001b[0;34m(\u001b[0m\u001b[0mkey\u001b[0m\u001b[0;34m)\u001b[0m \u001b[0;32mfrom\u001b[0m \u001b[0merr\u001b[0m\u001b[0;34m\u001b[0m\u001b[0;34m\u001b[0m\u001b[0m\n\u001b[0m\u001b[1;32m   3083\u001b[0m \u001b[0;34m\u001b[0m\u001b[0m\n\u001b[1;32m   3084\u001b[0m         \u001b[0;32mif\u001b[0m \u001b[0mtolerance\u001b[0m \u001b[0;32mis\u001b[0m \u001b[0;32mnot\u001b[0m \u001b[0;32mNone\u001b[0m\u001b[0;34m:\u001b[0m\u001b[0;34m\u001b[0m\u001b[0;34m\u001b[0m\u001b[0m\n",
      "\u001b[0;31mKeyError\u001b[0m: 5"
     ]
    }
   ],
   "source": [
    "# load all the similarity results as thumbnails of height 100\n",
    "from keras.preprocessing import image\n",
    "\n",
    "\n",
    "#load_img(len(df_transformed)[idx])\n",
    "thumbs = []\n",
    "for idx in idx_closest:\n",
    "    img = image.load_img(df_transformed[idx])\n",
    "    img = img.resize((int(img.width * 100 / img.height), 100))\n",
    "    thumbs.append(img)\n",
    "\n",
    "    \n",
    "# concatenate the images into a single image\n",
    "concat_image = np.concatenate([np.asarray(t) for t in thumbs], axis=1)\n",
    "\n",
    "# show the image\n",
    "plt.figure(figsize = (16,12))\n",
    "plt.imshow(concat_image)"
   ]
  },
  {
   "cell_type": "code",
   "execution_count": null,
   "metadata": {},
   "outputs": [],
   "source": []
  },
  {
   "cell_type": "code",
   "execution_count": null,
   "metadata": {},
   "outputs": [],
   "source": [
    "idx1 = int(len(df_transformed['IMAGE']) * random.random())\n",
    "\n",
    "# run get_shortest_paths\n",
    "path = graph.get_shortest_paths(idx1, mode=OUT, output='vpath', weights='weight')[0]\n",
    "\n",
    "# retrieve the images and display them\n",
    "#results_image = \n",
    "plt.figure(figsize = (16,12))\n",
    "#imshow(results_image)"
   ]
  },
  {
   "cell_type": "code",
   "execution_count": null,
   "metadata": {},
   "outputs": [],
   "source": [
    "idx2 = df_transformed['IMAGE'].iloc[1].reshape((10, -1))\n",
    "\n",
    "model.kneighbors(idx2,n_neighbors=2) # Return distances and index of the 2 closest points"
   ]
  },
  {
   "cell_type": "code",
   "execution_count": null,
   "metadata": {},
   "outputs": [],
   "source": []
  },
  {
   "cell_type": "code",
   "execution_count": null,
   "metadata": {},
   "outputs": [],
   "source": []
  },
  {
   "cell_type": "code",
   "execution_count": null,
   "metadata": {},
   "outputs": [],
   "source": []
  },
  {
   "cell_type": "code",
   "execution_count": null,
   "metadata": {},
   "outputs": [],
   "source": []
  },
  {
   "cell_type": "code",
   "execution_count": null,
   "metadata": {},
   "outputs": [],
   "source": []
  },
  {
   "cell_type": "code",
   "execution_count": null,
   "metadata": {},
   "outputs": [],
   "source": [
    "avg_scores = []  # average score for different k\n",
    "\n",
    "max_k = 10\n",
    "cv = 10\n",
    "\n",
    "# loop over different values of k\n",
    "for k in range(1, max_k):\n",
    "  # create knn classifier with k = k\n",
    "  knn = KNeighborsClassifier(n_neighbors=k, n_jobs=-1)\n",
    "\n",
    "  # cross-validate knn on training sample with no_folds\n",
    "  scores = cross_val_score(knn, data_train, label_train,\n",
    "                           cv=cv, scoring='accuracy')\n",
    "\n",
    "  # add avg accuracy to score table\n",
    "  avg_scores.append(scores.mean())"
   ]
  },
  {
   "cell_type": "code",
   "execution_count": null,
   "metadata": {},
   "outputs": [],
   "source": []
  }
 ],
 "metadata": {
  "kernelspec": {
   "display_name": "Python 3",
   "language": "python",
   "name": "python3"
  },
  "language_info": {
   "codemirror_mode": {
    "name": "ipython",
    "version": 3
   },
   "file_extension": ".py",
   "mimetype": "text/x-python",
   "name": "python",
   "nbconvert_exporter": "python",
   "pygments_lexer": "ipython3",
   "version": "3.8.6"
  },
  "toc": {
   "base_numbering": 1,
   "nav_menu": {},
   "number_sections": true,
   "sideBar": true,
   "skip_h1_title": false,
   "title_cell": "Table of Contents",
   "title_sidebar": "Contents",
   "toc_cell": false,
   "toc_position": {},
   "toc_section_display": true,
   "toc_window_display": false
  }
 },
 "nbformat": 4,
 "nbformat_minor": 5
}
