{
 "cells": [
  {
   "cell_type": "code",
   "execution_count": 95,
   "metadata": {},
   "outputs": [],
   "source": [
    "import pandas as pd\n",
    "import os\n",
    "import matplotlib.pyplot as plt\n",
    "import numpy as np\n",
    "import random "
   ]
  },
  {
   "cell_type": "markdown",
   "metadata": {},
   "source": [
    "# Paintings"
   ]
  },
  {
   "cell_type": "markdown",
   "metadata": {
    "heading_collapsed": true
   },
   "source": [
    "## Get data"
   ]
  },
  {
   "cell_type": "markdown",
   "metadata": {
    "heading_collapsed": true,
    "hidden": true
   },
   "source": [
    "### Import data in your notebook"
   ]
  },
  {
   "cell_type": "code",
   "execution_count": 2,
   "metadata": {},
   "outputs": [],
   "source": [
    "from vincentvanbot.data import get_data_locally\n",
    "from sklearn.pipeline import Pipeline\n",
    "from vincentvanbot.preprocessing.imagevectorizer import ImageVectorizer\n",
    "from vincentvanbot.preprocessing.imageresizer import ImageResizer\n",
    "import cv2\n",
    "from vincentvanbot.preprocessing.utils import get_jpg_link\n",
    "from vincentvanbot.preprocessing.pipeline import build_pipe"
   ]
  },
  {
   "cell_type": "code",
   "execution_count": 29,
   "metadata": {},
   "outputs": [
    {
     "data": {
      "text/plain": [
       "(10, 12)"
      ]
     },
     "execution_count": 29,
     "metadata": {},
     "output_type": "execute_result"
    }
   ],
   "source": [
    "df = get_data_locally()\n",
    "pipe = build_pipe(dim=(420,360))\n",
    "df_transformed = pipe.fit_transform(df)\n",
    "df_transformed.shape"
   ]
  },
  {
   "cell_type": "code",
   "execution_count": 42,
   "metadata": {},
   "outputs": [
    {
     "data": {
      "text/html": [
       "<div>\n",
       "<style scoped>\n",
       "    .dataframe tbody tr th:only-of-type {\n",
       "        vertical-align: middle;\n",
       "    }\n",
       "\n",
       "    .dataframe tbody tr th {\n",
       "        vertical-align: top;\n",
       "    }\n",
       "\n",
       "    .dataframe thead th {\n",
       "        text-align: right;\n",
       "    }\n",
       "</style>\n",
       "<table border=\"1\" class=\"dataframe\">\n",
       "  <thead>\n",
       "    <tr style=\"text-align: right;\">\n",
       "      <th></th>\n",
       "      <th>AUTHOR</th>\n",
       "      <th>BORN-DIED</th>\n",
       "      <th>TITLE</th>\n",
       "      <th>DATE</th>\n",
       "      <th>TECHNIQUE</th>\n",
       "      <th>LOCATION</th>\n",
       "      <th>URL</th>\n",
       "      <th>FORM</th>\n",
       "      <th>TYPE</th>\n",
       "      <th>SCHOOL</th>\n",
       "      <th>TIMEFRAME</th>\n",
       "      <th>IMAGE</th>\n",
       "    </tr>\n",
       "  </thead>\n",
       "  <tbody>\n",
       "    <tr>\n",
       "      <th>0</th>\n",
       "      <td>AACHEN, Hans von</td>\n",
       "      <td>(b. 1552, Köln, d. 1615, Praha)</td>\n",
       "      <td>Venus and Adonis</td>\n",
       "      <td>1574-88</td>\n",
       "      <td>Oil on canvas, 68 x 95 cm</td>\n",
       "      <td>Fogg Art Museum, Harvard University, Cambridge</td>\n",
       "      <td>https://www.wga.hu/art/a/aachen/adonis.jpg</td>\n",
       "      <td>painting</td>\n",
       "      <td>mythological</td>\n",
       "      <td>German</td>\n",
       "      <td>1601-1650</td>\n",
       "      <td>[[[109, 106, 87], [116, 113, 94], [111, 108, 8...</td>\n",
       "    </tr>\n",
       "    <tr>\n",
       "      <th>1</th>\n",
       "      <td>AACHEN, Hans von</td>\n",
       "      <td>(b. 1552, Köln, d. 1615, Praha)</td>\n",
       "      <td>Allegory</td>\n",
       "      <td>1598</td>\n",
       "      <td>Oil on copper, 56 x 47 cm</td>\n",
       "      <td>Alte Pinakothek, Munich</td>\n",
       "      <td>https://www.wga.hu/art/a/aachen/allegory.jpg</td>\n",
       "      <td>painting</td>\n",
       "      <td>mythological</td>\n",
       "      <td>German</td>\n",
       "      <td>1601-1650</td>\n",
       "      <td>[[[95, 89, 77], [81, 76, 64], [68, 65, 53], [5...</td>\n",
       "    </tr>\n",
       "    <tr>\n",
       "      <th>2</th>\n",
       "      <td>AACHEN, Hans von</td>\n",
       "      <td>(b. 1552, Köln, d. 1615, Praha)</td>\n",
       "      <td>Allegory of Peace, Art and Abundance</td>\n",
       "      <td>1602</td>\n",
       "      <td>Oil on canvas, 197 x 142 cm</td>\n",
       "      <td>The Hermitage, St. Petersburg</td>\n",
       "      <td>https://www.wga.hu/art/a/aachen/allegorz.jpg</td>\n",
       "      <td>painting</td>\n",
       "      <td>mythological</td>\n",
       "      <td>German</td>\n",
       "      <td>1601-1650</td>\n",
       "      <td>[[[125, 104, 59], [94, 72, 37], [63, 39, 16], ...</td>\n",
       "    </tr>\n",
       "    <tr>\n",
       "      <th>3</th>\n",
       "      <td>AACHEN, Hans von</td>\n",
       "      <td>(b. 1552, Köln, d. 1615, Praha)</td>\n",
       "      <td>Jupiter, Antiope and Cupid</td>\n",
       "      <td>1595-98</td>\n",
       "      <td>Oil on copper, 31 x 21 cm</td>\n",
       "      <td>Kunsthistorisches Museum, Vienna</td>\n",
       "      <td>https://www.wga.hu/art/a/aachen/antiope.jpg</td>\n",
       "      <td>painting</td>\n",
       "      <td>mythological</td>\n",
       "      <td>German</td>\n",
       "      <td>1601-1650</td>\n",
       "      <td>[[[56, 49, 43], [49, 42, 36], [63, 56, 50], [7...</td>\n",
       "    </tr>\n",
       "    <tr>\n",
       "      <th>4</th>\n",
       "      <td>AACHEN, Hans von</td>\n",
       "      <td>(b. 1552, Köln, d. 1615, Praha)</td>\n",
       "      <td>Pallas Athena, Venus and Juno</td>\n",
       "      <td>1593</td>\n",
       "      <td>Oil on canvas, 54 x 67 cm</td>\n",
       "      <td>Museum of Fine Arts, Boston</td>\n",
       "      <td>https://www.wga.hu/art/a/aachen/athena.jpg</td>\n",
       "      <td>painting</td>\n",
       "      <td>mythological</td>\n",
       "      <td>German</td>\n",
       "      <td>1601-1650</td>\n",
       "      <td>[[[98, 86, 65], [82, 71, 63], [66, 55, 57], [4...</td>\n",
       "    </tr>\n",
       "  </tbody>\n",
       "</table>\n",
       "</div>"
      ],
      "text/plain": [
       "             AUTHOR                        BORN-DIED  \\\n",
       "0  AACHEN, Hans von  (b. 1552, Köln, d. 1615, Praha)   \n",
       "1  AACHEN, Hans von  (b. 1552, Köln, d. 1615, Praha)   \n",
       "2  AACHEN, Hans von  (b. 1552, Köln, d. 1615, Praha)   \n",
       "3  AACHEN, Hans von  (b. 1552, Köln, d. 1615, Praha)   \n",
       "4  AACHEN, Hans von  (b. 1552, Köln, d. 1615, Praha)   \n",
       "\n",
       "                                  TITLE     DATE                    TECHNIQUE  \\\n",
       "0                      Venus and Adonis  1574-88    Oil on canvas, 68 x 95 cm   \n",
       "1                              Allegory     1598    Oil on copper, 56 x 47 cm   \n",
       "2  Allegory of Peace, Art and Abundance     1602  Oil on canvas, 197 x 142 cm   \n",
       "3            Jupiter, Antiope and Cupid  1595-98    Oil on copper, 31 x 21 cm   \n",
       "4         Pallas Athena, Venus and Juno     1593    Oil on canvas, 54 x 67 cm   \n",
       "\n",
       "                                         LOCATION  \\\n",
       "0  Fogg Art Museum, Harvard University, Cambridge   \n",
       "1                         Alte Pinakothek, Munich   \n",
       "2                   The Hermitage, St. Petersburg   \n",
       "3                Kunsthistorisches Museum, Vienna   \n",
       "4                     Museum of Fine Arts, Boston   \n",
       "\n",
       "                                            URL      FORM          TYPE  \\\n",
       "0    https://www.wga.hu/art/a/aachen/adonis.jpg  painting  mythological   \n",
       "1  https://www.wga.hu/art/a/aachen/allegory.jpg  painting  mythological   \n",
       "2  https://www.wga.hu/art/a/aachen/allegorz.jpg  painting  mythological   \n",
       "3   https://www.wga.hu/art/a/aachen/antiope.jpg  painting  mythological   \n",
       "4    https://www.wga.hu/art/a/aachen/athena.jpg  painting  mythological   \n",
       "\n",
       "   SCHOOL  TIMEFRAME                                              IMAGE  \n",
       "0  German  1601-1650  [[[109, 106, 87], [116, 113, 94], [111, 108, 8...  \n",
       "1  German  1601-1650  [[[95, 89, 77], [81, 76, 64], [68, 65, 53], [5...  \n",
       "2  German  1601-1650  [[[125, 104, 59], [94, 72, 37], [63, 39, 16], ...  \n",
       "3  German  1601-1650  [[[56, 49, 43], [49, 42, 36], [63, 56, 50], [7...  \n",
       "4  German  1601-1650  [[[98, 86, 65], [82, 71, 63], [66, 55, 57], [4...  "
      ]
     },
     "execution_count": 42,
     "metadata": {},
     "output_type": "execute_result"
    }
   ],
   "source": [
    "df_transformed.head()"
   ]
  },
  {
   "cell_type": "markdown",
   "metadata": {},
   "source": [
    "### Built KNN"
   ]
  },
  {
   "cell_type": "code",
   "execution_count": 54,
   "metadata": {},
   "outputs": [],
   "source": [
    "from sklearn.neighbors import NearestNeighbors\n",
    "from sklearn.model_selection import train_test_split\n",
    "from sklearn.model_selection import cross_val_score"
   ]
  },
  {
   "cell_type": "code",
   "execution_count": 117,
   "metadata": {},
   "outputs": [
    {
     "ename": "AttributeError",
     "evalue": "'_iLocIndexer' object has no attribute 'shape'",
     "output_type": "error",
     "traceback": [
      "\u001b[0;31m---------------------------------------------------------------------------\u001b[0m",
      "\u001b[0;31mAttributeError\u001b[0m                            Traceback (most recent call last)",
      "\u001b[0;32m<ipython-input-117-8e738dd82c4d>\u001b[0m in \u001b[0;36m<module>\u001b[0;34m\u001b[0m\n\u001b[1;32m      1\u001b[0m \u001b[0;31m#print original shape of an image\u001b[0m\u001b[0;34m\u001b[0m\u001b[0;34m\u001b[0m\u001b[0;34m\u001b[0m\u001b[0m\n\u001b[0;32m----> 2\u001b[0;31m \u001b[0mdf_transformed\u001b[0m\u001b[0;34m[\u001b[0m\u001b[0;34m'IMAGE'\u001b[0m\u001b[0;34m]\u001b[0m\u001b[0;34m.\u001b[0m\u001b[0miloc\u001b[0m\u001b[0;34m.\u001b[0m\u001b[0mshape\u001b[0m\u001b[0;34m\u001b[0m\u001b[0;34m\u001b[0m\u001b[0m\n\u001b[0m",
      "\u001b[0;31mAttributeError\u001b[0m: '_iLocIndexer' object has no attribute 'shape'"
     ]
    }
   ],
   "source": [
    "#print original shape of an image\n",
    "df_transformed['IMAGE'].iloc[.shape"
   ]
  },
  {
   "cell_type": "code",
   "execution_count": 102,
   "metadata": {},
   "outputs": [
    {
     "ename": "AttributeError",
     "evalue": "'Series' object has no attribute 'reshape'",
     "output_type": "error",
     "traceback": [
      "\u001b[0;31m---------------------------------------------------------------------------\u001b[0m",
      "\u001b[0;31mAttributeError\u001b[0m                            Traceback (most recent call last)",
      "\u001b[0;32m<ipython-input-102-c25893de6ae5>\u001b[0m in \u001b[0;36m<module>\u001b[0;34m\u001b[0m\n\u001b[0;32m----> 1\u001b[0;31m \u001b[0mdf_transformed\u001b[0m\u001b[0;34m[\u001b[0m\u001b[0;34m'IMAGE'\u001b[0m\u001b[0;34m]\u001b[0m\u001b[0;34m.\u001b[0m\u001b[0miloc\u001b[0m\u001b[0;34m[\u001b[0m\u001b[0;34m:\u001b[0m\u001b[0;36m10\u001b[0m\u001b[0;34m]\u001b[0m\u001b[0;34m.\u001b[0m\u001b[0mreshape\u001b[0m\u001b[0;34m(\u001b[0m\u001b[0;34m(\u001b[0m\u001b[0;36m10\u001b[0m\u001b[0;34m,\u001b[0m \u001b[0;34m-\u001b[0m\u001b[0;36m1\u001b[0m\u001b[0;34m)\u001b[0m\u001b[0;34m)\u001b[0m\u001b[0;34m\u001b[0m\u001b[0;34m\u001b[0m\u001b[0m\n\u001b[0m",
      "\u001b[0;32m~/.pyenv/versions/3.8.6/envs/lewagon/lib/python3.8/site-packages/pandas/core/generic.py\u001b[0m in \u001b[0;36m__getattr__\u001b[0;34m(self, name)\u001b[0m\n\u001b[1;32m   5458\u001b[0m             \u001b[0;32mif\u001b[0m \u001b[0mself\u001b[0m\u001b[0;34m.\u001b[0m\u001b[0m_info_axis\u001b[0m\u001b[0;34m.\u001b[0m\u001b[0m_can_hold_identifiers_and_holds_name\u001b[0m\u001b[0;34m(\u001b[0m\u001b[0mname\u001b[0m\u001b[0;34m)\u001b[0m\u001b[0;34m:\u001b[0m\u001b[0;34m\u001b[0m\u001b[0;34m\u001b[0m\u001b[0m\n\u001b[1;32m   5459\u001b[0m                 \u001b[0;32mreturn\u001b[0m \u001b[0mself\u001b[0m\u001b[0;34m[\u001b[0m\u001b[0mname\u001b[0m\u001b[0;34m]\u001b[0m\u001b[0;34m\u001b[0m\u001b[0;34m\u001b[0m\u001b[0m\n\u001b[0;32m-> 5460\u001b[0;31m             \u001b[0;32mreturn\u001b[0m \u001b[0mobject\u001b[0m\u001b[0;34m.\u001b[0m\u001b[0m__getattribute__\u001b[0m\u001b[0;34m(\u001b[0m\u001b[0mself\u001b[0m\u001b[0;34m,\u001b[0m \u001b[0mname\u001b[0m\u001b[0;34m)\u001b[0m\u001b[0;34m\u001b[0m\u001b[0;34m\u001b[0m\u001b[0m\n\u001b[0m\u001b[1;32m   5461\u001b[0m \u001b[0;34m\u001b[0m\u001b[0m\n\u001b[1;32m   5462\u001b[0m     \u001b[0;32mdef\u001b[0m \u001b[0m__setattr__\u001b[0m\u001b[0;34m(\u001b[0m\u001b[0mself\u001b[0m\u001b[0;34m,\u001b[0m \u001b[0mname\u001b[0m\u001b[0;34m:\u001b[0m \u001b[0mstr\u001b[0m\u001b[0;34m,\u001b[0m \u001b[0mvalue\u001b[0m\u001b[0;34m)\u001b[0m \u001b[0;34m->\u001b[0m \u001b[0;32mNone\u001b[0m\u001b[0;34m:\u001b[0m\u001b[0;34m\u001b[0m\u001b[0;34m\u001b[0m\u001b[0m\n",
      "\u001b[0;31mAttributeError\u001b[0m: 'Series' object has no attribute 'reshape'"
     ]
    }
   ],
   "source": [
    "df_transformed['IMAGE'].iloc[:10].reshape((10, -1))"
   ]
  },
  {
   "cell_type": "code",
   "execution_count": 71,
   "metadata": {},
   "outputs": [
    {
     "data": {
      "text/plain": [
       "array([[ 95,  89,  77, ...,  56,  39,  19],\n",
       "       [ 77,  86,  67, ...,  99,  76,  45],\n",
       "       [ 75,  88,  73, ...,  96,  72,  44],\n",
       "       ...,\n",
       "       [ 72,  57,  28, ...,  37,  46,  43],\n",
       "       [ 79,  62,  42, ..., 150, 133, 103],\n",
       "       [116, 110,  55, ..., 125, 102,  66]], dtype=uint8)"
      ]
     },
     "execution_count": 71,
     "metadata": {},
     "output_type": "execute_result"
    }
   ],
   "source": [
    "# numpy.reshape\n",
    "X = df_transformed['IMAGE'].iloc[1].reshape((10, -1))\n",
    "X"
   ]
  },
  {
   "cell_type": "code",
   "execution_count": null,
   "metadata": {},
   "outputs": [],
   "source": [
    "#df_transformed.images is a numpy array with 10 numpy arrays 360X420 (feature vectors) representing digits\n",
    "#df_transformed.target ???"
   ]
  },
  {
   "cell_type": "code",
   "execution_count": 75,
   "metadata": {},
   "outputs": [
    {
     "data": {
      "text/plain": [
       "array([[1., 1., 0., 0., 0., 0., 0., 0., 0., 0.],\n",
       "       [1., 1., 0., 0., 0., 0., 0., 0., 0., 0.],\n",
       "       [0., 0., 1., 1., 0., 0., 0., 0., 0., 0.],\n",
       "       [0., 0., 0., 1., 1., 0., 0., 0., 0., 0.],\n",
       "       [0., 0., 0., 1., 1., 0., 0., 0., 0., 0.],\n",
       "       [0., 0., 0., 0., 0., 1., 0., 0., 1., 0.],\n",
       "       [0., 0., 0., 0., 0., 0., 1., 0., 0., 1.],\n",
       "       [0., 0., 0., 0., 0., 0., 1., 1., 0., 0.],\n",
       "       [0., 0., 0., 0., 0., 0., 0., 0., 1., 1.],\n",
       "       [0., 0., 0., 0., 0., 0., 0., 0., 1., 1.]])"
      ]
     },
     "execution_count": 75,
     "metadata": {},
     "output_type": "execute_result"
    }
   ],
   "source": [
    "model = NearestNeighbors(n_neighbors=2)\n",
    "model.fit(X)\n",
    "NearestNeighbors(n_neighbors=2)\n",
    "\n",
    "A = model.kneighbors_graph(X)\n",
    "A.toarray()"
   ]
  },
  {
   "cell_type": "code",
   "execution_count": 132,
   "metadata": {},
   "outputs": [
    {
     "name": "stdout",
     "output_type": "stream",
     "text": [
      "[7, 8, 6, 5, 9]\n",
      "[7, 5, 8, 6, 0]\n",
      "[7, 6, 5, 8, 0]\n",
      "[6, 7, 0, 8, 5]\n",
      "[8, 6, 7, 5, 0]\n",
      "[8, 6, 7, 9, 0]\n",
      "[7, 5, 8, 0, 9]\n",
      "[8, 6, 0, 5, 9]\n",
      "[7, 5, 6, 0, 9]\n",
      "[5, 6, 8, 7, 0]\n",
      "IGRAPH D-W- 10 50 -- \n",
      "+ attr: weight (e)\n"
     ]
    }
   ],
   "source": [
    "from scipy.spatial import distance\n",
    "from igraph import *\n",
    "\n",
    "\n",
    "graph = Graph(directed=True)\n",
    "graph.add_vertices(len(df_transformed['IMAGE']))\n",
    "\n",
    "for i in range(len(df_transformed['IMAGE'])):\n",
    "    distances = [distance.cosine(X[i], feat) for feat in X]\n",
    "    idx_closest = sorted(range(len(distances)), key=lambda k: distances[k])[1:6] #sort and find most similar items, return the indexes 5 most similar images\n",
    "    print(idx_closest)\n",
    "    for j in idx_closest:\n",
    "        graph.add_edge(i, j, weight=distances[j])\n",
    "    \n",
    "summary(graph)"
   ]
  },
  {
   "cell_type": "code",
   "execution_count": null,
   "metadata": {},
   "outputs": [],
   "source": [
    "def load_image():\n",
    "    width = random_img_arr.shape[1]\n",
    "    height = 440\n",
    "    dim = (width, height)\n",
    "\n",
    "    # resize image\n",
    "    resized = cv2.resize(random_img_arr, dim, interpolation = cv2.INTER_AREA)\n",
    "\n",
    "    print('Resized Dimensions : ',resized.shape)\n",
    "\n",
    "    plt.imshow(resized)"
   ]
  },
  {
   "cell_type": "code",
   "execution_count": null,
   "metadata": {},
   "outputs": [],
   "source": [
    "img, x = load_image(\"101_ObjectCategories/airplanes/image_0011.jpg\")\n",
    "print(\"shape of x: \", x.shape)\n",
    "print(\"data type: \", x.dtype)\n",
    "plt.imshow(img)"
   ]
  },
  {
   "cell_type": "code",
   "execution_count": null,
   "metadata": {},
   "outputs": [],
   "source": [
    "# grab a random image\n",
    "image_idx = int(len(df_transformed['IMAGE']) * random.random())\n",
    "\n",
    "# display  image\n",
    "img = df_transformed['IMAGE'].load_img(df_transformed['IMAGE'][image_idx])\n",
    "plt.imshow(img)"
   ]
  },
  {
   "cell_type": "code",
   "execution_count": null,
   "metadata": {},
   "outputs": [],
   "source": [
    "# load all the similarity results as thumbnails of height 100\n",
    "thumbs = []\n",
    "for idx in idx_closest:\n",
    "    img = image.load_img(images[idx])\n",
    "    img = img.resize((int(img.width * 100 / img.height), 100))\n",
    "    thumbs.append(img)\n",
    "\n",
    "# concatenate the images into a single image\n",
    "concat_image = np.concatenate([np.asarray(t) for t in thumbs], axis=1)\n",
    "\n",
    "# show the image\n",
    "plt.figure(figsize = (16,12))\n",
    "plt.imshow(concat_image)"
   ]
  },
  {
   "cell_type": "code",
   "execution_count": 120,
   "metadata": {},
   "outputs": [
    {
     "ename": "AttributeError",
     "evalue": "'Series' object has no attribute 'load_img'",
     "output_type": "error",
     "traceback": [
      "\u001b[0;31m---------------------------------------------------------------------------\u001b[0m",
      "\u001b[0;31mAttributeError\u001b[0m                            Traceback (most recent call last)",
      "\u001b[0;32m<ipython-input-120-54148f77f988>\u001b[0m in \u001b[0;36m<module>\u001b[0;34m\u001b[0m\n\u001b[1;32m      3\u001b[0m \u001b[0;34m\u001b[0m\u001b[0m\n\u001b[1;32m      4\u001b[0m \u001b[0;31m# display  image\u001b[0m\u001b[0;34m\u001b[0m\u001b[0;34m\u001b[0m\u001b[0;34m\u001b[0m\u001b[0m\n\u001b[0;32m----> 5\u001b[0;31m \u001b[0mimg\u001b[0m \u001b[0;34m=\u001b[0m \u001b[0mdf_transformed\u001b[0m\u001b[0;34m[\u001b[0m\u001b[0;34m'IMAGE'\u001b[0m\u001b[0;34m]\u001b[0m\u001b[0;34m.\u001b[0m\u001b[0mload_img\u001b[0m\u001b[0;34m(\u001b[0m\u001b[0mdf_transformed\u001b[0m\u001b[0;34m[\u001b[0m\u001b[0;34m'IMAGE'\u001b[0m\u001b[0;34m]\u001b[0m\u001b[0;34m[\u001b[0m\u001b[0mimage_idx\u001b[0m\u001b[0;34m]\u001b[0m\u001b[0;34m)\u001b[0m\u001b[0;34m\u001b[0m\u001b[0;34m\u001b[0m\u001b[0m\n\u001b[0m\u001b[1;32m      6\u001b[0m \u001b[0mplt\u001b[0m\u001b[0;34m.\u001b[0m\u001b[0mimshow\u001b[0m\u001b[0;34m(\u001b[0m\u001b[0mimg\u001b[0m\u001b[0;34m)\u001b[0m\u001b[0;34m\u001b[0m\u001b[0;34m\u001b[0m\u001b[0m\n",
      "\u001b[0;32m~/.pyenv/versions/3.8.6/envs/lewagon/lib/python3.8/site-packages/pandas/core/generic.py\u001b[0m in \u001b[0;36m__getattr__\u001b[0;34m(self, name)\u001b[0m\n\u001b[1;32m   5458\u001b[0m             \u001b[0;32mif\u001b[0m \u001b[0mself\u001b[0m\u001b[0;34m.\u001b[0m\u001b[0m_info_axis\u001b[0m\u001b[0;34m.\u001b[0m\u001b[0m_can_hold_identifiers_and_holds_name\u001b[0m\u001b[0;34m(\u001b[0m\u001b[0mname\u001b[0m\u001b[0;34m)\u001b[0m\u001b[0;34m:\u001b[0m\u001b[0;34m\u001b[0m\u001b[0;34m\u001b[0m\u001b[0m\n\u001b[1;32m   5459\u001b[0m                 \u001b[0;32mreturn\u001b[0m \u001b[0mself\u001b[0m\u001b[0;34m[\u001b[0m\u001b[0mname\u001b[0m\u001b[0;34m]\u001b[0m\u001b[0;34m\u001b[0m\u001b[0;34m\u001b[0m\u001b[0m\n\u001b[0;32m-> 5460\u001b[0;31m             \u001b[0;32mreturn\u001b[0m \u001b[0mobject\u001b[0m\u001b[0;34m.\u001b[0m\u001b[0m__getattribute__\u001b[0m\u001b[0;34m(\u001b[0m\u001b[0mself\u001b[0m\u001b[0;34m,\u001b[0m \u001b[0mname\u001b[0m\u001b[0;34m)\u001b[0m\u001b[0;34m\u001b[0m\u001b[0;34m\u001b[0m\u001b[0m\n\u001b[0m\u001b[1;32m   5461\u001b[0m \u001b[0;34m\u001b[0m\u001b[0m\n\u001b[1;32m   5462\u001b[0m     \u001b[0;32mdef\u001b[0m \u001b[0m__setattr__\u001b[0m\u001b[0;34m(\u001b[0m\u001b[0mself\u001b[0m\u001b[0;34m,\u001b[0m \u001b[0mname\u001b[0m\u001b[0;34m:\u001b[0m \u001b[0mstr\u001b[0m\u001b[0;34m,\u001b[0m \u001b[0mvalue\u001b[0m\u001b[0;34m)\u001b[0m \u001b[0;34m->\u001b[0m \u001b[0;32mNone\u001b[0m\u001b[0;34m:\u001b[0m\u001b[0;34m\u001b[0m\u001b[0;34m\u001b[0m\u001b[0m\n",
      "\u001b[0;31mAttributeError\u001b[0m: 'Series' object has no attribute 'load_img'"
     ]
    }
   ],
   "source": []
  },
  {
   "cell_type": "code",
   "execution_count": 103,
   "metadata": {},
   "outputs": [
    {
     "data": {
      "text/plain": [
       "<Figure size 1152x864 with 0 Axes>"
      ]
     },
     "execution_count": 103,
     "metadata": {},
     "output_type": "execute_result"
    },
    {
     "data": {
      "text/plain": [
       "<Figure size 1152x864 with 0 Axes>"
      ]
     },
     "metadata": {},
     "output_type": "display_data"
    }
   ],
   "source": [
    "idx1 = int(len(df_transformed['IMAGE']) * random.random())\n",
    "\n",
    "# run get_shortest_paths\n",
    "path = graph.get_shortest_paths(idx1, mode=OUT, output='vpath', weights='weight')[0]\n",
    "\n",
    "# retrieve the images and display them\n",
    "#results_image = \n",
    "plt.figure(figsize = (16,12))\n",
    "#imshow(results_image)"
   ]
  },
  {
   "cell_type": "code",
   "execution_count": 109,
   "metadata": {},
   "outputs": [
    {
     "data": {
      "text/plain": [
       "(array([[    0.        ,  9971.18147463],\n",
       "        [    0.        ,  9971.18147463],\n",
       "        [    0.        , 11970.15175342],\n",
       "        [    0.        , 11685.80326721],\n",
       "        [    0.        , 11685.80326721],\n",
       "        [    0.        , 12798.65739052],\n",
       "        [    0.        , 10701.71224618],\n",
       "        [    0.        , 11238.36149089],\n",
       "        [    0.        , 10581.44115893],\n",
       "        [    0.        , 10581.44115893]]),\n",
       " array([[0, 1],\n",
       "        [1, 0],\n",
       "        [2, 3],\n",
       "        [3, 4],\n",
       "        [4, 3],\n",
       "        [5, 8],\n",
       "        [6, 9],\n",
       "        [7, 6],\n",
       "        [8, 9],\n",
       "        [9, 8]]))"
      ]
     },
     "execution_count": 109,
     "metadata": {},
     "output_type": "execute_result"
    }
   ],
   "source": [
    "idx2 = df_transformed['IMAGE'].iloc[1].reshape((10, -1))\n",
    "\n",
    "model.kneighbors(idx2,n_neighbors=2) # Return distances and index of the 2 closest points"
   ]
  },
  {
   "cell_type": "code",
   "execution_count": null,
   "metadata": {},
   "outputs": [],
   "source": []
  },
  {
   "cell_type": "code",
   "execution_count": null,
   "metadata": {},
   "outputs": [],
   "source": []
  },
  {
   "cell_type": "code",
   "execution_count": null,
   "metadata": {},
   "outputs": [],
   "source": []
  },
  {
   "cell_type": "code",
   "execution_count": null,
   "metadata": {},
   "outputs": [],
   "source": []
  },
  {
   "cell_type": "code",
   "execution_count": null,
   "metadata": {},
   "outputs": [],
   "source": []
  },
  {
   "cell_type": "code",
   "execution_count": null,
   "metadata": {},
   "outputs": [],
   "source": [
    "avg_scores = []  # average score for different k\n",
    "\n",
    "max_k = 10\n",
    "cv = 10\n",
    "\n",
    "# loop over different values of k\n",
    "for k in range(1, max_k):\n",
    "  # create knn classifier with k = k\n",
    "  knn = KNeighborsClassifier(n_neighbors=k, n_jobs=-1)\n",
    "\n",
    "  # cross-validate knn on training sample with no_folds\n",
    "  scores = cross_val_score(knn, data_train, label_train,\n",
    "                           cv=cv, scoring='accuracy')\n",
    "\n",
    "  # add avg accuracy to score table\n",
    "  avg_scores.append(scores.mean())"
   ]
  },
  {
   "cell_type": "code",
   "execution_count": null,
   "metadata": {},
   "outputs": [],
   "source": []
  }
 ],
 "metadata": {
  "kernelspec": {
   "display_name": "Python 3",
   "language": "python",
   "name": "python3"
  },
  "language_info": {
   "codemirror_mode": {
    "name": "ipython",
    "version": 3
   },
   "file_extension": ".py",
   "mimetype": "text/x-python",
   "name": "python",
   "nbconvert_exporter": "python",
   "pygments_lexer": "ipython3",
   "version": "3.8.6"
  },
  "toc": {
   "base_numbering": 1,
   "nav_menu": {},
   "number_sections": true,
   "sideBar": true,
   "skip_h1_title": false,
   "title_cell": "Table of Contents",
   "title_sidebar": "Contents",
   "toc_cell": false,
   "toc_position": {},
   "toc_section_display": true,
   "toc_window_display": false
  }
 },
 "nbformat": 4,
 "nbformat_minor": 5
}
