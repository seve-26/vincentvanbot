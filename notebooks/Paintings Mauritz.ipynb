{
  "nbformat": 4,
  "nbformat_minor": 5,
  "metadata": {
    "kernelspec": {
      "display_name": "Python 3",
      "language": "python",
      "name": "python3"
    },
    "language_info": {
      "codemirror_mode": {
        "name": "ipython",
        "version": 3
      },
      "file_extension": ".py",
      "mimetype": "text/x-python",
      "name": "python",
      "nbconvert_exporter": "python",
      "pygments_lexer": "ipython3",
      "version": "3.8.6"
    },
    "toc": {
      "base_numbering": 1,
      "nav_menu": {},
      "number_sections": true,
      "sideBar": true,
      "skip_h1_title": false,
      "title_cell": "Table of Contents",
      "title_sidebar": "Contents",
      "toc_cell": false,
      "toc_position": {},
      "toc_section_display": true,
      "toc_window_display": false
    },
    "colab": {
      "name": "Paintings.ipynb",
      "provenance": []
    }
  },
  "cells": [
    {
      "cell_type": "code",
      "metadata": {
        "id": "significant-denmark"
      },
      "source": [
        "import pandas as pd\n",
        "import os\n",
        "import matplotlib.pyplot as plt\n",
        "import numpy as np"
      ],
      "id": "significant-denmark",
      "execution_count": 1,
      "outputs": []
    },
    {
      "cell_type": "markdown",
      "metadata": {
        "id": "homeless-material"
      },
      "source": [
        "# Paintings"
      ],
      "id": "homeless-material"
    },
    {
      "cell_type": "markdown",
      "metadata": {
        "id": "dense-tiffany"
      },
      "source": [
        "## Get data"
      ],
      "id": "dense-tiffany"
    },
    {
      "cell_type": "markdown",
      "metadata": {
        "id": "dietary-guinea"
      },
      "source": [
        "### Download data"
      ],
      "id": "dietary-guinea"
    },
    {
      "cell_type": "markdown",
      "metadata": {
        "id": "powerful-pepper"
      },
      "source": [
        "Make sure to have opened Jupyter notebook in the project folder."
      ],
      "id": "powerful-pepper"
    },
    {
      "cell_type": "code",
      "metadata": {
        "colab": {
          "base_uri": "https://localhost:8080/"
        },
        "id": "digital-hampshire",
        "outputId": "3634f3c1-8481-47e4-f93e-8f16effb8646"
      },
      "source": [
        "# download data in zip file\n",
        "!curl https://www.wga.hu/database/download/data_txt.zip > data_txt.zip"
      ],
      "id": "digital-hampshire",
      "execution_count": 2,
      "outputs": [
        {
          "output_type": "stream",
          "text": [
            "  % Total    % Received % Xferd  Average Speed   Time    Time     Time  Current\n",
            "                                 Dload  Upload   Total   Spent    Left  Speed\n",
            "100 1630k  100 1630k    0     0  4754k      0 --:--:-- --:--:-- --:--:-- 4741k\n"
          ],
          "name": "stdout"
        }
      ]
    },
    {
      "cell_type": "code",
      "metadata": {
        "colab": {
          "base_uri": "https://localhost:8080/"
        },
        "id": "sophisticated-appointment",
        "outputId": "ee8c91da-c7c2-4628-bda5-11f253cfd292"
      },
      "source": [
        "# unzip downloaded data ands save it in a data folder\n",
        "!unzip data_txt.zip -d data"
      ],
      "id": "sophisticated-appointment",
      "execution_count": 3,
      "outputs": [
        {
          "output_type": "stream",
          "text": [
            "Archive:  data_txt.zip\n",
            "  inflating: data/catalog.csv        \n"
          ],
          "name": "stdout"
        }
      ]
    },
    {
      "cell_type": "markdown",
      "metadata": {
        "id": "perfect-injury"
      },
      "source": [
        "If you don't have unzip installed (i.e. you receive an error like \"unzip command not found\" from the last cell), you can install it with `sudo apt install -y unzip`"
      ],
      "id": "perfect-injury"
    },
    {
      "cell_type": "code",
      "metadata": {
        "id": "blank-pollution"
      },
      "source": [
        "# clean your directory\n",
        "!rm data_txt.zip"
      ],
      "id": "blank-pollution",
      "execution_count": 4,
      "outputs": []
    },
    {
      "cell_type": "markdown",
      "metadata": {
        "heading_collapsed": true,
        "id": "israeli-juvenile"
      },
      "source": [
        "### Import data in your notebook"
      ],
      "id": "israeli-juvenile"
    },
    {
      "cell_type": "code",
      "metadata": {
        "hidden": true,
        "scrolled": true,
        "colab": {
          "base_uri": "https://localhost:8080/",
          "height": 462
        },
        "id": "proprietary-devon",
        "outputId": "4210b623-2413-4ceb-e476-9b89696ed33a"
      },
      "source": [
        "path = os.path.join('data','catalog.csv')\n",
        "df = pd.read_csv(path, encoding= 'unicode_escape') # take care of non-ASCII characters such as 'ö'\n",
        "\n",
        "df.head()"
      ],
      "id": "proprietary-devon",
      "execution_count": 5,
      "outputs": [
        {
          "output_type": "execute_result",
          "data": {
            "text/html": [
              "<div>\n",
              "<style scoped>\n",
              "    .dataframe tbody tr th:only-of-type {\n",
              "        vertical-align: middle;\n",
              "    }\n",
              "\n",
              "    .dataframe tbody tr th {\n",
              "        vertical-align: top;\n",
              "    }\n",
              "\n",
              "    .dataframe thead th {\n",
              "        text-align: right;\n",
              "    }\n",
              "</style>\n",
              "<table border=\"1\" class=\"dataframe\">\n",
              "  <thead>\n",
              "    <tr style=\"text-align: right;\">\n",
              "      <th></th>\n",
              "      <th>AUTHOR</th>\n",
              "      <th>BORN-DIED</th>\n",
              "      <th>TITLE</th>\n",
              "      <th>DATE</th>\n",
              "      <th>TECHNIQUE</th>\n",
              "      <th>LOCATION</th>\n",
              "      <th>URL</th>\n",
              "      <th>FORM</th>\n",
              "      <th>TYPE</th>\n",
              "      <th>SCHOOL</th>\n",
              "      <th>TIMEFRAME</th>\n",
              "    </tr>\n",
              "  </thead>\n",
              "  <tbody>\n",
              "    <tr>\n",
              "      <th>0</th>\n",
              "      <td>AACHEN, Hans von</td>\n",
              "      <td>(b. 1552, Köln, d. 1615, Praha)</td>\n",
              "      <td>Venus and Adonis</td>\n",
              "      <td>1574-88</td>\n",
              "      <td>Oil on canvas, 68 x 95 cm</td>\n",
              "      <td>Fogg Art Museum, Harvard University, Cambridge</td>\n",
              "      <td>https://www.wga.hu/html/a/aachen/adonis.html</td>\n",
              "      <td>painting</td>\n",
              "      <td>mythological</td>\n",
              "      <td>German</td>\n",
              "      <td>1601-1650</td>\n",
              "    </tr>\n",
              "    <tr>\n",
              "      <th>1</th>\n",
              "      <td>AACHEN, Hans von</td>\n",
              "      <td>(b. 1552, Köln, d. 1615, Praha)</td>\n",
              "      <td>Allegory</td>\n",
              "      <td>1598</td>\n",
              "      <td>Oil on copper, 56 x 47 cm</td>\n",
              "      <td>Alte Pinakothek, Munich</td>\n",
              "      <td>https://www.wga.hu/html/a/aachen/allegory.html</td>\n",
              "      <td>painting</td>\n",
              "      <td>mythological</td>\n",
              "      <td>German</td>\n",
              "      <td>1601-1650</td>\n",
              "    </tr>\n",
              "    <tr>\n",
              "      <th>2</th>\n",
              "      <td>AACHEN, Hans von</td>\n",
              "      <td>(b. 1552, Köln, d. 1615, Praha)</td>\n",
              "      <td>Allegory of Peace, Art and Abundance</td>\n",
              "      <td>1602</td>\n",
              "      <td>Oil on canvas, 197 x 142 cm</td>\n",
              "      <td>The Hermitage, St. Petersburg</td>\n",
              "      <td>https://www.wga.hu/html/a/aachen/allegorz.html</td>\n",
              "      <td>painting</td>\n",
              "      <td>mythological</td>\n",
              "      <td>German</td>\n",
              "      <td>1601-1650</td>\n",
              "    </tr>\n",
              "    <tr>\n",
              "      <th>3</th>\n",
              "      <td>AACHEN, Hans von</td>\n",
              "      <td>(b. 1552, Köln, d. 1615, Praha)</td>\n",
              "      <td>Jupiter, Antiope and Cupid</td>\n",
              "      <td>1595-98</td>\n",
              "      <td>Oil on copper, 31 x 21 cm</td>\n",
              "      <td>Kunsthistorisches Museum, Vienna</td>\n",
              "      <td>https://www.wga.hu/html/a/aachen/antiope.html</td>\n",
              "      <td>painting</td>\n",
              "      <td>mythological</td>\n",
              "      <td>German</td>\n",
              "      <td>1601-1650</td>\n",
              "    </tr>\n",
              "    <tr>\n",
              "      <th>4</th>\n",
              "      <td>AACHEN, Hans von</td>\n",
              "      <td>(b. 1552, Köln, d. 1615, Praha)</td>\n",
              "      <td>Pallas Athena, Venus and Juno</td>\n",
              "      <td>1593</td>\n",
              "      <td>Oil on canvas, 54 x 67 cm</td>\n",
              "      <td>Museum of Fine Arts, Boston</td>\n",
              "      <td>https://www.wga.hu/html/a/aachen/athena.html</td>\n",
              "      <td>painting</td>\n",
              "      <td>mythological</td>\n",
              "      <td>German</td>\n",
              "      <td>1601-1650</td>\n",
              "    </tr>\n",
              "  </tbody>\n",
              "</table>\n",
              "</div>"
            ],
            "text/plain": [
              "             AUTHOR                        BORN-DIED  ...  SCHOOL  TIMEFRAME\n",
              "0  AACHEN, Hans von  (b. 1552, Köln, d. 1615, Praha)  ...  German  1601-1650\n",
              "1  AACHEN, Hans von  (b. 1552, Köln, d. 1615, Praha)  ...  German  1601-1650\n",
              "2  AACHEN, Hans von  (b. 1552, Köln, d. 1615, Praha)  ...  German  1601-1650\n",
              "3  AACHEN, Hans von  (b. 1552, Köln, d. 1615, Praha)  ...  German  1601-1650\n",
              "4  AACHEN, Hans von  (b. 1552, Köln, d. 1615, Praha)  ...  German  1601-1650\n",
              "\n",
              "[5 rows x 11 columns]"
            ]
          },
          "metadata": {
            "tags": []
          },
          "execution_count": 5
        }
      ]
    },
    {
      "cell_type": "code",
      "metadata": {
        "hidden": true,
        "colab": {
          "base_uri": "https://localhost:8080/"
        },
        "id": "industrial-evaluation",
        "outputId": "237e848b-6e46-45fe-d658-3f32e5933bb3"
      },
      "source": [
        "len(df)"
      ],
      "id": "industrial-evaluation",
      "execution_count": 6,
      "outputs": [
        {
          "output_type": "execute_result",
          "data": {
            "text/plain": [
              "50575"
            ]
          },
          "metadata": {
            "tags": []
          },
          "execution_count": 6
        }
      ]
    },
    {
      "cell_type": "code",
      "metadata": {
        "hidden": true,
        "colab": {
          "base_uri": "https://localhost:8080/"
        },
        "id": "comparative-findings",
        "outputId": "4435c4cc-f419-4162-e44e-f3e06c8c6d5d"
      },
      "source": [
        "df.dtypes # if we want to use the dates, we need to do some preprocessing"
      ],
      "id": "comparative-findings",
      "execution_count": 7,
      "outputs": [
        {
          "output_type": "execute_result",
          "data": {
            "text/plain": [
              "AUTHOR       object\n",
              "BORN-DIED    object\n",
              "TITLE        object\n",
              "DATE         object\n",
              "TECHNIQUE    object\n",
              "LOCATION     object\n",
              "URL          object\n",
              "FORM         object\n",
              "TYPE         object\n",
              "SCHOOL       object\n",
              "TIMEFRAME    object\n",
              "dtype: object"
            ]
          },
          "metadata": {
            "tags": []
          },
          "execution_count": 7
        }
      ]
    },
    {
      "cell_type": "code",
      "metadata": {
        "hidden": true,
        "colab": {
          "base_uri": "https://localhost:8080/"
        },
        "id": "floppy-architect",
        "outputId": "5ecb5e7c-c0eb-401e-b913-4ccadea88bf6"
      },
      "source": [
        "df.isnull().sum() # we might have to check for other types of null values (maybe '', or '-')"
      ],
      "id": "floppy-architect",
      "execution_count": 8,
      "outputs": [
        {
          "output_type": "execute_result",
          "data": {
            "text/plain": [
              "AUTHOR       0\n",
              "BORN-DIED    0\n",
              "TITLE        0\n",
              "DATE         0\n",
              "TECHNIQUE    0\n",
              "LOCATION     0\n",
              "URL          0\n",
              "FORM         0\n",
              "TYPE         0\n",
              "SCHOOL       0\n",
              "TIMEFRAME    0\n",
              "dtype: int64"
            ]
          },
          "metadata": {
            "tags": []
          },
          "execution_count": 8
        }
      ]
    },
    {
      "cell_type": "markdown",
      "metadata": {
        "heading_collapsed": true,
        "id": "formed-intermediate"
      },
      "source": [
        "### Initial preprocessing"
      ],
      "id": "formed-intermediate"
    },
    {
      "cell_type": "markdown",
      "metadata": {
        "hidden": true,
        "id": "removed-publication"
      },
      "source": [
        "We need to transform the URL (currently an html page) into the usual representation of an image (i.e. np.array of shape (width,height,channels)"
      ],
      "id": "removed-publication"
    },
    {
      "cell_type": "markdown",
      "metadata": {
        "heading_collapsed": true,
        "hidden": true,
        "id": "hybrid-tuner"
      },
      "source": [
        "#### Get link from html to jpg"
      ],
      "id": "hybrid-tuner"
    },
    {
      "cell_type": "markdown",
      "metadata": {
        "hidden": true,
        "id": "potential-newfoundland"
      },
      "source": [
        "The URL of the image is in html form. We need to adjust this URL to get the direct link to the image. This adjustment is based on how the website was built."
      ],
      "id": "potential-newfoundland"
    },
    {
      "cell_type": "code",
      "metadata": {
        "hidden": true,
        "id": "first-genetics"
      },
      "source": [
        "def get_jpg_link(html_link: str) -> str:\n",
        "    \"\"\"Tranform the html_link of the image to its respective jpg_link\"\"\"\n",
        "    \n",
        "    jpg_link = html_link.replace('html','art', 1).replace('html','jpg')\n",
        "    \n",
        "    return jpg_link"
      ],
      "id": "first-genetics",
      "execution_count": 9,
      "outputs": []
    },
    {
      "cell_type": "code",
      "metadata": {
        "hidden": true,
        "colab": {
          "base_uri": "https://localhost:8080/",
          "height": 35
        },
        "id": "crude-telephone",
        "outputId": "79c3ea00-fa9d-45cd-ba71-dac300df3e3e"
      },
      "source": [
        "html_link_test = 'https://www.wga.hu/html/a/aachen/adonis.html'\n",
        "get_jpg_link(html_link_test) # should return 'https://www.wga.hu/art/a/aachen/adonis.jpg'"
      ],
      "id": "crude-telephone",
      "execution_count": 10,
      "outputs": [
        {
          "output_type": "execute_result",
          "data": {
            "application/vnd.google.colaboratory.intrinsic+json": {
              "type": "string"
            },
            "text/plain": [
              "'https://www.wga.hu/art/a/aachen/adonis.jpg'"
            ]
          },
          "metadata": {
            "tags": []
          },
          "execution_count": 10
        }
      ]
    },
    {
      "cell_type": "markdown",
      "metadata": {
        "heading_collapsed": true,
        "hidden": true,
        "id": "comparable-malta"
      },
      "source": [
        "#### Transform jpg to NumPy array"
      ],
      "id": "comparable-malta"
    },
    {
      "cell_type": "code",
      "metadata": {
        "hidden": true,
        "id": "indoor-flexibility"
      },
      "source": [
        "def jpg_to_array(jpg_link: str) -> np.ndarray:\n",
        "    \"\"\"Given an image jpg_link, it returns its vectorial representation\"\"\"\n",
        "    \n",
        "    img_vector = plt.imread(jpg_link, format='jpg')\n",
        "    \n",
        "    return img_vector"
      ],
      "id": "indoor-flexibility",
      "execution_count": 11,
      "outputs": []
    },
    {
      "cell_type": "code",
      "metadata": {
        "hidden": true,
        "scrolled": true,
        "colab": {
          "base_uri": "https://localhost:8080/",
          "height": 379
        },
        "id": "becoming-january",
        "outputId": "e95fbbc4-3bc3-4591-c58f-a23660699f50"
      },
      "source": [
        "random_img_html = df.iloc[np.random.randint(0,len(df))]['URL']\n",
        "random_img_jpg = get_jpg_link(random_img_html)\n",
        "random_img_arr = jpg_to_array(random_img_jpg)\n",
        "\n",
        "print(type(random_img_arr), random_img_arr.shape)\n",
        "\n",
        "plt.imshow(random_img_arr)\n",
        "plt.axis('off');"
      ],
      "id": "becoming-january",
      "execution_count": 12,
      "outputs": [
        {
          "output_type": "error",
          "ename": "FileNotFoundError",
          "evalue": "ignored",
          "traceback": [
            "\u001b[0;31m---------------------------------------------------------------------------\u001b[0m",
            "\u001b[0;31mFileNotFoundError\u001b[0m                         Traceback (most recent call last)",
            "\u001b[0;32m<ipython-input-12-bf793e0866e3>\u001b[0m in \u001b[0;36m<module>\u001b[0;34m()\u001b[0m\n\u001b[1;32m      1\u001b[0m \u001b[0mrandom_img_html\u001b[0m \u001b[0;34m=\u001b[0m \u001b[0mdf\u001b[0m\u001b[0;34m.\u001b[0m\u001b[0miloc\u001b[0m\u001b[0;34m[\u001b[0m\u001b[0mnp\u001b[0m\u001b[0;34m.\u001b[0m\u001b[0mrandom\u001b[0m\u001b[0;34m.\u001b[0m\u001b[0mrandint\u001b[0m\u001b[0;34m(\u001b[0m\u001b[0;36m0\u001b[0m\u001b[0;34m,\u001b[0m\u001b[0mlen\u001b[0m\u001b[0;34m(\u001b[0m\u001b[0mdf\u001b[0m\u001b[0;34m)\u001b[0m\u001b[0;34m)\u001b[0m\u001b[0;34m]\u001b[0m\u001b[0;34m[\u001b[0m\u001b[0;34m'URL'\u001b[0m\u001b[0;34m]\u001b[0m\u001b[0;34m\u001b[0m\u001b[0;34m\u001b[0m\u001b[0m\n\u001b[1;32m      2\u001b[0m \u001b[0mrandom_img_jpg\u001b[0m \u001b[0;34m=\u001b[0m \u001b[0mget_jpg_link\u001b[0m\u001b[0;34m(\u001b[0m\u001b[0mrandom_img_html\u001b[0m\u001b[0;34m)\u001b[0m\u001b[0;34m\u001b[0m\u001b[0;34m\u001b[0m\u001b[0m\n\u001b[0;32m----> 3\u001b[0;31m \u001b[0mrandom_img_arr\u001b[0m \u001b[0;34m=\u001b[0m \u001b[0mjpg_to_array\u001b[0m\u001b[0;34m(\u001b[0m\u001b[0mrandom_img_jpg\u001b[0m\u001b[0;34m)\u001b[0m\u001b[0;34m\u001b[0m\u001b[0;34m\u001b[0m\u001b[0m\n\u001b[0m\u001b[1;32m      4\u001b[0m \u001b[0;34m\u001b[0m\u001b[0m\n\u001b[1;32m      5\u001b[0m \u001b[0mprint\u001b[0m\u001b[0;34m(\u001b[0m\u001b[0mtype\u001b[0m\u001b[0;34m(\u001b[0m\u001b[0mrandom_img_arr\u001b[0m\u001b[0;34m)\u001b[0m\u001b[0;34m,\u001b[0m \u001b[0mrandom_img_arr\u001b[0m\u001b[0;34m.\u001b[0m\u001b[0mshape\u001b[0m\u001b[0;34m)\u001b[0m\u001b[0;34m\u001b[0m\u001b[0;34m\u001b[0m\u001b[0m\n",
            "\u001b[0;32m<ipython-input-11-4453a66ce3ed>\u001b[0m in \u001b[0;36mjpg_to_array\u001b[0;34m(jpg_link)\u001b[0m\n\u001b[1;32m      2\u001b[0m     \u001b[0;34m\"\"\"Given an image jpg_link, it returns its vectorial representation\"\"\"\u001b[0m\u001b[0;34m\u001b[0m\u001b[0;34m\u001b[0m\u001b[0m\n\u001b[1;32m      3\u001b[0m \u001b[0;34m\u001b[0m\u001b[0m\n\u001b[0;32m----> 4\u001b[0;31m     \u001b[0mimg_vector\u001b[0m \u001b[0;34m=\u001b[0m \u001b[0mplt\u001b[0m\u001b[0;34m.\u001b[0m\u001b[0mimread\u001b[0m\u001b[0;34m(\u001b[0m\u001b[0mjpg_link\u001b[0m\u001b[0;34m,\u001b[0m \u001b[0mformat\u001b[0m\u001b[0;34m=\u001b[0m\u001b[0;34m'jpg'\u001b[0m\u001b[0;34m)\u001b[0m\u001b[0;34m\u001b[0m\u001b[0;34m\u001b[0m\u001b[0m\n\u001b[0m\u001b[1;32m      5\u001b[0m \u001b[0;34m\u001b[0m\u001b[0m\n\u001b[1;32m      6\u001b[0m     \u001b[0;32mreturn\u001b[0m \u001b[0mimg_vector\u001b[0m\u001b[0;34m\u001b[0m\u001b[0;34m\u001b[0m\u001b[0m\n",
            "\u001b[0;32m/usr/local/lib/python3.7/dist-packages/matplotlib/pyplot.py\u001b[0m in \u001b[0;36mimread\u001b[0;34m(fname, format)\u001b[0m\n\u001b[1;32m   2059\u001b[0m \u001b[0;34m@\u001b[0m\u001b[0mdocstring\u001b[0m\u001b[0;34m.\u001b[0m\u001b[0mcopy\u001b[0m\u001b[0;34m(\u001b[0m\u001b[0mmatplotlib\u001b[0m\u001b[0;34m.\u001b[0m\u001b[0mimage\u001b[0m\u001b[0;34m.\u001b[0m\u001b[0mimread\u001b[0m\u001b[0;34m)\u001b[0m\u001b[0;34m\u001b[0m\u001b[0;34m\u001b[0m\u001b[0m\n\u001b[1;32m   2060\u001b[0m \u001b[0;32mdef\u001b[0m \u001b[0mimread\u001b[0m\u001b[0;34m(\u001b[0m\u001b[0mfname\u001b[0m\u001b[0;34m,\u001b[0m \u001b[0mformat\u001b[0m\u001b[0;34m=\u001b[0m\u001b[0;32mNone\u001b[0m\u001b[0;34m)\u001b[0m\u001b[0;34m:\u001b[0m\u001b[0;34m\u001b[0m\u001b[0;34m\u001b[0m\u001b[0m\n\u001b[0;32m-> 2061\u001b[0;31m     \u001b[0;32mreturn\u001b[0m \u001b[0mmatplotlib\u001b[0m\u001b[0;34m.\u001b[0m\u001b[0mimage\u001b[0m\u001b[0;34m.\u001b[0m\u001b[0mimread\u001b[0m\u001b[0;34m(\u001b[0m\u001b[0mfname\u001b[0m\u001b[0;34m,\u001b[0m \u001b[0mformat\u001b[0m\u001b[0;34m)\u001b[0m\u001b[0;34m\u001b[0m\u001b[0;34m\u001b[0m\u001b[0m\n\u001b[0m\u001b[1;32m   2062\u001b[0m \u001b[0;34m\u001b[0m\u001b[0m\n\u001b[1;32m   2063\u001b[0m \u001b[0;34m\u001b[0m\u001b[0m\n",
            "\u001b[0;32m/usr/local/lib/python3.7/dist-packages/matplotlib/image.py\u001b[0m in \u001b[0;36mimread\u001b[0;34m(fname, format)\u001b[0m\n\u001b[1;32m   1462\u001b[0m             raise ValueError('Only know how to handle PNG; with Pillow '\n\u001b[1;32m   1463\u001b[0m                              'installed, Matplotlib can handle more images')\n\u001b[0;32m-> 1464\u001b[0;31m         \u001b[0;32mwith\u001b[0m \u001b[0mImage\u001b[0m\u001b[0;34m.\u001b[0m\u001b[0mopen\u001b[0m\u001b[0;34m(\u001b[0m\u001b[0mfname\u001b[0m\u001b[0;34m)\u001b[0m \u001b[0;32mas\u001b[0m \u001b[0mimage\u001b[0m\u001b[0;34m:\u001b[0m\u001b[0;34m\u001b[0m\u001b[0;34m\u001b[0m\u001b[0m\n\u001b[0m\u001b[1;32m   1465\u001b[0m             \u001b[0;32mreturn\u001b[0m \u001b[0mpil_to_array\u001b[0m\u001b[0;34m(\u001b[0m\u001b[0mimage\u001b[0m\u001b[0;34m)\u001b[0m\u001b[0;34m\u001b[0m\u001b[0;34m\u001b[0m\u001b[0m\n\u001b[1;32m   1466\u001b[0m     \u001b[0;32mfrom\u001b[0m \u001b[0mmatplotlib\u001b[0m \u001b[0;32mimport\u001b[0m \u001b[0m_png\u001b[0m\u001b[0;34m\u001b[0m\u001b[0;34m\u001b[0m\u001b[0m\n",
            "\u001b[0;32m/usr/local/lib/python3.7/dist-packages/PIL/Image.py\u001b[0m in \u001b[0;36mopen\u001b[0;34m(fp, mode)\u001b[0m\n\u001b[1;32m   2807\u001b[0m \u001b[0;34m\u001b[0m\u001b[0m\n\u001b[1;32m   2808\u001b[0m     \u001b[0;32mif\u001b[0m \u001b[0mfilename\u001b[0m\u001b[0;34m:\u001b[0m\u001b[0;34m\u001b[0m\u001b[0;34m\u001b[0m\u001b[0m\n\u001b[0;32m-> 2809\u001b[0;31m         \u001b[0mfp\u001b[0m \u001b[0;34m=\u001b[0m \u001b[0mbuiltins\u001b[0m\u001b[0;34m.\u001b[0m\u001b[0mopen\u001b[0m\u001b[0;34m(\u001b[0m\u001b[0mfilename\u001b[0m\u001b[0;34m,\u001b[0m \u001b[0;34m\"rb\"\u001b[0m\u001b[0;34m)\u001b[0m\u001b[0;34m\u001b[0m\u001b[0;34m\u001b[0m\u001b[0m\n\u001b[0m\u001b[1;32m   2810\u001b[0m         \u001b[0mexclusive_fp\u001b[0m \u001b[0;34m=\u001b[0m \u001b[0;32mTrue\u001b[0m\u001b[0;34m\u001b[0m\u001b[0;34m\u001b[0m\u001b[0m\n\u001b[1;32m   2811\u001b[0m \u001b[0;34m\u001b[0m\u001b[0m\n",
            "\u001b[0;31mFileNotFoundError\u001b[0m: [Errno 2] No such file or directory: 'https://www.wga.hu/art/zgothic/miniatur/1201-250/3french/32french.jpg'"
          ]
        }
      ]
    },
    {
      "cell_type": "markdown",
      "metadata": {
        "hidden": true,
        "id": "southern-mobility"
      },
      "source": [
        "Run the above cell a few times. Notice how we have different sizes for different images! This is something we should probably take care of (maybe padding? Or size reduction?)"
      ],
      "id": "southern-mobility"
    },
    {
      "cell_type": "markdown",
      "metadata": {
        "heading_collapsed": true,
        "id": "prompt-heart"
      },
      "source": [
        "## Product ideas"
      ],
      "id": "prompt-heart"
    },
    {
      "cell_type": "markdown",
      "metadata": {
        "heading_collapsed": true,
        "hidden": true,
        "id": "ready-drove"
      },
      "source": [
        "### Paintings that look like pictures"
      ],
      "id": "ready-drove"
    },
    {
      "cell_type": "markdown",
      "metadata": {
        "hidden": true,
        "id": "young-ecology"
      },
      "source": [
        "The user takes a picture of something that he likes (e.g. a sunrise on the sea). The algorithm returns the painting that is most similar to the picture (e.g. _Impression, Sunrise_ by Claude Monet)"
      ],
      "id": "young-ecology"
    },
    {
      "cell_type": "markdown",
      "metadata": {
        "hidden": true,
        "id": "limiting-spyware"
      },
      "source": [
        "<table>\n",
        "    <tr>\n",
        "        <td style=\"text-align:center;font-size:15px\"><strong>Uploaded by the user</strong></td>\n",
        "        <td></td>\n",
        "        <td style=\"text-align:center;font-size:15px\"><strong>Returned by algorithm</strong></td>\n",
        "    </tr>\n",
        "    <tr>\n",
        "        <td> <img src=\"https://pixnio.com/free-images/2017/10/17/2017-10-17-05-52-13.jpg\" width=\"300\"/> </td>\n",
        "        <td>\n",
        "            <img src=\"https://www.clipartkey.com/mpngs/m/38-380671_arrows-black-right-arrow-white-background.png\" width=\"50\"/>\n",
        "        </td>\n",
        "        <td> <img src=\"https://www.wga.hu/art/m/monet/03/0impress.jpg\" width=\"300\"/> </td>\n",
        "    </tr>\n",
        "</table>"
      ],
      "id": "limiting-spyware"
    },
    {
      "cell_type": "code",
      "metadata": {
        "hidden": true,
        "id": "verified-amazon"
      },
      "source": [
        "df[df['TITLE'] == 'Impression, Sunrise']"
      ],
      "id": "verified-amazon",
      "execution_count": null,
      "outputs": []
    },
    {
      "cell_type": "markdown",
      "metadata": {
        "heading_collapsed": true,
        "hidden": true,
        "id": "green-independence"
      },
      "source": [
        "### Paintings recommender system"
      ],
      "id": "green-independence"
    },
    {
      "cell_type": "markdown",
      "metadata": {
        "hidden": true,
        "id": "removable-writing"
      },
      "source": [
        "The user types the title of his favourite painting (e.g. `Impression, Sunrise`). The algorithm returns a list of other painting that are similar to the input and that the user might like."
      ],
      "id": "removable-writing"
    },
    {
      "cell_type": "markdown",
      "metadata": {
        "hidden": true,
        "id": "authorized-authority"
      },
      "source": [
        "<table>\n",
        "    <tr>\n",
        "        <td style=\"text-align:center;font-size:15px\"><strong>Uploaded by the user</strong></td>\n",
        "        <td></td>\n",
        "        <td style=\"text-align:center;font-size:15px\"><strong>Returned by algorithm</strong></td>\n",
        "    </tr>\n",
        "    <tr>\n",
        "        <td style=\"text-align:center;font-size:26px\">\"Impression, Sunrise\"</td>\n",
        "        <td>\n",
        "            <img src=\"https://www.clipartkey.com/mpngs/m/38-380671_arrows-black-right-arrow-white-background.png\" width=\"50\"/>\n",
        "        </td>\n",
        "        <td>\n",
        "            <table>\n",
        "                <tr>\n",
        "                    <td>\n",
        "                        <img src=\"https://images.fineartamerica.com/images/artworkimages/mediumlarge/1/ocean-sunrise-sandy-hemmer.jpg\" width=\"150\"/>\n",
        "                    </td>\n",
        "                    <td>\n",
        "                        <img src=\"https://images.fineartamerica.com/images/artworkimages/mediumlarge/1/abstract-ocean-bay-sunrise-kathy-symonds.jpg\" width=\"150\"/>\n",
        "                    </td>\n",
        "                    <td>\n",
        "                        <img src=\"https://i.pinimg.com/736x/d8/27/c0/d827c0d8164c3ffea31cdb36dad5eeb1.jpg\" width=\"150\"/>\n",
        "                    </td>\n",
        "                </tr>\n",
        "            </table>\n",
        "        </td>\n",
        "    </tr>\n",
        "</table>"
      ],
      "id": "authorized-authority"
    },
    {
      "cell_type": "markdown",
      "metadata": {
        "heading_collapsed": true,
        "hidden": true,
        "id": "bored-luxembourg"
      },
      "source": [
        "### Any other idea?"
      ],
      "id": "bored-luxembourg"
    },
    {
      "cell_type": "code",
      "metadata": {
        "hidden": true,
        "id": "transparent-bristol"
      },
      "source": [
        ""
      ],
      "id": "transparent-bristol",
      "execution_count": null,
      "outputs": []
    }
  ]
}