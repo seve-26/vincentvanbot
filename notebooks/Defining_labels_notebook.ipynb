{
 "cells": [
  {
   "cell_type": "code",
   "execution_count": 3,
   "metadata": {},
   "outputs": [],
   "source": [
    "import pandas as pd\n",
    "import os\n",
    "import matplotlib.pyplot as plt\n",
    "import numpy as np"
   ]
  },
  {
   "cell_type": "code",
   "execution_count": 4,
   "metadata": {},
   "outputs": [
    {
     "name": "stdout",
     "output_type": "stream",
     "text": [
      "  % Total    % Received % Xferd  Average Speed   Time    Time     Time  Current\n",
      "                                 Dload  Upload   Total   Spent    Left  Speed\n",
      "100 1630k  100 1630k    0     0  2965k      0 --:--:-- --:--:-- --:--:-- 2965k\n"
     ]
    }
   ],
   "source": [
    "!curl https://www.wga.hu/database/download/data_txt.zip > data_txt.zip"
   ]
  },
  {
   "cell_type": "code",
   "execution_count": 5,
   "metadata": {},
   "outputs": [
    {
     "name": "stdout",
     "output_type": "stream",
     "text": [
      "Archive:  data_txt.zip\n",
      "  inflating: data/catalog.csv        \n"
     ]
    }
   ],
   "source": [
    "!unzip data_txt.zip -d data"
   ]
  },
  {
   "cell_type": "code",
   "execution_count": 6,
   "metadata": {},
   "outputs": [],
   "source": [
    "!rm data_txt.zip"
   ]
  },
  {
   "cell_type": "code",
   "execution_count": 7,
   "metadata": {},
   "outputs": [
    {
     "data": {
      "text/html": [
       "<div>\n",
       "<style scoped>\n",
       "    .dataframe tbody tr th:only-of-type {\n",
       "        vertical-align: middle;\n",
       "    }\n",
       "\n",
       "    .dataframe tbody tr th {\n",
       "        vertical-align: top;\n",
       "    }\n",
       "\n",
       "    .dataframe thead th {\n",
       "        text-align: right;\n",
       "    }\n",
       "</style>\n",
       "<table border=\"1\" class=\"dataframe\">\n",
       "  <thead>\n",
       "    <tr style=\"text-align: right;\">\n",
       "      <th></th>\n",
       "      <th>AUTHOR</th>\n",
       "      <th>BORN-DIED</th>\n",
       "      <th>TITLE</th>\n",
       "      <th>DATE</th>\n",
       "      <th>TECHNIQUE</th>\n",
       "      <th>LOCATION</th>\n",
       "      <th>URL</th>\n",
       "      <th>FORM</th>\n",
       "      <th>TYPE</th>\n",
       "      <th>SCHOOL</th>\n",
       "      <th>TIMEFRAME</th>\n",
       "    </tr>\n",
       "  </thead>\n",
       "  <tbody>\n",
       "    <tr>\n",
       "      <th>0</th>\n",
       "      <td>AACHEN, Hans von</td>\n",
       "      <td>(b. 1552, Köln, d. 1615, Praha)</td>\n",
       "      <td>Venus and Adonis</td>\n",
       "      <td>1574-88</td>\n",
       "      <td>Oil on canvas, 68 x 95 cm</td>\n",
       "      <td>Fogg Art Museum, Harvard University, Cambridge</td>\n",
       "      <td>https://www.wga.hu/html/a/aachen/adonis.html</td>\n",
       "      <td>painting</td>\n",
       "      <td>mythological</td>\n",
       "      <td>German</td>\n",
       "      <td>1601-1650</td>\n",
       "    </tr>\n",
       "    <tr>\n",
       "      <th>1</th>\n",
       "      <td>AACHEN, Hans von</td>\n",
       "      <td>(b. 1552, Köln, d. 1615, Praha)</td>\n",
       "      <td>Allegory</td>\n",
       "      <td>1598</td>\n",
       "      <td>Oil on copper, 56 x 47 cm</td>\n",
       "      <td>Alte Pinakothek, Munich</td>\n",
       "      <td>https://www.wga.hu/html/a/aachen/allegory.html</td>\n",
       "      <td>painting</td>\n",
       "      <td>mythological</td>\n",
       "      <td>German</td>\n",
       "      <td>1601-1650</td>\n",
       "    </tr>\n",
       "    <tr>\n",
       "      <th>2</th>\n",
       "      <td>AACHEN, Hans von</td>\n",
       "      <td>(b. 1552, Köln, d. 1615, Praha)</td>\n",
       "      <td>Allegory of Peace, Art and Abundance</td>\n",
       "      <td>1602</td>\n",
       "      <td>Oil on canvas, 197 x 142 cm</td>\n",
       "      <td>The Hermitage, St. Petersburg</td>\n",
       "      <td>https://www.wga.hu/html/a/aachen/allegorz.html</td>\n",
       "      <td>painting</td>\n",
       "      <td>mythological</td>\n",
       "      <td>German</td>\n",
       "      <td>1601-1650</td>\n",
       "    </tr>\n",
       "    <tr>\n",
       "      <th>3</th>\n",
       "      <td>AACHEN, Hans von</td>\n",
       "      <td>(b. 1552, Köln, d. 1615, Praha)</td>\n",
       "      <td>Jupiter, Antiope and Cupid</td>\n",
       "      <td>1595-98</td>\n",
       "      <td>Oil on copper, 31 x 21 cm</td>\n",
       "      <td>Kunsthistorisches Museum, Vienna</td>\n",
       "      <td>https://www.wga.hu/html/a/aachen/antiope.html</td>\n",
       "      <td>painting</td>\n",
       "      <td>mythological</td>\n",
       "      <td>German</td>\n",
       "      <td>1601-1650</td>\n",
       "    </tr>\n",
       "    <tr>\n",
       "      <th>4</th>\n",
       "      <td>AACHEN, Hans von</td>\n",
       "      <td>(b. 1552, Köln, d. 1615, Praha)</td>\n",
       "      <td>Pallas Athena, Venus and Juno</td>\n",
       "      <td>1593</td>\n",
       "      <td>Oil on canvas, 54 x 67 cm</td>\n",
       "      <td>Museum of Fine Arts, Boston</td>\n",
       "      <td>https://www.wga.hu/html/a/aachen/athena.html</td>\n",
       "      <td>painting</td>\n",
       "      <td>mythological</td>\n",
       "      <td>German</td>\n",
       "      <td>1601-1650</td>\n",
       "    </tr>\n",
       "  </tbody>\n",
       "</table>\n",
       "</div>"
      ],
      "text/plain": [
       "             AUTHOR                        BORN-DIED  \\\n",
       "0  AACHEN, Hans von  (b. 1552, Köln, d. 1615, Praha)   \n",
       "1  AACHEN, Hans von  (b. 1552, Köln, d. 1615, Praha)   \n",
       "2  AACHEN, Hans von  (b. 1552, Köln, d. 1615, Praha)   \n",
       "3  AACHEN, Hans von  (b. 1552, Köln, d. 1615, Praha)   \n",
       "4  AACHEN, Hans von  (b. 1552, Köln, d. 1615, Praha)   \n",
       "\n",
       "                                  TITLE     DATE                    TECHNIQUE  \\\n",
       "0                      Venus and Adonis  1574-88    Oil on canvas, 68 x 95 cm   \n",
       "1                              Allegory     1598    Oil on copper, 56 x 47 cm   \n",
       "2  Allegory of Peace, Art and Abundance     1602  Oil on canvas, 197 x 142 cm   \n",
       "3            Jupiter, Antiope and Cupid  1595-98    Oil on copper, 31 x 21 cm   \n",
       "4         Pallas Athena, Venus and Juno     1593    Oil on canvas, 54 x 67 cm   \n",
       "\n",
       "                                         LOCATION  \\\n",
       "0  Fogg Art Museum, Harvard University, Cambridge   \n",
       "1                         Alte Pinakothek, Munich   \n",
       "2                   The Hermitage, St. Petersburg   \n",
       "3                Kunsthistorisches Museum, Vienna   \n",
       "4                     Museum of Fine Arts, Boston   \n",
       "\n",
       "                                              URL      FORM          TYPE  \\\n",
       "0    https://www.wga.hu/html/a/aachen/adonis.html  painting  mythological   \n",
       "1  https://www.wga.hu/html/a/aachen/allegory.html  painting  mythological   \n",
       "2  https://www.wga.hu/html/a/aachen/allegorz.html  painting  mythological   \n",
       "3   https://www.wga.hu/html/a/aachen/antiope.html  painting  mythological   \n",
       "4    https://www.wga.hu/html/a/aachen/athena.html  painting  mythological   \n",
       "\n",
       "   SCHOOL  TIMEFRAME  \n",
       "0  German  1601-1650  \n",
       "1  German  1601-1650  \n",
       "2  German  1601-1650  \n",
       "3  German  1601-1650  \n",
       "4  German  1601-1650  "
      ]
     },
     "execution_count": 7,
     "metadata": {},
     "output_type": "execute_result"
    }
   ],
   "source": [
    "path = os.path.join('data','catalog.csv')\n",
    "df = pd.read_csv(path, encoding= 'unicode_escape') # take care of non-ASCII characters such as 'ö'\n",
    "\n",
    "df.head()"
   ]
  },
  {
   "cell_type": "code",
   "execution_count": 8,
   "metadata": {},
   "outputs": [],
   "source": [
    "def get_jpg_link(html_link: str) -> str:\n",
    "    \"\"\"Tranform the html_link of the image to its respective jpg_link\"\"\"\n",
    "    \n",
    "    jpg_link = html_link.replace('html','art', 1).replace('html','jpg')\n",
    "    \n",
    "    return jpg_link"
   ]
  },
  {
   "cell_type": "code",
   "execution_count": 78,
   "metadata": {},
   "outputs": [],
   "source": [
    "url_list3= []\n",
    "for i in range(200):\n",
    "    random_img_html = df.iloc[np.random.randint(0,len(df))]['URL']\n",
    "    url_list3.append(get_jpg_link(random_img_html))"
   ]
  },
  {
   "cell_type": "code",
   "execution_count": 79,
   "metadata": {
    "collapsed": true,
    "jupyter": {
     "outputs_hidden": true
    }
   },
   "outputs": [
    {
     "data": {
      "text/plain": [
       "['https://www.wga.hu/art/g/gozzoli/2montefa/00scheme.jpg',\n",
       " 'https://www.wga.hu/art/n/netscher/constant/mother_c.jpg',\n",
       " 'https://www.wga.hu/art/b/bernini/gianlore/sculptur/1640/scipione.jpg',\n",
       " 'https://www.wga.hu/art/e/eyck_van/jan/09ghent/2closed2/l4donor.jpg',\n",
       " 'https://www.wga.hu/art/v/vos_m/anselmus.jpg',\n",
       " 'https://www.wga.hu/art/b/buttafog/stanthon.jpg',\n",
       " 'https://www.wga.hu/art/s/steen/page1/skittle.jpg',\n",
       " 'https://www.wga.hu/art/zzzarchi/16c/4/02e_1502.jpg',\n",
       " 'https://www.wga.hu/art/b/balen/feastacx.jpg',\n",
       " 'https://www.wga.hu/art/a/amadeo/bergamo/facade1.jpg',\n",
       " 'https://www.wga.hu/art/zgothic/miniatur/1351-400/2italia/09herbal.jpg',\n",
       " 'https://www.wga.hu/art/n/netscher/constant/portrait.jpg',\n",
       " 'https://www.wga.hu/art/f/fontebas/1zenob09.jpg',\n",
       " 'https://www.wga.hu/art/w/witz/c_cross.jpg',\n",
       " 'https://www.wga.hu/art/d/duccio/maesta/verso_2/verso20b.jpg',\n",
       " 'https://www.wga.hu/art/d/durer/2/13/4/079.jpg',\n",
       " 'https://www.wga.hu/art/m/michelan/4drawing/10/03misc.jpg',\n",
       " 'https://www.wga.hu/art/g/gossart/10print/06print.jpg',\n",
       " 'https://www.wga.hu/art/l/lemmen/beach.jpg',\n",
       " 'https://www.wga.hu/art/zgothic/miniatur/1451-500/3flemis4/24flemis.jpg',\n",
       " 'https://www.wga.hu/art/c/cuyp/aelbert/1/1timber.jpg',\n",
       " 'https://www.wga.hu/art/zgothic/1romanes/po-12c21/16f_1134.jpg',\n",
       " 'https://www.wga.hu/art/s/sorgh/akitchen.jpg',\n",
       " 'https://www.wga.hu/art/s/sagot/cluny2.jpg',\n",
       " 'https://www.wga.hu/art/p/perrault/colonna3.jpg',\n",
       " 'https://www.wga.hu/art/j/jaersvel/goblet.jpg',\n",
       " 'https://www.wga.hu/art/p/paolo/fei/virgin1.jpg',\n",
       " 'https://www.wga.hu/art/c/cranach/lucas_e/08/3apollo2.jpg',\n",
       " 'https://www.wga.hu/art/a/amadeo/bergamo/facade9.jpg',\n",
       " 'https://www.wga.hu/art/r/rosselli/cosimo/lastsup3.jpg',\n",
       " 'https://www.wga.hu/art/p/parmigia/3/judith.jpg',\n",
       " 'https://www.wga.hu/art/m/meneghel/1altar61.jpg',\n",
       " 'https://www.wga.hu/art/d/durer/2/12/7smallp/2/21_small.jpg',\n",
       " 'https://www.wga.hu/art/p/piero/1/1miser02.jpg',\n",
       " 'https://www.wga.hu/art/m/master/yunk_fr/yunk_fr1/16muff.jpg',\n",
       " 'https://www.wga.hu/art/h/hals/dirk/banquet.jpg',\n",
       " 'https://www.wga.hu/art/l/lemoyne/jeanloui/the_fear.jpg',\n",
       " 'https://www.wga.hu/art/g/grebber/pieter/mother_c.jpg',\n",
       " 'https://www.wga.hu/art/l/lamberti/niccolo/orsanmi3.jpg',\n",
       " 'https://www.wga.hu/art/p/pajou/wailly1.jpg',\n",
       " 'https://www.wga.hu/art/l/le_nain/visit.jpg',\n",
       " 'https://www.wga.hu/art/v/velazque/02/0212vela.jpg',\n",
       " 'https://www.wga.hu/art/b/boel/stil_owl.jpg',\n",
       " 'https://www.wga.hu/art/m/master/xunk_it/xunk_it1/07sancta.jpg',\n",
       " 'https://www.wga.hu/art/s/sarazin1/pol_leon.jpg',\n",
       " 'https://www.wga.hu/art/a/angelico/07/panel2.jpg',\n",
       " 'https://www.wga.hu/art/w/west/banks.jpg',\n",
       " 'https://www.wga.hu/art/l/loth/good_sam.jpg',\n",
       " 'https://www.wga.hu/art/m/madarasz/5dobozi.jpg',\n",
       " 'https://www.wga.hu/art/b/bernini/gianlore/architec/ariccia4.jpg',\n",
       " 'https://www.wga.hu/art/m/master/pesaro/crucifix.jpg',\n",
       " 'https://www.wga.hu/art/w/wieringe/damiate.jpg',\n",
       " 'https://www.wga.hu/art/a/altdorfe/3/4scenes2.jpg',\n",
       " 'https://www.wga.hu/art/h/hamilto/philipp/pheasant.jpg',\n",
       " 'https://www.wga.hu/art/t/tiepolo/gianbatt/2_1730s/12madon.jpg',\n",
       " 'https://www.wga.hu/art/r/ryckaert/david3/astheold.jpg',\n",
       " 'https://www.wga.hu/art/zzdeco/1gold/17c/05i_1601.jpg',\n",
       " 'https://www.wga.hu/art/m/mirou/schwalb3.jpg',\n",
       " 'https://www.wga.hu/art/c/coysevox/louis14a.jpg',\n",
       " 'https://www.wga.hu/art/g/greuze/innocenx.jpg',\n",
       " 'https://www.wga.hu/art/t/terborch/3/violinis.jpg',\n",
       " 'https://www.wga.hu/art/p/porta1/tomaso/paul1.jpg',\n",
       " 'https://www.wga.hu/art/e/eyck_van/jan/09ghent/1open3/l5pilgr.jpg',\n",
       " 'https://www.wga.hu/art/c/court/womanlyi.jpg',\n",
       " 'https://www.wga.hu/art/p/perino/z_aeneas.jpg',\n",
       " 'https://www.wga.hu/art/o/osona/rodrigo2/shepherd.jpg',\n",
       " 'https://www.wga.hu/art/b/brakenbu/mayqueen.jpg',\n",
       " 'https://www.wga.hu/art/w/witz/stpeter1.jpg',\n",
       " 'https://www.wga.hu/art/f/fuseli/05nightm.jpg',\n",
       " 'https://www.wga.hu/art/m/masolino/brancacc/0view1.jpg',\n",
       " 'https://www.wga.hu/art/g/gogh_van/02/nuenen04.jpg',\n",
       " 'https://www.wga.hu/art/m/master/brunswic/calvary1.jpg',\n",
       " 'https://www.wga.hu/art/r/richtera/crossing.jpg',\n",
       " 'https://www.wga.hu/art/p/pesellin/sacracon.jpg',\n",
       " 'https://www.wga.hu/art/b/bonanno/doors1.jpg',\n",
       " 'https://www.wga.hu/art/zgothic/miniatur/1401-450/6turin/14turin.jpg',\n",
       " 'https://www.wga.hu/art/r/ravestey/stillif2.jpg',\n",
       " 'https://www.wga.hu/art/zzzarchi/12c/2/1/24f_1103.jpg',\n",
       " 'https://www.wga.hu/art/zgothic/miniatur/1351-400/1french/french141.jpg',\n",
       " 'https://www.wga.hu/art/a/angelico/09/cells/31_limbo.jpg',\n",
       " 'https://www.wga.hu/art/d/duccio/maesta/0main/maest_04.jpg',\n",
       " 'https://www.wga.hu/art/w/wesel/altar2.jpg',\n",
       " 'https://www.wga.hu/art/zgothic/miniatur/1301-350/3manesse/07maness.jpg',\n",
       " 'https://www.wga.hu/art/zzzarchi/12c/2/3/07f_1151.jpg',\n",
       " 'https://www.wga.hu/art/l/lens/regulus.jpg',\n",
       " 'https://www.wga.hu/art/c/cranach/lucas_e/03/18jerome.jpg',\n",
       " 'https://www.wga.hu/art/g/gauguin/03/4arles05.jpg',\n",
       " 'https://www.wga.hu/art/zearly/1/1sculptu/capitals/6coptic1.jpg',\n",
       " 'https://www.wga.hu/art/m/masolino/olona/25olona.jpg',\n",
       " 'https://www.wga.hu/art/r/rocca/triumph.jpg',\n",
       " 'https://www.wga.hu/art/f/flotner/venus.jpg',\n",
       " 'https://www.wga.hu/art/a/albani/1/2summer.jpg',\n",
       " 'https://www.wga.hu/art/r/rossi/cesi3.jpg',\n",
       " 'https://www.wga.hu/art/c/cossiers/fortune1.jpg',\n",
       " 'https://www.wga.hu/art/s/schlaun/3rusch1.jpg',\n",
       " 'https://www.wga.hu/art/p/pater/fete_cha.jpg',\n",
       " 'https://www.wga.hu/art/g/giotto/zz_misc/y_mosaic/12navice.jpg',\n",
       " 'https://www.wga.hu/art/m/mijtens/jan/pompe.jpg',\n",
       " 'https://www.wga.hu/art/c/carriera/leblond.jpg',\n",
       " 'https://www.wga.hu/art/b/barbari/venus.jpg',\n",
       " 'https://www.wga.hu/art/b/blanche/fathers.jpg',\n",
       " 'https://www.wga.hu/art/z/zuccaro/federico/bologna.jpg',\n",
       " 'https://www.wga.hu/art/v/vignola/andrea5.jpg',\n",
       " 'https://www.wga.hu/art/s/stresor/oyster_d.jpg',\n",
       " 'https://www.wga.hu/art/zzzarchi/12c/4/04e_1103.jpg',\n",
       " 'https://www.wga.hu/art/c/cordierc/juivre1.jpg',\n",
       " 'https://www.wga.hu/art/m/memberge/noahark4.jpg',\n",
       " 'https://www.wga.hu/art/v/veronese/02a/1choir/1marcel2.jpg',\n",
       " 'https://www.wga.hu/art/v/vittoria/2/dogepont.jpg',\n",
       " 'https://www.wga.hu/art/c/claesz/goblet.jpg',\n",
       " 'https://www.wga.hu/art/zzzarchi/11c/3/12i_1053.jpg',\n",
       " 'https://www.wga.hu/art/d/drost/roman1.jpg',\n",
       " 'https://www.wga.hu/art/m/mino/virgin_c.jpg',\n",
       " 'https://www.wga.hu/art/r/rubens/41portra/09philos.jpg',\n",
       " 'https://www.wga.hu/art/b/bruegel/pieter_e/08/02adorat.jpg',\n",
       " 'https://www.wga.hu/art/b/botticel/90scenic/11calumn.jpg',\n",
       " 'https://www.wga.hu/art/m/michelan/3sistina/1genesis/6adam/06_3ce6.jpg',\n",
       " 'https://www.wga.hu/art/p/poelenbu/mercury.jpg',\n",
       " 'https://www.wga.hu/art/s/sormanip/trellis.jpg',\n",
       " 'https://www.wga.hu/art/l/la_hire/peace_ju.jpg',\n",
       " 'https://www.wga.hu/art/d/degas/3/1870s_77.jpg',\n",
       " 'https://www.wga.hu/art/m/millais/blindgir.jpg',\n",
       " 'https://www.wga.hu/art/m/millet/02trussi.jpg',\n",
       " 'https://www.wga.hu/art/c/canova/1/5magdale.jpg',\n",
       " 'https://www.wga.hu/art/t/tiepolo/gianbatt/5wurzbur/4americ1.jpg',\n",
       " 'https://www.wga.hu/art/h/hondecoe/melchior/peacock.jpg',\n",
       " 'https://www.wga.hu/art/h/hals/frans/06-1643/54nopor2.jpg',\n",
       " 'https://www.wga.hu/art/a/aelst/breakfas.jpg',\n",
       " 'https://www.wga.hu/art/p/picart/stillif1.jpg',\n",
       " 'https://www.wga.hu/art/zgothic/stained/12c/2/04rounde.jpg',\n",
       " 'https://www.wga.hu/art/d/delacroi/3/309delac.jpg',\n",
       " 'https://www.wga.hu/art/m/mena/virgin.jpg',\n",
       " 'https://www.wga.hu/art/m/munkacsy/06munkac.jpg',\n",
       " 'https://www.wga.hu/art/p/pacino/laudari2.jpg',\n",
       " 'https://www.wga.hu/art/c/chernets/gallery.jpg',\n",
       " 'https://www.wga.hu/art/m/master/flemalle/triptych/triptic1.jpg',\n",
       " 'https://www.wga.hu/art/r/rodin/3busts/claudel1.jpg',\n",
       " 'https://www.wga.hu/art/j/jacopo/cione/1/3r2_up1.jpg',\n",
       " 'https://www.wga.hu/art/b/brouwer/smokingm.jpg',\n",
       " 'https://www.wga.hu/art/b/bourdon/scene.jpg',\n",
       " 'https://www.wga.hu/art/f/fabisch/beatrice.jpg',\n",
       " 'https://www.wga.hu/art/z/zurbaran/1/shepherd.jpg',\n",
       " 'https://www.wga.hu/art/zgothic/miniatur/1301-350/1english/73englis.jpg',\n",
       " 'https://www.wga.hu/art/b/bortolin/cornar03.jpg',\n",
       " 'https://www.wga.hu/art/l/lombardo/antonio/miracle.jpg',\n",
       " 'https://www.wga.hu/art/q/quellin/jan/visitati.jpg',\n",
       " 'https://www.wga.hu/art/k/kolbe/fanttree.jpg',\n",
       " 'https://www.wga.hu/art/d/degas/3/1870s_80.jpg',\n",
       " 'https://www.wga.hu/art/l/le_breto/cour1.jpg',\n",
       " 'https://www.wga.hu/art/g/gerhard/fountain.jpg',\n",
       " 'https://www.wga.hu/art/j/janneck/company.jpg',\n",
       " 'https://www.wga.hu/art/d/dance/portanne.jpg',\n",
       " 'https://www.wga.hu/art/b/binck/christi1.jpg',\n",
       " 'https://www.wga.hu/art/v/veyrier/christ.jpg',\n",
       " 'https://www.wga.hu/art/b/bassetti/adoratio.jpg',\n",
       " 'https://www.wga.hu/art/n/nerocci/madonnc.jpg',\n",
       " 'https://www.wga.hu/art/t/trautman/firescen.jpg',\n",
       " 'https://www.wga.hu/art/zearly/1/1sculptu/various/6throne3.jpg',\n",
       " 'https://www.wga.hu/art/t/tiziano/01_1510s/11padua1.jpg',\n",
       " 'https://www.wga.hu/art/zzdeco/3furnitu/2/6g_1cupb.jpg',\n",
       " 'https://www.wga.hu/art/f/fuseli/05nightx.jpg',\n",
       " 'https://www.wga.hu/art/o/oudry/father/deadwolf.jpg',\n",
       " 'https://www.wga.hu/art/t/terborch/2/woman_w.jpg',\n",
       " 'https://www.wga.hu/art/s/savery/roelandt/crabfish.jpg',\n",
       " 'https://www.wga.hu/art/m/master/honore/somme.jpg',\n",
       " 'https://www.wga.hu/art/m/master/zunk_ge/zunk_ge8/04christ.jpg',\n",
       " 'https://www.wga.hu/art/b/bentley/bentley5.jpg',\n",
       " 'https://www.wga.hu/art/p/palamede/anthonie/officer.jpg',\n",
       " 'https://www.wga.hu/art/l/lippi/filippo/1450pr/00view.jpg',\n",
       " 'https://www.wga.hu/art/h/hildebr/christma.jpg',\n",
       " 'https://www.wga.hu/art/d/durer/2/12/2apocaly/12apocal.jpg',\n",
       " 'https://www.wga.hu/art/s/spiering/amadigi1.jpg',\n",
       " 'https://www.wga.hu/art/a/andrea/castagno/1_1440s/08lasts9.jpg',\n",
       " 'https://www.wga.hu/art/d/duccio/maesta/0main/maest_01c.jpg',\n",
       " 'https://www.wga.hu/art/c/cortona/5/vialata2.jpg',\n",
       " 'https://www.wga.hu/art/b/bosch/5panels/18mocked.jpg',\n",
       " 'https://www.wga.hu/art/m/micheloz/1/2medici6.jpg',\n",
       " 'https://www.wga.hu/art/c/coypel/noel/selfport.jpg',\n",
       " 'https://www.wga.hu/art/s/sisley/2other/paris1.jpg',\n",
       " 'https://www.wga.hu/art/n/nerocci/benedic3.jpg',\n",
       " 'https://www.wga.hu/art/zzzarchi/13c/2/2/50f_1251.jpg',\n",
       " 'https://www.wga.hu/art/m/memling/3mature3/25more1.jpg',\n",
       " 'https://www.wga.hu/art/p/perronne/girl_kit.jpg',\n",
       " 'https://www.wga.hu/art/r/rembrand/31landsc/07landsc.jpg',\n",
       " 'https://www.wga.hu/art/zgothic/gothic/3a/2trade03.jpg',\n",
       " 'https://www.wga.hu/art/t/turchi/lamentat.jpg',\n",
       " 'https://www.wga.hu/art/m/michelan/1sculptu/medici/2lorenz41.jpg',\n",
       " 'https://www.wga.hu/art/m/micheloz/2/pulpit.jpg',\n",
       " 'https://www.wga.hu/art/r/ryckaert/david3/farm_int.jpg',\n",
       " 'https://www.wga.hu/art/m/michelan/5archite/early/1lorenzo.jpg',\n",
       " 'https://www.wga.hu/art/v/vellert/2triumph.jpg',\n",
       " 'https://www.wga.hu/art/m/manet/4/4manet04.jpg',\n",
       " 'https://www.wga.hu/art/l/lippi/flippino/carafa/2assump7.jpg',\n",
       " 'https://www.wga.hu/art/p/pucelle/evreux5.jpg',\n",
       " 'https://www.wga.hu/art/f/fontana/lavinia/jesusapp.jpg',\n",
       " 'https://www.wga.hu/art/m/master/zunk_fl/graphics/interior.jpg',\n",
       " 'https://www.wga.hu/art/s/sisley/2other/moret4.jpg',\n",
       " 'https://www.wga.hu/art/g/giotto/z_panel/3polypty/10polypt.jpg',\n",
       " 'https://www.wga.hu/art/d/duquesno/jerome2/tomb2.jpg',\n",
       " 'https://www.wga.hu/art/r/rustici/baptist1.jpg']"
      ]
     },
     "execution_count": 79,
     "metadata": {},
     "output_type": "execute_result"
    }
   ],
   "source": [
    "url_list3"
   ]
  },
  {
   "cell_type": "code",
   "execution_count": 42,
   "metadata": {
    "collapsed": true,
    "jupyter": {
     "outputs_hidden": true
    }
   },
   "outputs": [
    {
     "data": {
      "text/plain": [
       "['https://www.wga.hu/art/o/oudry/father/huntstag.jpg',\n",
       " 'https://www.wga.hu/art/b/bartolom/fruosino/desco1.jpg',\n",
       " 'https://www.wga.hu/art/p/pomaranc/domitill.jpg',\n",
       " 'https://www.wga.hu/art/j/juvarra/cristin1.jpg',\n",
       " 'https://www.wga.hu/art/m/mantegna/07/2sposi08.jpg',\n",
       " 'https://www.wga.hu/art/zzzarchi/16c/6/09b_1555.jpg',\n",
       " 'https://www.wga.hu/art/p/pillemen/landwash.jpg',\n",
       " 'https://www.wga.hu/art/u/urbani/vendra04.jpg',\n",
       " 'https://www.wga.hu/art/m/master/zunk_ge/zunk_ge5/9print2.jpg',\n",
       " 'https://www.wga.hu/art/p/premazzi/loggiai.jpg',\n",
       " 'https://www.wga.hu/art/r/rubens/41portra/22sp1623.jpg',\n",
       " 'https://www.wga.hu/art/c/chardin/2/08waterj.jpg',\n",
       " 'https://www.wga.hu/art/zgothic/1romanes/cap-11c/24s_1002.jpg',\n",
       " 'https://www.wga.hu/art/l/lorenzo/niccolo/coronati.jpg',\n",
       " 'https://www.wga.hu/art/c/clodion/montesq1.jpg',\n",
       " 'https://www.wga.hu/art/zgothic/mosaics/4palatin/25nave_s.jpg',\n",
       " 'https://www.wga.hu/art/r/rosselin/bernardo/egidio1.jpg',\n",
       " 'https://www.wga.hu/art/p/pellegri/1/pair1.jpg',\n",
       " 'https://www.wga.hu/art/m/master/xunk_it/xunk_it2c/08galati.jpg',\n",
       " 'https://www.wga.hu/art/s/seghers/daniel/garland.jpg',\n",
       " 'https://www.wga.hu/art/b/borromin/agone2.jpg',\n",
       " 'https://www.wga.hu/art/r/rembrand/53drawin/5/115stud.jpg',\n",
       " 'https://www.wga.hu/art/b/bazille/08afterb.jpg',\n",
       " 'https://www.wga.hu/art/a/antoine/monnaie2.jpg',\n",
       " 'https://www.wga.hu/art/k/kobke/view_squ.jpg',\n",
       " 'https://www.wga.hu/art/w/ward/escape.jpg',\n",
       " 'https://www.wga.hu/art/l/leonardo/03/3litta.jpg',\n",
       " 'https://www.wga.hu/art/w/weyden/rogier/14pieta/7lamenta.jpg',\n",
       " 'https://www.wga.hu/art/b/bellini/giovanni/1480-89/2frari/134frar2.jpg',\n",
       " 'https://www.wga.hu/art/c/covarrub/hospita3.jpg',\n",
       " 'https://www.wga.hu/art/g/gozzoli/1early/06monte1.jpg',\n",
       " 'https://www.wga.hu/art/c/cortona/2/3giove4a.jpg',\n",
       " 'https://www.wga.hu/art/t/tintoret/3b/1albergo/1/03ceilin.jpg',\n",
       " 'https://www.wga.hu/art/t/terborch/1/suitor.jpg',\n",
       " 'https://www.wga.hu/art/r/rembrand/12passio/05passio.jpg',\n",
       " 'https://www.wga.hu/art/s/signorel/various/4holyfam.jpg',\n",
       " 'https://www.wga.hu/art/m/monet/01/early20.jpg',\n",
       " 'https://www.wga.hu/art/p/pisano/nicola/1pisa_3.jpg',\n",
       " 'https://www.wga.hu/art/u/utrecht/stillveg.jpg',\n",
       " 'https://www.wga.hu/art/l/lopez/son2/goddess.jpg',\n",
       " 'https://www.wga.hu/art/b/bernini/gianlore/zdrawing/selfpor1.jpg',\n",
       " 'https://www.wga.hu/art/m/memling/2middle3/15novirg.jpg',\n",
       " 'https://www.wga.hu/art/m/maulbert/01youth.jpg',\n",
       " 'https://www.wga.hu/art/f/felici/percival.jpg',\n",
       " 'https://www.wga.hu/art/f/francia/various/2crucif2.jpg',\n",
       " 'https://www.wga.hu/art/a/albani/2/phaeton4.jpg',\n",
       " 'https://www.wga.hu/art/c/coustou/guillaux/dauphin1.jpg',\n",
       " 'https://www.wga.hu/art/g/greco_el/11/1102grec.jpg',\n",
       " 'https://www.wga.hu/art/c/cellini/1/01salt.jpg',\n",
       " 'https://www.wga.hu/art/c/ceresa/ladyhand.jpg',\n",
       " 'https://www.wga.hu/art/zzdeco/1gold/08c/desider4.jpg',\n",
       " 'https://www.wga.hu/art/c/covarrub/hospita4.jpg',\n",
       " 'https://www.wga.hu/art/v/velazque/06/0603vela.jpg',\n",
       " 'https://www.wga.hu/art/j/juan/1/lazarus3.jpg',\n",
       " 'https://www.wga.hu/art/r/reynolds/serpents.jpg',\n",
       " 'https://www.wga.hu/art/c/crosato/apollo.jpg',\n",
       " 'https://www.wga.hu/art/m/maes/drummer.jpg',\n",
       " 'https://www.wga.hu/art/r/ravestej/couple1.jpg',\n",
       " 'https://www.wga.hu/art/l/lorenzet/pietro/2/15birth2.jpg',\n",
       " 'https://www.wga.hu/art/a/arcimbol/5nature/042_128r.jpg',\n",
       " 'https://www.wga.hu/art/t/toulouse/2/4misc02.jpg',\n",
       " 'https://www.wga.hu/art/h/hackert/philipp/volturno.jpg',\n",
       " 'https://www.wga.hu/art/m/master/pesaro/cecilia.jpg',\n",
       " 'https://www.wga.hu/art/m/meckel/gasworks.jpg',\n",
       " 'https://www.wga.hu/art/f/ferrari/gaudenzi/vercelli/2assunt2.jpg',\n",
       " 'https://www.wga.hu/art/s/saftleve/herman/viewlinz.jpg',\n",
       " 'https://www.wga.hu/art/a/andreani/triumph8.jpg',\n",
       " 'https://www.wga.hu/art/c/cernotto/finding.jpg',\n",
       " 'https://www.wga.hu/art/h/heda/ham_silv.jpg',\n",
       " 'https://www.wga.hu/art/t/tibaldi/2/bologna2.jpg',\n",
       " 'https://www.wga.hu/art/b/brown_ma/murray.jpg',\n",
       " 'https://www.wga.hu/art/b/boullogn/louis_y/troyes1.jpg',\n",
       " 'https://www.wga.hu/art/zzzarchi/14c/5/11s_1301.jpg',\n",
       " 'https://www.wga.hu/art/k/kager/goldenha.jpg',\n",
       " 'https://www.wga.hu/art/r/ricci/sebastia/1/venus_sa.jpg',\n",
       " 'https://www.wga.hu/art/b/bury/countess.jpg',\n",
       " 'https://www.wga.hu/art/m/macdonal/winchil.jpg',\n",
       " 'https://www.wga.hu/art/r/raphael/7drawing/1/38study.jpg',\n",
       " 'https://www.wga.hu/art/g/gossart/04religi/3adamev2.jpg',\n",
       " 'https://www.wga.hu/art/g/gherardk/colonna4.jpg',\n",
       " 'https://www.wga.hu/art/t/terborch/3/concers.jpg',\n",
       " 'https://www.wga.hu/art/q/quercia/jacopo/bologna/ilaria_.jpg',\n",
       " 'https://www.wga.hu/art/m/master/hausbuch/lamentat.jpg',\n",
       " 'https://www.wga.hu/art/l/lorenzo/monaco/2/38monaco.jpg',\n",
       " 'https://www.wga.hu/art/p/perugino/cambio/3famous2.jpg',\n",
       " 'https://www.wga.hu/art/zgothic/gothic/1/01f_1230.jpg',\n",
       " 'https://www.wga.hu/art/s/soldani/relief2.jpg',\n",
       " 'https://www.wga.hu/art/b/baerz/dijon4.jpg',\n",
       " 'https://www.wga.hu/art/s/sorgh/tavern.jpg',\n",
       " 'https://www.wga.hu/art/m/master/zunk_du/1/triptyc2.jpg',\n",
       " 'https://www.wga.hu/art/d/degas/5/1890s_06.jpg',\n",
       " 'https://www.wga.hu/art/m/murillo/1/102muril.jpg',\n",
       " 'https://www.wga.hu/art/zgothic/miniatur/0651-700/2other/asburnh6.jpg',\n",
       " 'https://www.wga.hu/art/m/metsu/1/pendant2.jpg',\n",
       " 'https://www.wga.hu/art/c/chardin/2/07canary.jpg',\n",
       " 'https://www.wga.hu/art/c/custodis/hynde1.jpg',\n",
       " 'https://www.wga.hu/art/zzzarchi/16c/4/01e_1501.jpg',\n",
       " 'https://www.wga.hu/art/c/caravagg/12/75stjohn.jpg',\n",
       " 'https://www.wga.hu/art/r/rizzo/adam_eve.jpg',\n",
       " 'https://www.wga.hu/art/l/longhena/4rezzon2.jpg']"
      ]
     },
     "execution_count": 42,
     "metadata": {},
     "output_type": "execute_result"
    }
   ],
   "source": [
    "url_list2"
   ]
  },
  {
   "cell_type": "code",
   "execution_count": 15,
   "metadata": {
    "collapsed": true,
    "jupyter": {
     "outputs_hidden": true
    }
   },
   "outputs": [
    {
     "data": {
      "text/plain": [
       "['https://www.wga.hu/art/zzzarchi/13c/3/2/6padua12.jpg',\n",
       " 'https://www.wga.hu/art/m/massys/quentin/2/ugly_duc.jpg',\n",
       " 'https://www.wga.hu/art/r/rembrand/21portra/05portra.jpg',\n",
       " 'https://www.wga.hu/art/m/mor/1maximi1.jpg',\n",
       " 'https://www.wga.hu/art/p/ponzello/doria3.jpg',\n",
       " 'https://www.wga.hu/art/c/canalett/g1/canalg10.jpg',\n",
       " 'https://www.wga.hu/art/g/giovanni/rimini/life_chm.jpg',\n",
       " 'https://www.wga.hu/art/zgothic/mosaics/5monreal/2transe4.jpg',\n",
       " 'https://www.wga.hu/art/r/robbia/andrea/la_verna/3verna.jpg',\n",
       " 'https://www.wga.hu/art/g/gericaul/1/105geric.jpg',\n",
       " 'https://www.wga.hu/art/b/bellano/virgin.jpg',\n",
       " 'https://www.wga.hu/art/b/bosch/5panels/11shipfo.jpg',\n",
       " 'https://www.wga.hu/art/m/mostaert/jan/ador_mag.jpg',\n",
       " 'https://www.wga.hu/art/l/loutherb/sh_wreck.jpg',\n",
       " 'https://www.wga.hu/art/o/ochterve/s_musici.jpg',\n",
       " 'https://www.wga.hu/art/t/tiepolo/gianbatt/5wurzbur/1hall2.jpg',\n",
       " 'https://www.wga.hu/art/s/salimbe/various/mysticma.jpg',\n",
       " 'https://www.wga.hu/art/h/holbein/hans_y/2drawing/1530/09meyer.jpg',\n",
       " 'https://www.wga.hu/art/m/memling/1early2/04notri3.jpg',\n",
       " 'https://www.wga.hu/art/zgothic/miniatur/1451-500/2italia3/12religi.jpg',\n",
       " 'https://www.wga.hu/art/h/halle/childsav.jpg',\n",
       " 'https://www.wga.hu/art/zgothic/miniatur/1401-450/2french/27religi.jpg',\n",
       " 'https://www.wga.hu/art/c/canalett/8/canal8081.jpg',\n",
       " 'https://www.wga.hu/art/w/wynants/riverlan.jpg',\n",
       " 'https://www.wga.hu/art/c/cortona/2/5apollo3.jpg',\n",
       " 'https://www.wga.hu/art/m/mantegna/02/sanluca2.jpg',\n",
       " 'https://www.wga.hu/art/r/romano/p_medal1.jpg',\n",
       " 'https://www.wga.hu/art/zzzarchi/14c/4/7glouce1.jpg',\n",
       " 'https://www.wga.hu/art/p/predis/ambrogio/portram.jpg',\n",
       " 'https://www.wga.hu/art/l/leonardo/12engine/3flying2.jpg',\n",
       " 'https://www.wga.hu/art/w/wolgemut/dance_de.jpg',\n",
       " 'https://www.wga.hu/art/r/rizzo/eve1.jpg',\n",
       " 'https://www.wga.hu/art/g/grassi/viscont3.jpg',\n",
       " 'https://www.wga.hu/art/m/master/zunk_ge/zunk_ge7/07angel.jpg',\n",
       " 'https://www.wga.hu/art/g/gartner/berlinpa.jpg',\n",
       " 'https://www.wga.hu/art/zzzarchi/12c/1/15g_1154.jpg',\n",
       " 'https://www.wga.hu/art/l/leonardo/07study1/7leda1.jpg',\n",
       " 'https://www.wga.hu/art/c/civitale/genova4.jpg',\n",
       " 'https://www.wga.hu/art/g/gobert/ladyhebe.jpg',\n",
       " 'https://www.wga.hu/art/zgothic/miniatur/1251-300/1english/57englis.jpg',\n",
       " 'https://www.wga.hu/art/d/delacroi/4/410delac.jpg',\n",
       " 'https://www.wga.hu/art/c/cezanne/4/3lands05.jpg',\n",
       " 'https://www.wga.hu/art/t/tiziano/08a/1ferra2c.jpg',\n",
       " 'https://www.wga.hu/art/zzzarchi/17c/1/03g_1652.jpg',\n",
       " 'https://www.wga.hu/art/m/master/zunk_du/2/abbot.jpg',\n",
       " 'https://www.wga.hu/art/c/claesz/herrin.jpg',\n",
       " 'https://www.wga.hu/art/e/eschwege/sintra2.jpg',\n",
       " 'https://www.wga.hu/art/d/dossi/dosso/cosmas_d.jpg',\n",
       " 'https://www.wga.hu/art/p/pontelli/sistina.jpg',\n",
       " 'https://www.wga.hu/art/v/vonnoh/poppies.jpg']"
      ]
     },
     "execution_count": 15,
     "metadata": {},
     "output_type": "execute_result"
    }
   ],
   "source": [
    "url_list"
   ]
  },
  {
   "cell_type": "code",
   "execution_count": 16,
   "metadata": {},
   "outputs": [],
   "source": [
    "label_test = {'Cloud': 6, 'Sky': 8, 'Building': 9, 'City': 7, 'Facade': 14, 'Window': 5, 'Arcade': 6, 'Urban design': 1, 'Arch': 12, 'Mixed-use': 1, 'Ancient roman architecture': 1, 'Medieval architecture': 10, 'Pedestrian': 1, 'Street': 2, 'Tourism': 2, 'Classical architecture': 5, 'Historic site': 6, 'Transport': 1, 'Tourist attraction': 7, 'Town square': 1, 'Downtown': 1, 'History': 29, 'Travel': 1, 'Art': 46, 'Cobblestone': 1, 'Head': 2, 'Chin': 3, 'Beard': 2, 'Gesture': 4, 'Painting': 34, 'Chest': 10, 'Turban': 1, 'Wrinkle': 2, 'Illustration': 31, 'Facial hair': 2, 'Happy': 1, 'Visual arts': 42, 'Moustache': 1, 'Flesh': 4, 'Wrist': 1, 'Thumb': 1, 'Tradition': 2, 'Prophet': 8, 'Mythology': 24, 'Paint': 7, 'Drawing': 22, 'Vintage clothing': 11, 'Tints and shades': 10, 'Darkness': 1, 'Artist': 4, 'Sitting': 7, 'Still life': 9, 'Hat': 3, 'Still life photography': 3, 'Artwork': 14, 'Carmine': 1, 'Modern art': 7, 'Portrait': 6, 'Outerwear': 2, 'Sleeve': 2, 'Thigh': 2, 'Fashion design': 2, 'Épée': 1, 'Victorian fashion': 3, 'Costume design': 4, 'Knee': 1, 'Uniform': 1, 'Armour': 2, 'Human leg': 3, 'Pattern': 11, 'Boot': 1, 'Waist': 2, 'Recreation': 3, 'Interior design': 3, 'Fixture': 2, 'Stairs': 2, 'Symmetry': 9, 'Hall': 2, 'Ceiling': 5, 'Stained glass': 1, 'Event': 12, 'Vault': 2, 'Religious institute': 8, 'Column': 5, 'Chapel': 5, 'Holy places': 16, 'Byzantine architecture': 5, 'Glass': 4, 'Temple': 8, 'Church': 6, 'Place of worship': 10, 'House': 4, 'Plant': 8, 'Monochrome': 3, 'Sketch': 5, 'Roof': 4, 'Almshouse': 1, 'Village': 1, 'Turret': 4, 'Watercolor paint': 6, 'Textile': 4, 'Religious item': 12, 'Ancient history': 14, 'Stock photography': 15, 'Middle ages': 6, 'Mural': 2, 'Shrine': 1, 'Wood': 15, 'Font': 15, 'Collectable': 5, 'Artifact': 12, 'Symbol': 5, 'Sculpture': 9, 'Statue': 8, 'Carving': 8, 'Relief': 4, 'Cross': 3, 'Stone carving': 3, 'Classical sculpture': 5, 'Cg artwork': 2, 'Landscape': 7, 'Mountain': 2, 'Battle': 1, 'Soldier': 1, 'Fictional character': 6, 'Conquistador': 1, 'Rock': 3, 'Strategy video game': 1, 'Grassland': 2, 'Mountain range': 1, 'Action-adventure game': 1, 'Pc game': 1, 'Military organization': 1, 'Infantry': 1, 'Troop': 1, 'Rectangle': 5, 'Stele': 1, 'Metal': 11, 'Tree': 8, 'Pilgrims': 1, 'Water': 3, 'Atmosphere': 1, 'Natural landscape': 5, 'Watercourse': 2, 'Atmospheric phenomenon': 1, 'Cumulus': 1, 'Wind wave': 1, 'Wind': 1, 'Formation': 1, 'Geological phenomenon': 1, 'Storm': 1, 'Calm': 1, 'Geology': 1, 'Horizon': 1, 'Meteorological phenomenon': 1, 'Rapid': 1, 'Klippe': 1, 'Ocean': 1, 'Kneeling': 2, 'Performing arts': 1, 'Flooring': 1, 'Picture frame': 3, 'Conversation': 2, 'Entertainment': 1, 'Room': 3, 'Ornament': 2, 'Decoration': 1, 'Antique': 3, 'Collection': 2, 'Human body': 6, 'Nose': 1, 'Cheek': 1, 'Lip': 1, 'Eyebrow': 2, 'Jaw': 2, 'Neck': 1, 'Self-portrait': 3, 'Long hair': 2, 'Brown hair': 1, 'Child': 1, 'Dress': 1, 'Skeleton': 1, 'Costume': 1, 'Creative arts': 6, 'Rug': 1, 'Paper product': 1, 'Paper': 2, 'Eye': 1, 'Cat': 1, 'Organ': 1, 'Felidae': 1, 'Comfort': 1, 'Carnivore': 1, 'Small to medium-sized cats': 1, 'Lap': 1, 'Whiskers': 1, 'Smile': 1, 'Fur': 1, 'Fun': 2, 'Nativity scene': 1, 'Jewellery': 2, 'Organism': 4, 'Biome': 2, 'Terrestrial plant': 1, 'Sports equipment': 1, 'Soil': 1, 'Wall': 1, 'Line': 2, 'Morning': 2, 'Shadow': 1, 'Town': 1, 'Horse': 1, 'Ecoregion': 2, 'Natural environment': 2, 'Rural area': 1, 'Working animal': 1, 'Lake': 2, 'Adaptation': 2, 'Pack animal': 1, 'Leisure': 2, 'Rein': 1, 'Dome': 1, 'Baptistery': 1, 'Circle': 5, 'Ancient rome': 1, 'Vestment': 1, 'Cope': 1, 'Convent': 2, 'Altar': 1, 'Parish': 3, 'Oval': 1, 'Amber': 1, 'Body jewelry': 1, 'Fashion accessory': 2, 'Badge': 1, 'Serveware': 2, 'Brass': 1, 'Natural material': 1, 'Gemstone': 1, 'Crest': 1, 'Cityscape': 1, 'Metropolis': 1, 'Spire': 2, 'Tower': 2, 'Government': 1, 'Steeple': 2, 'Grass': 4, 'Gothic architecture': 1, 'Stately home': 2, 'Poster': 1, 'Signature': 1, 'Book cover': 1, 'Cap': 1, 'Feathered hair': 1, 'Graphic design': 2, 'Retro style': 2, 'Advertising': 1, 'Parallel': 1, 'Technical drawing': 1, 'Line art': 3, 'Diagram': 1, 'Schematic': 1, 'Mammal': 2, 'Printmaking': 2, 'Elbow': 2, 'Figure drawing': 2, 'Boat': 1, 'Trunk': 2, 'Barechested': 3, 'Monument': 5, 'Nonbuilding structure': 3, 'Balance': 1, 'Bronze': 2, 'Standing': 1, 'Bronze sculpture': 1, 'Figurine': 1, 'Molding': 1, 'Baluster': 1, 'Castle': 1, 'Bridge': 1, 'Brick': 3, 'Grass family': 2, 'People in nature': 2, 'Abdomen': 2, 'Twig': 1, 'Landmark': 1, 'Monarch': 1, 'Formal wear': 1, 'Leg': 1, 'Human': 2, 'Art paint': 2, 'Bank': 1, 'Forest': 1, 'Wetland': 1, 'Reflection': 1, 'Pond': 1, 'Shorts': 1, 'Vertebrate': 1, 'Muscle': 1, 'Underpants': 1, 'Door': 1, 'Hand': 1, 'Photograph': 1, 'White': 1, 'Black': 2, 'Architecture': 1, 'Black-and-white': 1, 'Style': 1, 'Monochrome photography': 1, 'Automotive lighting': 1, 'Helmet': 1, 'Bivalve': 1, 'Vehicle': 1, 'Personal protective equipment': 1, 'Ingredient': 1, 'Automotive exhaust': 1, 'Automotive wheel system': 1, 'Food': 1, 'Wheel': 1, 'Material property': 1, 'Flower': 1, 'Petal': 1, 'Botany': 1, 'Groundcover': 1, 'Herbaceous plant': 1, 'corn poppy': 1, 'Flowering plant': 1, 'Meadow': 1, 'Annual plant': 1, 'Shrub': 1}"
   ]
  },
  {
   "cell_type": "code",
   "execution_count": 27,
   "metadata": {},
   "outputs": [],
   "source": [
    "newA = sorted(label_test, key=label_test.get, reverse=True)[:25]"
   ]
  },
  {
   "cell_type": "code",
   "execution_count": 32,
   "metadata": {},
   "outputs": [],
   "source": [
    "sorted_values = sorted(label_test.values(),reverse=True)"
   ]
  },
  {
   "cell_type": "code",
   "execution_count": 30,
   "metadata": {
    "collapsed": true,
    "jupyter": {
     "outputs_hidden": true
    }
   },
   "outputs": [
    {
     "data": {
      "text/plain": [
       "['Art',\n",
       " 'Visual arts',\n",
       " 'Painting',\n",
       " 'Illustration',\n",
       " 'History',\n",
       " 'Mythology',\n",
       " 'Drawing',\n",
       " 'Holy places',\n",
       " 'Stock photography',\n",
       " 'Wood',\n",
       " 'Font',\n",
       " 'Facade',\n",
       " 'Artwork',\n",
       " 'Ancient history',\n",
       " 'Arch',\n",
       " 'Event',\n",
       " 'Religious item',\n",
       " 'Artifact',\n",
       " 'Vintage clothing',\n",
       " 'Pattern',\n",
       " 'Metal',\n",
       " 'Medieval architecture',\n",
       " 'Chest',\n",
       " 'Tints and shades',\n",
       " 'Place of worship']"
      ]
     },
     "execution_count": 30,
     "metadata": {},
     "output_type": "execute_result"
    }
   ],
   "source": [
    "newA"
   ]
  },
  {
   "cell_type": "code",
   "execution_count": 35,
   "metadata": {
    "collapsed": true,
    "jupyter": {
     "outputs_hidden": true
    }
   },
   "outputs": [
    {
     "data": {
      "text/plain": [
       "[46,\n",
       " 42,\n",
       " 34,\n",
       " 31,\n",
       " 29,\n",
       " 24,\n",
       " 22,\n",
       " 16,\n",
       " 15,\n",
       " 15,\n",
       " 15,\n",
       " 14,\n",
       " 14,\n",
       " 14,\n",
       " 12,\n",
       " 12,\n",
       " 12,\n",
       " 12,\n",
       " 11,\n",
       " 11,\n",
       " 11,\n",
       " 10,\n",
       " 10,\n",
       " 10,\n",
       " 10]"
      ]
     },
     "execution_count": 35,
     "metadata": {},
     "output_type": "execute_result"
    }
   ],
   "source": [
    "sorted_values[:25]"
   ]
  },
  {
   "cell_type": "code",
   "execution_count": 40,
   "metadata": {
    "collapsed": true,
    "jupyter": {
     "outputs_hidden": true,
     "source_hidden": true
    }
   },
   "outputs": [
    {
     "data": {
      "image/png": "[encoded data removed]",
      "text/plain": [
       "<Figure size 432x288 with 1 Axes>"
      ]
     },
     "metadata": {
      "needs_background": "light"
     },
     "output_type": "display_data"
    }
   ],
   "source": [
    "import matplotlib.pyplot as pl\n",
    "axes = plt.gca()\n",
    "X = np.arange(len(label_test))\n",
    "pl.bar(X, label_test.values(), align='center', width=0.5)\n",
    "pl.xticks(X, label_test.keys())\n",
    "pl.xticks(rotation=20)\n",
    "ymax = max(label_test.values()) + 1\n",
    "axes.set_ylim([10,55])\n",
    "pl.ylim(0, ymax)\n",
    "pl.show()"
   ]
  },
  {
   "cell_type": "code",
   "execution_count": 59,
   "metadata": {},
   "outputs": [],
   "source": [
    "label_test2 = {'Sky': 20, 'Cloud': 13, 'Human body': 8, 'Tree': 16, 'Plant': 13, 'People in nature': 7, 'Working animal': 3, 'Art': 96, 'Painting': 74, 'Grass': 6, 'Landscape': 15, 'Happy': 2, 'Bull': 1, 'Paint': 16, 'Grassland': 1, 'Recreation': 2, 'Illustration': 66, 'Visual arts': 85, 'Terrestrial animal': 4, 'Livestock': 2, 'Trunk': 10, 'Leisure': 5, 'Mythology': 46, 'Drawing': 50, 'Watercolor paint': 14, 'Head': 5, 'Rectangle': 7, 'Wood': 23, 'Dishware': 3, 'Font': 19, 'Symbol': 5, 'Building': 21, 'Circle': 5, 'Facade': 27, 'Fashion accessory': 5, 'Serveware': 7, 'History': 52, 'Emblem': 1, 'Oval': 3, 'Graphics': 2, 'House': 6, 'Vertebrate': 2, 'Supernatural creature': 4, 'Fictional character': 13, 'Event': 27, 'Cg artwork': 10, 'Religious item': 21, 'Prophet': 17, 'Bird': 1, 'Artist': 13, 'Monarch': 2, 'Angel': 1, 'Temple': 21, 'Door': 6, 'Car': 1, 'City': 14, 'Wheel': 1, 'Symmetry': 19, 'Monument': 15, 'Statue': 18, 'Metropolis': 3, 'Tire': 1, 'Medieval architecture': 18, 'Arch': 22, 'Sculpture': 22, 'Street': 4, 'Classical architecture': 12, 'Place of worship': 20, 'Holy places': 34, 'Mid-size car': 1, 'Church': 8, 'Tourism': 3, 'World': 1, 'Formation': 1, 'Adaptation': 2, 'Landmark': 10, 'Tints and shades': 14, 'Bedrock': 1, 'Human settlement': 2, 'Geology': 1, 'Archaeological site': 2, 'Ancient history': 24, 'Rock': 2, 'Outcrop': 1, 'Wilderness': 2, 'Window': 14, 'Turret': 2, 'Historic site': 13, 'Convent': 2, 'Winter': 1, 'Water resources': 1, 'Ecoregion': 2, 'Mountain': 2, 'Natural landscape': 4, 'Highland': 2, 'Watercourse': 1, 'Sunlight': 2, 'Body of water': 3, 'Atmospheric phenomenon': 4, 'Bank': 2, 'Terrain': 2, 'Mountain range': 2, 'Mountainous landforms': 2, 'Sunrise': 1, 'Forest': 1, 'Geological phenomenon': 1, 'Hill': 3, 'Road': 3, 'Mural': 10, 'Column': 10, 'Ceiling': 10, 'Stock photography': 36, 'Ancient roman architecture': 3, 'Byzantine architecture': 13, 'Chest': 18, 'Conquistador': 4, 'Pattern': 9, 'Line art': 3, 'Middle ages': 14, 'Printmaking': 3, 'Costume design': 8, 'Collectable': 2, 'Line': 1, 'Wall': 4, 'Brick': 4, 'Arcade': 7, 'Paper product': 4, 'Beard': 8, 'Facial hair': 7, 'Moustache': 4, 'Self-portrait': 11, 'Vintage clothing': 26, 'Hat': 6, 'Darkness': 8, 'Portrait': 17, 'Costume hat': 1, 'Formal wear': 6, 'Modern art': 13, 'Portrait photography': 3, 'Tableware': 1, 'Drinkware': 1, 'Gas': 1, 'Cylinder': 1, 'Liquid': 1, 'Monochrome': 11, 'Metal': 15, 'Glass': 2, 'Monochrome photography': 8, 'Still life photography': 16, 'Still life': 17, 'Shadow': 1, 'Transparent material': 1, 'Drink': 1, 'Artwork': 30, 'Hand': 1, 'Eye': 2, 'Gesture': 4, 'Style': 4, 'Artifact': 23, 'Creative arts': 7, 'Wrinkle': 3, 'Classical sculpture': 12, 'Snout': 2, 'Relief': 15, 'Carving': 26, 'Lighting': 4, 'Architecture': 4, 'Chapel': 9, 'Religious institute': 13, 'Entertainment': 4, 'Plaster': 1, 'Stone carving': 12, 'Nonbuilding structure': 5, 'Sitting': 18, 'Memorial': 3, 'Tourist attraction': 14, 'Marble': 1, 'Dome': 3, 'Molding': 5, 'Fun': 6, 'Textile': 6, 'Organism': 3, 'Fashion design': 7, 'Victorian fashion': 7, 'Tradition': 7, 'Collection': 6, 'Flower': 2, 'Petal': 1, 'Twig': 3, 'Fruit': 1, 'Insect': 1, 'Flower Arranging': 2, 'Artificial flower': 1, 'Flowering plant': 1, 'Shrub': 1, 'Floral design': 2, 'Cut flowers': 1, 'Rose family': 1, 'Daytime': 1, 'Finial': 1, 'Spire': 2, 'Roof': 1, 'Jaw': 6, 'Sleeve': 6, 'Figure drawing': 4, 'Ink': 1, 'Sketch': 2, 'Fiction': 2, 'Elbow': 3, 'Flash photography': 4, 'Art model': 2, 'Barechested': 5, 'Thigh': 2, 'Foot': 2, 'Barefoot': 2, 'Human leg': 3, 'Room': 11, 'Knee': 2, 'Fur': 6, 'Flesh': 7, 'Abdomen': 3, 'Property': 2, 'Neighbourhood': 1, 'Residential area': 1, 'Urban design': 1, 'Mixed-use': 2, 'Commercial building': 1, 'Condominium': 1, 'Apartment': 1, 'Headquarters': 1, 'Official residence': 2, 'Sash window': 1, 'People': 3, 'Rural area': 2, 'Big cats': 1, 'Felidae': 1, 'Lion': 1, 'Masai lion': 1, 'Tail': 2, 'Wildlife': 2, 'Cheek': 4, 'Baby': 4, 'Toddler': 2, 'Child': 4, 'Love': 1, 'Picture frame': 6, 'Courtyard': 1, 'Estate': 1, 'Mansion': 1, 'Interior design': 3, 'Gold': 1, 'Antique': 6, 'Platter': 1, 'Retro style': 5, 'Dog': 1, 'Performing arts': 4, 'Carnivore': 3, 'Companion dog': 2, 'Acting': 1, 'Drama': 1, 'Dog breed': 1, 'Performance art': 3, 'Performance': 1, 'Stage': 1, 'heater': 1, 'Music': 1, 'Chair': 4, 'Conversation': 3, 'Dress': 3, 'Umbrella': 1, 'Headgear': 4, 'Beauty': 2, 'Headpiece': 1, 'Spring': 1, 'Floristry': 1, 'Navel': 3, 'Forehead': 2, 'Nose': 2, 'Eyebrow': 2, 'Paper': 2, 'Graphite': 1, 'Kneeling': 2, 'Blessing': 1, 'Nativity scene': 3, 'Pray': 1, 'Heat': 1, 'Choreography': 1, 'Dance': 2, 'White': 1, 'Neck': 4, 'Ceramic': 2, 'Porcelain': 1, 'Lawn ornament': 1, 'Figurine': 4, 'Human': 2, 'Crucifix': 2, 'Cross': 2, 'Wrist': 2, 'Home door': 1, 'Photograph': 1, 'Black': 1, 'Standing': 2, 'Black-and-white': 2, 'Public space': 1, 'Snapshot': 1, 'Bronze sculpture': 3, 'Art paint': 8, 'Mammal': 1, 'Souvenir': 1, 'Bronze': 3, 'Brass': 1, 'Toy': 1, 'Fashion illustration': 1, 'Hall': 2, 'Ballroom': 3, 'Flooring': 1, 'Chin': 2, 'Photography': 2, 'Chandelier': 1, 'Light fixture': 1, 'Baptistery': 1, 'Couch': 1, 'Musical instrument': 1, 'Folk instrument': 1, 'Face': 1, 'Wrap': 1, 'Fedora': 1, 'Shawl': 1, 'Stole': 1, 'No expression': 1, 'Scarf': 1, 'Woolen': 1, 'Embellishment': 1, 'Mustelidae': 1, 'Rodent': 1, 'Whiskers': 1, 'Marine mammal': 1, 'Claw': 1, 'Muskrat': 1, 'Festival': 1, 'Water': 3, 'Natural environment': 1, 'Biome': 1, 'Lake': 3, 'Summer': 1, 'Morning': 2, 'Meadow': 1, 'Boat': 2, 'Pollution': 1, 'Vehicle': 1, 'Watercraft': 2, 'Horizon': 2, 'Smoke': 1, 'Ship': 1, 'Water transportation': 1, 'Hill station': 1, 'Cumulus': 1, 'Fell': 1, 'Brown': 2, 'Stele': 1, 'Pilgrims': 4, 'Horse': 2, 'Fontange': 1, 'Wings': 1, 'Acrylic paint': 2, 'Battle': 1, 'Brickwork': 1, 'Gothic architecture': 2, 'Blue': 1, 'Fixture': 1, 'Daylighting': 1, 'Electric blue': 1, 'Jewellery': 1, 'Necklace': 1, 'Gothic fashion': 1, 'Goth subculture': 1, 'Meditation': 1, 'Hair': 2, 'Ear': 1, 'Helmet': 1, 'Shoulder': 2, 'Muscle': 2, 'Mouth': 1, 'Waist': 1, 'Back': 1, 'Waste container': 1, 'Classic': 1, 'Reading': 1, 'Vestment': 1, 'Museum': 1, 'Anthropology': 1, 'Balance': 1, 'Furniture': 1, 'Table': 1, 'Stool': 1, 'Crowd': 1, 'Travel': 1, 'Transport': 1, 'Bovine': 1, 'Leg': 1, 'Ball': 1, 'Shorts': 1, 'Handwriting': 1, 'Collar': 1, 'Barrister': 1, 'Stately home': 1, 'Steeple': 1, 'Government': 1, 'Parish': 1, 'National historic landmark': 1, 'Fawn': 1, 'Jungle': 1, 'Joint': 1, 'Reflection': 1, 'Channel': 1}"
   ]
  },
  {
   "cell_type": "code",
   "execution_count": 72,
   "metadata": {
    "collapsed": true,
    "jupyter": {
     "outputs_hidden": true
    }
   },
   "outputs": [
    {
     "data": {
      "text/plain": [
       "['Art',\n",
       " 'Visual arts',\n",
       " 'Painting',\n",
       " 'Illustration',\n",
       " 'History',\n",
       " 'Drawing',\n",
       " 'Mythology',\n",
       " 'Stock photography',\n",
       " 'Holy places',\n",
       " 'Artwork',\n",
       " 'Facade',\n",
       " 'Event',\n",
       " 'Vintage clothing',\n",
       " 'Carving',\n",
       " 'Ancient history',\n",
       " 'Wood',\n",
       " 'Artifact',\n",
       " 'Arch',\n",
       " 'Sculpture',\n",
       " 'Building',\n",
       " 'Religious item',\n",
       " 'Temple',\n",
       " 'Sky',\n",
       " 'Place of worship',\n",
       " 'Font']"
      ]
     },
     "execution_count": 72,
     "metadata": {},
     "output_type": "execute_result"
    }
   ],
   "source": [
    "newA2 = sorted(label_test2, key=label_test2.get, reverse=True)\n",
    "newA2[:25]"
   ]
  },
  {
   "cell_type": "code",
   "execution_count": 77,
   "metadata": {
    "collapsed": true,
    "jupyter": {
     "outputs_hidden": true
    }
   },
   "outputs": [
    {
     "data": {
      "text/plain": [
       "[96,\n",
       " 85,\n",
       " 74,\n",
       " 66,\n",
       " 52,\n",
       " 50,\n",
       " 46,\n",
       " 36,\n",
       " 34,\n",
       " 30,\n",
       " 27,\n",
       " 27,\n",
       " 26,\n",
       " 26,\n",
       " 24,\n",
       " 23,\n",
       " 23,\n",
       " 22,\n",
       " 22,\n",
       " 21,\n",
       " 21,\n",
       " 21,\n",
       " 20,\n",
       " 20,\n",
       " 19]"
      ]
     },
     "execution_count": 77,
     "metadata": {},
     "output_type": "execute_result"
    }
   ],
   "source": [
    "sorted_values2 = sorted(label_test2.values(),reverse=True)\n",
    "sorted_values2[:25]"
   ]
  },
  {
   "cell_type": "code",
   "execution_count": 80,
   "metadata": {},
   "outputs": [],
   "source": [
    "label_test3 = {'Product': 1, 'Rectangle': 26, 'Font': 42, 'Line': 4, 'Parallel': 2, 'Symmetry': 24, 'Diagram': 1, 'Illustration': 132, 'Design': 1, 'Pattern': 25, 'Slope': 3, 'Event': 56, 'Plan': 1, 'Circle': 11, 'Number': 1, 'Electric blue': 5, 'Triangle': 1, 'Hairstyle': 5, 'Art': 188, 'Painting': 137, 'Art paint': 16, 'Plant': 26, 'Visual arts': 173, 'Victorian fashion': 12, 'Mythology': 107, 'Sitting': 30, 'Tree': 40, 'Drawing': 121, 'Watercolor paint': 37, 'Portrait': 27, 'Child': 5, 'Tourist attraction': 49, 'Artist': 22, 'Vintage clothing': 50, 'Still life': 30, 'Artwork': 75, 'Overskirt': 1, 'Modern art': 23, 'Formal wear': 8, 'Clothing': 1, 'Forehead': 4, 'Hair': 3, 'Head': 6, 'Outerwear': 2, 'Eye': 7, 'Jaw': 11, 'Sleeve': 14, 'Collar': 1, 'Facial hair': 13, 'Beard': 23, 'Moustache': 6, 'History': 125, 'Uniform': 1, 'Stock photography': 75, 'Sculpture': 43, 'Costume hat': 1, 'Classical sculpture': 23, 'Bow tie': 1, 'Monochrome': 18, 'Gesture': 9, 'Religious item': 28, 'Cloak': 1, 'Vestment': 3, 'Cape': 3, 'Artifact': 53, 'Cope': 2, 'Prophet': 31, 'Religious institute': 12, 'Elder': 2, 'Fashion': 1, 'Textile': 18, 'Social group': 1, 'Room': 24, 'Toddler': 4, 'Musical instrument': 5, 'Hat': 10, 'Collection': 22, 'Cloud': 30, 'Holy places': 69, 'Picture frame': 19, 'Pilgrims': 16, 'Ancient history': 52, 'Medieval architecture': 27, 'Arch': 31, 'Middle ages': 32, 'Vertebrate': 3, 'Branch': 2, 'Sky': 38, 'Mammal': 1, 'Black-and-white': 1, 'Style': 3, 'Landscape': 36, 'People in nature': 9, 'Woody plant': 2, 'Wood': 52, 'Morning': 3, 'Adaptation': 6, 'Tints and shades': 27, 'Monochrome photography': 10, 'Natural landscape': 11, 'Winter': 2, 'Grass': 13, 'Building': 30, 'Window': 30, 'Bird': 3, 'Finial': 1, 'City': 16, 'Facade': 30, 'Roof': 4, 'Metropolis': 1, 'Brickwork': 4, 'Urban area': 2, 'Monument': 25, 'Spire': 6, 'Human settlement': 5, 'Brick': 5, 'Dome': 3, 'Turret': 5, 'Byzantine architecture': 13, 'Historic site': 17, 'Steeple': 4, 'Classical architecture': 18, 'Kneeling': 4, 'Flesh': 7, 'Temple': 20, 'Column': 16, 'Arcade': 11, 'Place of worship': 17, 'Dress': 4, 'Fontange': 1, 'Costume design': 9, 'Self-portrait': 14, 'Embellishment': 3, 'Peach': 4, 'Antique': 22, 'Vase': 2, 'Cross': 4, 'Pray': 1, 'Crucifix': 2, 'Symbol': 8, 'Blessing': 1, 'Pole': 5, 'Worship': 1, 'Ritual': 2, 'Organism': 11, 'Printmaking': 12, 'Paper': 10, 'Beige': 1, 'Chest': 31, 'Paper product': 12, 'Line art': 10, 'Sketch': 10, 'Working animal': 13, 'Wrinkle': 5, 'Boat': 5, 'Paint': 32, 'Watercraft': 5, 'Water': 7, 'Creative arts': 15, 'Horizon': 6, 'Calm': 1, 'Beach': 1, 'Evening': 4, 'Wind wave': 1, 'Acrylic paint': 4, 'Blue': 1, 'Publication': 4, 'Poster': 3, 'Advertising': 1, 'Bank': 2, 'Boats and boating--Equipment and supplies': 3, 'Lake': 3, 'Waterway': 2, 'Vehicle': 5, 'Reflection': 1, 'Carving': 37, 'Relief': 26, 'Archaeological site': 4, 'Stone wall': 1, 'Door': 6, 'Stone carving': 23, 'Musician': 5, 'Darkness': 11, 'Still life photography': 22, 'Architecture': 5, 'Landmark': 9, 'Church': 6, 'Gothic architecture': 4, 'Almshouse': 1, 'Flag': 1, 'House': 9, 'Ancient roman architecture': 5, 'Official residence': 2, 'Mixed-use': 1, 'Courthouse': 1, 'Mansion': 1, 'Government': 1, 'Estate': 2, 'Seat of local government': 1, 'Tableware': 6, 'Drinkware': 4, 'Serveware': 11, 'Stemware': 1, 'Barware': 2, 'Glass': 7, 'Dishware': 2, 'Metal': 36, 'Fashion accessory': 5, 'Champagne stemware': 1, 'Porcelain': 3, 'Balance': 3, 'Bronze': 6, 'Brass': 3, 'Interior design': 9, 'Ceramic': 3, 'Face': 2, 'Cheek': 10, 'Human body': 10, 'Mural': 8, 'Leg': 3, 'Nature': 1, 'Thigh': 3, 'Barechested': 9, 'Trunk': 19, 'Fawn': 2, 'Abdomen': 6, 'Summer': 1, 'Happy': 3, 'Snapshot': 1, 'Barefoot': 2, 'Human leg': 6, 'Statue': 27, 'Molding': 5, 'No expression': 4, 'Supernatural creature': 6, 'Fictional character': 20, 'Figure drawing': 4, 'Conquistador': 6, 'Angel': 2, 'Wing': 2, 'Mythical creature': 3, 'Graffiti': 1, 'Automotive tire': 2, 'Personal protective equipment': 2, 'Rock': 13, 'Carmine': 1, 'Automotive wheel system': 3, 'Graphics': 3, 'Human': 4, 'Navel': 3, 'Chair': 4, 'Classic': 3, 'Nonbuilding structure': 11, 'Memorial': 3, 'Toy': 3, 'Figurine': 7, 'National historic landmark': 3, 'Lion': 1, 'Museum': 3, 'Flash photography': 8, 'Lap': 2, 'Baby': 5, 'Jewellery': 5, 'Retro style': 5, 'Fun': 7, 'Book': 6, 'Family': 1, 'Waist': 3, 'Knot': 1, 'Chin': 5, 'Shadow': 2, 'Portrait photography': 6, 'Cg artwork': 16, 'Extinction': 1, 'Fiction': 7, 'Action figure': 1, 'Skull': 1, 'Graphic design': 1, 'Wall': 4, 'Chapel': 9, 'Atmosphere': 2, 'Sunset': 3, 'Sunrise': 3, 'Plain': 2, 'Rural area': 2, 'Grassland': 6, 'Hill': 3, 'Dusk': 2, 'Mist': 1, 'Arm': 2, 'Longbow': 1, 'Violinist': 2, 'Monarch': 3, 'Wrist': 2, 'Dragon': 1, 'Steppe': 1, 'Ceiling': 13, 'Beauty': 3, 'Ceiling fixture': 1, 'Vault': 5, 'Motif': 1, 'Daylighting': 1, 'Plaster': 1, 'Spear': 2, 'Ship': 3, 'Galiot': 1, 'Shorts': 1, 'Leisure': 2, 'Recreation': 4, 'Travel': 3, 'Table': 8, 'Team': 1, 'Tourism': 5, 'Beak': 2, 'Feather': 2, 'Twig': 3, 'Galliformes': 2, 'Tail': 2, 'Phasianidae': 2, 'Wildlife': 2, 'Terrestrial animal': 3, 'Perching bird': 1, 'Falconiformes': 2, 'Songbird': 1, 'Fur': 4, 'Conversation': 6, 'Wine glass': 1, 'Kitchen utensil': 1, 'Pottery': 2, 'Cutlery': 1, 'Spoon': 1, 'Body jewelry': 1, 'Nickel': 2, 'Tool': 1, 'Cookware and bakeware': 1, 'earthenware': 2, 'Natural material': 1, 'Bowl': 1, 'Household silver': 1, 'Handwriting': 4, 'Fence': 1, 'Plantation': 1, 'Plant stem': 1, 'Photograph': 3, 'Black': 3, 'Pedestal': 2, 'Nose': 3, 'Lip': 2, 'Eyebrow': 3, 'Facial expression': 1, 'Iris': 3, 'National monument': 1, 'Tradition': 2, 'Holiday': 1, 'Eyelash': 1, 'Fashion design': 4, 'Fashion illustration': 1, 'Bedrock': 2, 'Terrain': 3, 'Geological phenomenon': 1, 'Formation': 3, 'Outcrop': 3, 'Geology': 2, 'Soil': 3, 'Sand': 1, 'Badlands': 1, 'Fault': 1, 'Battle': 4, 'Rebellion': 1, 'Dog': 2, 'Performing arts': 4, 'Sharing': 1, 'Dance': 1, 'Entertainment': 3, 'Dancer': 1, 'Nativity scene': 1, 'Convent': 1, 'Parish': 4, 'Loom': 1, 'Machine': 1, 'Auto part': 2, 'Weaving': 1, 'Pc game': 1, 'Ecoregion': 2, 'Horse': 1, 'Mountain': 1, 'Body of water': 1, 'Gondola': 1, 'Water transportation': 2, 'Oar': 1, 'Lake district': 1, 'White': 1, 'Photography': 3, 'Collectable': 9, 'Glass bottle': 1, 'Pitcher': 1, 'Urn': 1, 'Kettle': 1, 'Jug': 1, 'Tower': 2, 'Ancient rome': 1, 'Unesco world heritage site': 1, 'Ancient greek temple': 1, 'Document': 1, 'Brown': 5, 'Anthropology': 3, 'Bronze sculpture': 6, 'Craft': 1, 'Property': 3, 'Vegetation': 1, 'Land lot': 1, 'Biome': 1, 'Cottage': 2, 'Residential area': 1, \"Bird's-eye view\": 1, 'Suburb': 1, 'Village': 2, 'Home': 2, 'Lighting': 1, 'Cat': 2, 'Living room': 1, 'Carnivore': 3, 'Comfort': 1, 'Flooring': 5, 'Felidae': 3, 'Hardwood': 3, 'Couch': 2, 'Small to medium-sized cats': 2, 'Lamp': 2, 'Wood flooring': 1, 'Sandal': 1, 'Flowerpot': 2, 'Shelf': 2, 'Souvenir': 2, 'Copper': 1, 'Monastery': 1, 'Shrine': 1, 'String instrument': 1, 'Plucked string instruments': 1, 'Music': 2, 'Folk instrument': 1, 'Classical music': 2, 'Ancient dog breeds': 1, 'Standing': 1, 'Human anatomy': 1, 'Knee': 2, 'Furniture': 2, 'Reading': 3, 'Stool': 1, 'Bench': 4, 'Hall': 3, 'Automotive lighting': 1, 'Motorcycle': 1, 'Motor vehicle': 1, 'Headlamp': 1, 'Automotive exterior': 1, 'Automotive design': 1, 'Motorcycle accessories': 1, 'Bivalve': 1, 'Automotive exhaust': 1, 'Leather': 1, 'Bracelet': 1, 'Cuisine': 1, 'Lawn': 1, 'Hand': 2, 'Crowd': 3, 'Curtain': 2, 'Candle holder': 1, 'Home accessories': 2, 'Trophy': 1, 'Light fixture': 2, 'Lighting accessory': 1, 'Ballroom': 1, 'Function hall': 1, 'Neck': 2, 'Long hair': 3, 'Romance': 1, 'Foot': 1, 'World': 3, 'Clock': 1, 'Watch': 1, 'Longcase clock': 1, 'Light': 1, 'Sunlight': 1, 'Arecales': 1, 'Palm tree': 1, 'Luggage and bags': 2, 'Backpack': 1, 'Jungle': 1, 'Bookcase': 1, 'Shelving': 2, 'Desk': 2, 'Writing desk': 1, 'Library': 1, 'Eyewear': 1, 'Wilderness': 2, 'Hay': 1, 'Peafowl': 1, 'Botany': 1, 'Accipitriformes': 1, 'Flightless bird': 1, 'Headpiece': 2, 'Ornament': 1, 'Decoration': 1, 'Flower': 1, 'Flower Arranging': 1, 'Rose': 1, 'Petal': 1, 'Artificial flower': 1, 'Tablecloth': 1, 'Floristry': 1, 'Bouquet': 1, 'Cut flowers': 1, 'Floral design': 1, 'Magenta': 1, 'Linens': 1, 'Fixture': 4, 'Stained glass': 2, 'Scrap': 1, 'Pollution': 2, 'Waste': 1, 'Strategy video game': 1, 'Headgear': 1, 'Flat panel display': 1, 'Display device': 1, 'Multimedia': 1, 'Natural environment': 1, 'Forest': 3, 'Woodland': 1, 'Bag': 1, 'Daytime': 1, 'Lobby': 1, 'Pedestrian': 1, 'Muscle': 1, 'One-piece garment': 3, 'Day dress': 3, 'Gown': 3, 'Bridal accessory': 2, 'Fashion model': 2, 'Silk': 1, 'Environmental art': 1, 'Big cats': 1, 'Sun hat': 1, 'Manor house': 1, 'Castle': 1, 'Road surface': 1, 'Cobblestone': 1, 'Urban design': 1, 'Courtyard': 1, 'University': 1, 'Stately home': 2, 'Listed building': 1, 'Water feature': 1, 'Wedding dress': 1, 'Makeover': 1, 'Black hair': 1, 'Haute couture': 1, 'Lawn ornament': 1, 'Smoke': 1, 'Heat': 1, 'Fire': 1, 'Flame': 1, 'Night': 1, 'Nebula': 1, 'Stele': 1, 'Wood stain': 1, 'Cupboard': 1, 'Home door': 1, 'Varnish': 1, 'Plywood': 1, 'Wheelbarrow': 1, 'Wheel': 2, 'Cart': 1, 'Livestock': 1, 'Companion dog': 1, 'Dog breed': 1, 'Canidae': 1, 'Cumulus': 2, 'Conifer': 1, 'Wind instrument': 1, 'Épée': 1, 'Violist': 1, 'Pipe': 1, 'Woodwind instrument': 1, 'Building material': 3, 'Baluster': 1, 'Shade': 1, 'People': 1, 'Material property': 1, 'Street': 2, 'Town square': 1, 'Houseplant': 1, 'Canal': 1, 'Channel': 1, 'Ruins': 1, 'Archaeology': 1, 'Smile': 1, 'Organ': 1, 'Whiskers': 1, 'Tire': 1}"
   ]
  },
  {
   "cell_type": "code",
   "execution_count": 125,
   "metadata": {},
   "outputs": [
    {
     "data": {
      "text/plain": [
       "['Art',\n",
       " 'Visual arts',\n",
       " 'Painting',\n",
       " 'Illustration',\n",
       " 'History',\n",
       " 'Drawing',\n",
       " 'Mythology',\n",
       " 'Artwork',\n",
       " 'Stock photography',\n",
       " 'Holy places',\n",
       " 'Event',\n",
       " 'Artifact',\n",
       " 'Ancient history',\n",
       " 'Wood',\n",
       " 'Vintage clothing',\n",
       " 'Tourist attraction',\n",
       " 'Sculpture',\n",
       " 'Font',\n",
       " 'Tree',\n",
       " 'Sky',\n",
       " 'Watercolor paint',\n",
       " 'Carving',\n",
       " 'Landscape',\n",
       " 'Metal',\n",
       " 'Middle ages',\n",
       " 'Paint',\n",
       " 'Prophet',\n",
       " 'Arch',\n",
       " 'Chest',\n",
       " 'Sitting',\n",
       " 'Still life',\n",
       " 'Cloud',\n",
       " 'Building']"
      ]
     },
     "execution_count": 125,
     "metadata": {},
     "output_type": "execute_result"
    }
   ],
   "source": [
    "newA3 = sorted(label_test3, key=label_test3.get, reverse=True)\n",
    "newA3[0:33]"
   ]
  },
  {
   "cell_type": "code",
   "execution_count": 126,
   "metadata": {},
   "outputs": [
    {
     "data": {
      "text/plain": [
       "[188,\n",
       " 173,\n",
       " 137,\n",
       " 132,\n",
       " 125,\n",
       " 121,\n",
       " 107,\n",
       " 75,\n",
       " 75,\n",
       " 69,\n",
       " 56,\n",
       " 53,\n",
       " 52,\n",
       " 52,\n",
       " 50,\n",
       " 49,\n",
       " 43,\n",
       " 42,\n",
       " 40,\n",
       " 38,\n",
       " 37,\n",
       " 37,\n",
       " 36,\n",
       " 36,\n",
       " 32,\n",
       " 32,\n",
       " 31,\n",
       " 31,\n",
       " 31,\n",
       " 30,\n",
       " 30,\n",
       " 30,\n",
       " 30]"
      ]
     },
     "execution_count": 126,
     "metadata": {},
     "output_type": "execute_result"
    }
   ],
   "source": [
    "sorted_values3 = sorted(label_test3.values(),reverse=True)\n",
    "sorted_values3[0:33]"
   ]
  },
  {
   "cell_type": "code",
   "execution_count": 91,
   "metadata": {},
   "outputs": [],
   "source": [
    "final_list = ['Illustration',\n",
    " 'History',\n",
    " 'Drawing',\n",
    " 'Mythology',\n",
    " 'Artwork',\n",
    " 'Stock photography',\n",
    " 'Holy places',\n",
    " 'Event',\n",
    " 'Artifact',\n",
    " 'Ancient history',\n",
    " 'Wood',\n",
    " 'Vintage clothing',\n",
    " 'Tourist attraction',\n",
    " 'Sculpture',\n",
    " 'Font',\n",
    " 'Tree',\n",
    " 'Sky',\n",
    " 'Carving',\n",
    " 'Landscape',\n",
    " 'Metal',\n",
    " 'Middle ages',\n",
    " 'Prophet',\n",
    " 'Arch',\n",
    " 'Cloud',\n",
    " 'Building']"
   ]
  },
  {
   "cell_type": "code",
   "execution_count": null,
   "metadata": {},
   "outputs": [],
   "source": []
  },
  {
   "cell_type": "code",
   "execution_count": null,
   "metadata": {},
   "outputs": [],
   "source": []
  },
  {
   "cell_type": "code",
   "execution_count": null,
   "metadata": {},
   "outputs": [],
   "source": []
  },
  {
   "cell_type": "code",
   "execution_count": 92,
   "metadata": {},
   "outputs": [
    {
     "data": {
      "text/plain": [
       "27"
      ]
     },
     "execution_count": 92,
     "metadata": {},
     "output_type": "execute_result"
    }
   ],
   "source": [
    "len(final_list)"
   ]
  },
  {
   "cell_type": "code",
   "execution_count": 94,
   "metadata": {},
   "outputs": [],
   "source": [
    "data = [{'URL': 'https://www.wga.hu/art/zzzarchi/13c/3/2/6padua12.jpg', 'Arch': 0.72, 'Building': 0.94, 'Cloud': 0.97, 'Sky': 0.96}, {'URL': 'https://www.wga.hu/art/m/massys/quentin/2/ugly_duc.jpg', 'Illustration': 0.73}, {'URL': 'https://www.wga.hu/art/r/rembrand/21portra/05portra.jpg', 'Drawing': 0.7, 'Illustration': 0.67}, {'URL': 'https://www.wga.hu/art/m/mor/1maximi1.jpg', 'Drawing': 0.69, 'History': 0.65, 'Illustration': 0.67, 'Vintage clothing': 0.75}, {'URL': 'https://www.wga.hu/art/p/ponzello/doria3.jpg', 'Arch': 0.73, 'Building': 0.76, 'Event': 0.72, 'Holy places': 0.69}]"
   ]
  },
  {
   "cell_type": "code",
   "execution_count": 97,
   "metadata": {},
   "outputs": [
    {
     "data": {
      "text/html": [
       "<div>\n",
       "<style scoped>\n",
       "    .dataframe tbody tr th:only-of-type {\n",
       "        vertical-align: middle;\n",
       "    }\n",
       "\n",
       "    .dataframe tbody tr th {\n",
       "        vertical-align: top;\n",
       "    }\n",
       "\n",
       "    .dataframe thead th {\n",
       "        text-align: right;\n",
       "    }\n",
       "</style>\n",
       "<table border=\"1\" class=\"dataframe\">\n",
       "  <thead>\n",
       "    <tr style=\"text-align: right;\">\n",
       "      <th></th>\n",
       "      <th>URL</th>\n",
       "      <th>Arch</th>\n",
       "      <th>Building</th>\n",
       "      <th>Cloud</th>\n",
       "      <th>Sky</th>\n",
       "      <th>Illustration</th>\n",
       "      <th>Drawing</th>\n",
       "      <th>History</th>\n",
       "      <th>Vintage clothing</th>\n",
       "      <th>Event</th>\n",
       "      <th>Holy places</th>\n",
       "    </tr>\n",
       "  </thead>\n",
       "  <tbody>\n",
       "    <tr>\n",
       "      <th>0</th>\n",
       "      <td>https://www.wga.hu/art/zzzarchi/13c/3/2/6padua...</td>\n",
       "      <td>0.72</td>\n",
       "      <td>0.94</td>\n",
       "      <td>0.97</td>\n",
       "      <td>0.96</td>\n",
       "      <td>0.00</td>\n",
       "      <td>0.00</td>\n",
       "      <td>0.00</td>\n",
       "      <td>0.00</td>\n",
       "      <td>0.00</td>\n",
       "      <td>0.00</td>\n",
       "    </tr>\n",
       "    <tr>\n",
       "      <th>1</th>\n",
       "      <td>https://www.wga.hu/art/m/massys/quentin/2/ugly...</td>\n",
       "      <td>0.00</td>\n",
       "      <td>0.00</td>\n",
       "      <td>0.00</td>\n",
       "      <td>0.00</td>\n",
       "      <td>0.73</td>\n",
       "      <td>0.00</td>\n",
       "      <td>0.00</td>\n",
       "      <td>0.00</td>\n",
       "      <td>0.00</td>\n",
       "      <td>0.00</td>\n",
       "    </tr>\n",
       "    <tr>\n",
       "      <th>2</th>\n",
       "      <td>https://www.wga.hu/art/r/rembrand/21portra/05p...</td>\n",
       "      <td>0.00</td>\n",
       "      <td>0.00</td>\n",
       "      <td>0.00</td>\n",
       "      <td>0.00</td>\n",
       "      <td>0.67</td>\n",
       "      <td>0.70</td>\n",
       "      <td>0.00</td>\n",
       "      <td>0.00</td>\n",
       "      <td>0.00</td>\n",
       "      <td>0.00</td>\n",
       "    </tr>\n",
       "    <tr>\n",
       "      <th>3</th>\n",
       "      <td>https://www.wga.hu/art/m/mor/1maximi1.jpg</td>\n",
       "      <td>0.00</td>\n",
       "      <td>0.00</td>\n",
       "      <td>0.00</td>\n",
       "      <td>0.00</td>\n",
       "      <td>0.67</td>\n",
       "      <td>0.69</td>\n",
       "      <td>0.65</td>\n",
       "      <td>0.75</td>\n",
       "      <td>0.00</td>\n",
       "      <td>0.00</td>\n",
       "    </tr>\n",
       "    <tr>\n",
       "      <th>4</th>\n",
       "      <td>https://www.wga.hu/art/p/ponzello/doria3.jpg</td>\n",
       "      <td>0.73</td>\n",
       "      <td>0.76</td>\n",
       "      <td>0.00</td>\n",
       "      <td>0.00</td>\n",
       "      <td>0.00</td>\n",
       "      <td>0.00</td>\n",
       "      <td>0.00</td>\n",
       "      <td>0.00</td>\n",
       "      <td>0.72</td>\n",
       "      <td>0.69</td>\n",
       "    </tr>\n",
       "  </tbody>\n",
       "</table>\n",
       "</div>"
      ],
      "text/plain": [
       "                                                 URL  Arch  Building  Cloud  \\\n",
       "0  https://www.wga.hu/art/zzzarchi/13c/3/2/6padua...  0.72      0.94   0.97   \n",
       "1  https://www.wga.hu/art/m/massys/quentin/2/ugly...  0.00      0.00   0.00   \n",
       "2  https://www.wga.hu/art/r/rembrand/21portra/05p...  0.00      0.00   0.00   \n",
       "3          https://www.wga.hu/art/m/mor/1maximi1.jpg  0.00      0.00   0.00   \n",
       "4       https://www.wga.hu/art/p/ponzello/doria3.jpg  0.73      0.76   0.00   \n",
       "\n",
       "    Sky  Illustration  Drawing  History  Vintage clothing  Event  Holy places  \n",
       "0  0.96          0.00     0.00     0.00              0.00   0.00         0.00  \n",
       "1  0.00          0.73     0.00     0.00              0.00   0.00         0.00  \n",
       "2  0.00          0.67     0.70     0.00              0.00   0.00         0.00  \n",
       "3  0.00          0.67     0.69     0.65              0.75   0.00         0.00  \n",
       "4  0.00          0.00     0.00     0.00              0.00   0.72         0.69  "
      ]
     },
     "execution_count": 97,
     "metadata": {},
     "output_type": "execute_result"
    }
   ],
   "source": [
    "df = pd.DataFrame(data)\n",
    "df.fillna(0)"
   ]
  },
  {
   "cell_type": "code",
   "execution_count": 112,
   "metadata": {},
   "outputs": [],
   "source": [
    "def get_html_link(jpg_link: str) -> str:\n",
    "    \"\"\"Tranform the html_link of the image to its respective jpg_link\"\"\"\n",
    "    \n",
    "    html_link = jpg_link.replace('art','html', 2).replace('.jpg','.html').replace('/html','/art')\n",
    "    \n",
    "    return html_link"
   ]
  },
  {
   "cell_type": "code",
   "execution_count": 115,
   "metadata": {},
   "outputs": [
    {
     "data": {
      "text/plain": [
       "5"
      ]
     },
     "execution_count": 115,
     "metadata": {},
     "output_type": "execute_result"
    }
   ],
   "source": [
    "len(df)"
   ]
  },
  {
   "cell_type": "code",
   "execution_count": 118,
   "metadata": {},
   "outputs": [],
   "source": [
    "df2 = pd.DataFrame({\"col1\": [1, 2, 3], \"col2\": [4, 5, 6]})\n",
    "value = df2.iloc[0][\"col1\"]"
   ]
  },
  {
   "cell_type": "code",
   "execution_count": 119,
   "metadata": {},
   "outputs": [
    {
     "data": {
      "text/plain": [
       "1"
      ]
     },
     "execution_count": 119,
     "metadata": {},
     "output_type": "execute_result"
    }
   ],
   "source": [
    "value"
   ]
  },
  {
   "cell_type": "code",
   "execution_count": 117,
   "metadata": {},
   "outputs": [
    {
     "data": {
      "text/html": [
       "<div>\n",
       "<style scoped>\n",
       "    .dataframe tbody tr th:only-of-type {\n",
       "        vertical-align: middle;\n",
       "    }\n",
       "\n",
       "    .dataframe tbody tr th {\n",
       "        vertical-align: top;\n",
       "    }\n",
       "\n",
       "    .dataframe thead th {\n",
       "        text-align: right;\n",
       "    }\n",
       "</style>\n",
       "<table border=\"1\" class=\"dataframe\">\n",
       "  <thead>\n",
       "    <tr style=\"text-align: right;\">\n",
       "      <th></th>\n",
       "      <th>col1</th>\n",
       "      <th>col2</th>\n",
       "    </tr>\n",
       "  </thead>\n",
       "  <tbody>\n",
       "    <tr>\n",
       "      <th>0</th>\n",
       "      <td>1</td>\n",
       "      <td>4</td>\n",
       "    </tr>\n",
       "    <tr>\n",
       "      <th>1</th>\n",
       "      <td>2</td>\n",
       "      <td>5</td>\n",
       "    </tr>\n",
       "    <tr>\n",
       "      <th>2</th>\n",
       "      <td>3</td>\n",
       "      <td>6</td>\n",
       "    </tr>\n",
       "  </tbody>\n",
       "</table>\n",
       "</div>"
      ],
      "text/plain": [
       "   col1  col2\n",
       "0     1     4\n",
       "1     2     5\n",
       "2     3     6"
      ]
     },
     "execution_count": 117,
     "metadata": {},
     "output_type": "execute_result"
    }
   ],
   "source": [
    "df2 "
   ]
  },
  {
   "cell_type": "code",
   "execution_count": 120,
   "metadata": {},
   "outputs": [],
   "source": [
    "test_df = [{'Drawing': 0.7, 'Illustration': 0.71, 'Landscape': 0.67, 'Mythology': 0.67, 'Tree': 0.82, 'Index': 0}, {'Drawing': 0.68, 'Illustration': 0.7, 'Mythology': 0.69, 'Stock photography': 0.62, 'Index': 1}, {'Drawing': 0.66, 'History': 0.64, 'Illustration': 0.68, 'Mythology': 0.69, 'Stock photography': 0.63, 'Index': 2}, {'Drawing': 0.7, 'Illustration': 0.75, 'Index': 3}, {'Drawing': 0.68, 'Illustration': 0.69, 'Vintage clothing': 0.69, 'Index': 4}, {'Drawing': 0.7, 'Event': 0.64, 'Illustration': 0.73, 'Mythology': 0.7, 'Index': 5}, {'Index': 6}, {'Drawing': 0.72, 'Illustration': 0.75, 'Mythology': 0.71, 'Stock photography': 0.65, 'Index': 7}, {'Drawing': 0.71, 'Event': 0.69, 'History': 0.67, 'Holy places': 0.63, 'Illustration': 0.71, 'Mythology': 0.7, 'Stock photography': 0.62, 'Index': 8}, {'Illustration': 0.7, 'Mythology': 0.68, 'Stock photography': 0.62, 'Index': 9}]"
   ]
  },
  {
   "cell_type": "code",
   "execution_count": 124,
   "metadata": {},
   "outputs": [
    {
     "data": {
      "text/html": [
       "<div>\n",
       "<style scoped>\n",
       "    .dataframe tbody tr th:only-of-type {\n",
       "        vertical-align: middle;\n",
       "    }\n",
       "\n",
       "    .dataframe tbody tr th {\n",
       "        vertical-align: top;\n",
       "    }\n",
       "\n",
       "    .dataframe thead th {\n",
       "        text-align: right;\n",
       "    }\n",
       "</style>\n",
       "<table border=\"1\" class=\"dataframe\">\n",
       "  <thead>\n",
       "    <tr style=\"text-align: right;\">\n",
       "      <th></th>\n",
       "      <th>Drawing</th>\n",
       "      <th>Illustration</th>\n",
       "      <th>Landscape</th>\n",
       "      <th>Mythology</th>\n",
       "      <th>Tree</th>\n",
       "      <th>Index</th>\n",
       "      <th>Stock photography</th>\n",
       "      <th>History</th>\n",
       "      <th>Vintage clothing</th>\n",
       "      <th>Event</th>\n",
       "      <th>Holy places</th>\n",
       "    </tr>\n",
       "  </thead>\n",
       "  <tbody>\n",
       "    <tr>\n",
       "      <th>0</th>\n",
       "      <td>0.70</td>\n",
       "      <td>0.71</td>\n",
       "      <td>0.67</td>\n",
       "      <td>0.67</td>\n",
       "      <td>0.82</td>\n",
       "      <td>0</td>\n",
       "      <td>NaN</td>\n",
       "      <td>NaN</td>\n",
       "      <td>NaN</td>\n",
       "      <td>NaN</td>\n",
       "      <td>NaN</td>\n",
       "    </tr>\n",
       "    <tr>\n",
       "      <th>1</th>\n",
       "      <td>0.68</td>\n",
       "      <td>0.70</td>\n",
       "      <td>NaN</td>\n",
       "      <td>0.69</td>\n",
       "      <td>NaN</td>\n",
       "      <td>1</td>\n",
       "      <td>0.62</td>\n",
       "      <td>NaN</td>\n",
       "      <td>NaN</td>\n",
       "      <td>NaN</td>\n",
       "      <td>NaN</td>\n",
       "    </tr>\n",
       "    <tr>\n",
       "      <th>2</th>\n",
       "      <td>0.66</td>\n",
       "      <td>0.68</td>\n",
       "      <td>NaN</td>\n",
       "      <td>0.69</td>\n",
       "      <td>NaN</td>\n",
       "      <td>2</td>\n",
       "      <td>0.63</td>\n",
       "      <td>0.64</td>\n",
       "      <td>NaN</td>\n",
       "      <td>NaN</td>\n",
       "      <td>NaN</td>\n",
       "    </tr>\n",
       "    <tr>\n",
       "      <th>3</th>\n",
       "      <td>0.70</td>\n",
       "      <td>0.75</td>\n",
       "      <td>NaN</td>\n",
       "      <td>NaN</td>\n",
       "      <td>NaN</td>\n",
       "      <td>3</td>\n",
       "      <td>NaN</td>\n",
       "      <td>NaN</td>\n",
       "      <td>NaN</td>\n",
       "      <td>NaN</td>\n",
       "      <td>NaN</td>\n",
       "    </tr>\n",
       "    <tr>\n",
       "      <th>4</th>\n",
       "      <td>0.68</td>\n",
       "      <td>0.69</td>\n",
       "      <td>NaN</td>\n",
       "      <td>NaN</td>\n",
       "      <td>NaN</td>\n",
       "      <td>4</td>\n",
       "      <td>NaN</td>\n",
       "      <td>NaN</td>\n",
       "      <td>0.69</td>\n",
       "      <td>NaN</td>\n",
       "      <td>NaN</td>\n",
       "    </tr>\n",
       "    <tr>\n",
       "      <th>5</th>\n",
       "      <td>0.70</td>\n",
       "      <td>0.73</td>\n",
       "      <td>NaN</td>\n",
       "      <td>0.70</td>\n",
       "      <td>NaN</td>\n",
       "      <td>5</td>\n",
       "      <td>NaN</td>\n",
       "      <td>NaN</td>\n",
       "      <td>NaN</td>\n",
       "      <td>0.64</td>\n",
       "      <td>NaN</td>\n",
       "    </tr>\n",
       "    <tr>\n",
       "      <th>6</th>\n",
       "      <td>NaN</td>\n",
       "      <td>NaN</td>\n",
       "      <td>NaN</td>\n",
       "      <td>NaN</td>\n",
       "      <td>NaN</td>\n",
       "      <td>6</td>\n",
       "      <td>NaN</td>\n",
       "      <td>NaN</td>\n",
       "      <td>NaN</td>\n",
       "      <td>NaN</td>\n",
       "      <td>NaN</td>\n",
       "    </tr>\n",
       "    <tr>\n",
       "      <th>7</th>\n",
       "      <td>0.72</td>\n",
       "      <td>0.75</td>\n",
       "      <td>NaN</td>\n",
       "      <td>0.71</td>\n",
       "      <td>NaN</td>\n",
       "      <td>7</td>\n",
       "      <td>0.65</td>\n",
       "      <td>NaN</td>\n",
       "      <td>NaN</td>\n",
       "      <td>NaN</td>\n",
       "      <td>NaN</td>\n",
       "    </tr>\n",
       "    <tr>\n",
       "      <th>8</th>\n",
       "      <td>0.71</td>\n",
       "      <td>0.71</td>\n",
       "      <td>NaN</td>\n",
       "      <td>0.70</td>\n",
       "      <td>NaN</td>\n",
       "      <td>8</td>\n",
       "      <td>0.62</td>\n",
       "      <td>0.67</td>\n",
       "      <td>NaN</td>\n",
       "      <td>0.69</td>\n",
       "      <td>0.63</td>\n",
       "    </tr>\n",
       "    <tr>\n",
       "      <th>9</th>\n",
       "      <td>NaN</td>\n",
       "      <td>0.70</td>\n",
       "      <td>NaN</td>\n",
       "      <td>0.68</td>\n",
       "      <td>NaN</td>\n",
       "      <td>9</td>\n",
       "      <td>0.62</td>\n",
       "      <td>NaN</td>\n",
       "      <td>NaN</td>\n",
       "      <td>NaN</td>\n",
       "      <td>NaN</td>\n",
       "    </tr>\n",
       "  </tbody>\n",
       "</table>\n",
       "</div>"
      ],
      "text/plain": [
       "   Drawing  Illustration  Landscape  Mythology  Tree  Index  \\\n",
       "0     0.70          0.71       0.67       0.67  0.82      0   \n",
       "1     0.68          0.70        NaN       0.69   NaN      1   \n",
       "2     0.66          0.68        NaN       0.69   NaN      2   \n",
       "3     0.70          0.75        NaN        NaN   NaN      3   \n",
       "4     0.68          0.69        NaN        NaN   NaN      4   \n",
       "5     0.70          0.73        NaN       0.70   NaN      5   \n",
       "6      NaN           NaN        NaN        NaN   NaN      6   \n",
       "7     0.72          0.75        NaN       0.71   NaN      7   \n",
       "8     0.71          0.71        NaN       0.70   NaN      8   \n",
       "9      NaN          0.70        NaN       0.68   NaN      9   \n",
       "\n",
       "   Stock photography  History  Vintage clothing  Event  Holy places  \n",
       "0                NaN      NaN               NaN    NaN          NaN  \n",
       "1               0.62      NaN               NaN    NaN          NaN  \n",
       "2               0.63     0.64               NaN    NaN          NaN  \n",
       "3                NaN      NaN               NaN    NaN          NaN  \n",
       "4                NaN      NaN              0.69    NaN          NaN  \n",
       "5                NaN      NaN               NaN   0.64          NaN  \n",
       "6                NaN      NaN               NaN    NaN          NaN  \n",
       "7               0.65      NaN               NaN    NaN          NaN  \n",
       "8               0.62     0.67               NaN   0.69         0.63  \n",
       "9               0.62      NaN               NaN    NaN          NaN  "
      ]
     },
     "execution_count": 124,
     "metadata": {},
     "output_type": "execute_result"
    }
   ],
   "source": [
    "df3 = pd.DataFrame(test_df)\n",
    "df3"
   ]
  }
 ],
 "metadata": {
  "kernelspec": {
   "display_name": "Python 3",
   "language": "python",
   "name": "python3"
  },
  "language_info": {
   "codemirror_mode": {
    "name": "ipython",
    "version": 3
   },
   "file_extension": ".py",
   "mimetype": "text/x-python",
   "name": "python",
   "nbconvert_exporter": "python",
   "pygments_lexer": "ipython3",
   "version": "3.8.6"
  }
 },
 "nbformat": 4,
 "nbformat_minor": 4
}
