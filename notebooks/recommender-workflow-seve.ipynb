{
 "cells": [
  {
   "cell_type": "markdown",
   "id": "informational-munich",
   "metadata": {},
   "source": [
    "Workflow\n",
    "- import preprocessing pipeline from Julia\n",
    "- use it to train KNN\n",
    "- get pre-trained KNN from Google storage\n",
    "- use example title to get distances from both models\n",
    "- merge results"
   ]
  },
  {
   "cell_type": "code",
   "execution_count": 1,
   "id": "level-storage",
   "metadata": {},
   "outputs": [],
   "source": [
    "import pandas as pd\n",
    "import numpy as np\n",
    "from google.cloud import storage\n",
    "import joblib"
   ]
  },
  {
   "cell_type": "markdown",
   "id": "earlier-shanghai",
   "metadata": {
    "heading_collapsed": true
   },
   "source": [
    "#### Build random input"
   ]
  },
  {
   "cell_type": "code",
   "execution_count": 2,
   "id": "quantitative-connectivity",
   "metadata": {
    "hidden": true
   },
   "outputs": [],
   "source": [
    "from vincentvanbot.data import get_data_locally"
   ]
  },
  {
   "cell_type": "code",
   "execution_count": 3,
   "id": "military-riverside",
   "metadata": {
    "hidden": true
   },
   "outputs": [
    {
     "data": {
      "text/html": [
       "<div>\n",
       "<style scoped>\n",
       "    .dataframe tbody tr th:only-of-type {\n",
       "        vertical-align: middle;\n",
       "    }\n",
       "\n",
       "    .dataframe tbody tr th {\n",
       "        vertical-align: top;\n",
       "    }\n",
       "\n",
       "    .dataframe thead th {\n",
       "        text-align: right;\n",
       "    }\n",
       "</style>\n",
       "<table border=\"1\" class=\"dataframe\">\n",
       "  <thead>\n",
       "    <tr style=\"text-align: right;\">\n",
       "      <th></th>\n",
       "      <th>AUTHOR</th>\n",
       "      <th>BORN-DIED</th>\n",
       "      <th>TITLE</th>\n",
       "      <th>DATE</th>\n",
       "      <th>TECHNIQUE</th>\n",
       "      <th>LOCATION</th>\n",
       "      <th>URL</th>\n",
       "      <th>FORM</th>\n",
       "      <th>TYPE</th>\n",
       "      <th>SCHOOL</th>\n",
       "      <th>TIMEFRAME</th>\n",
       "    </tr>\n",
       "  </thead>\n",
       "  <tbody>\n",
       "    <tr>\n",
       "      <th>0</th>\n",
       "      <td>AACHEN, Hans von</td>\n",
       "      <td>(b. 1552, Köln, d. 1615, Praha)</td>\n",
       "      <td>Venus and Adonis</td>\n",
       "      <td>1574-88</td>\n",
       "      <td>Oil on canvas, 68 x 95 cm</td>\n",
       "      <td>Fogg Art Museum, Harvard University, Cambridge</td>\n",
       "      <td>https://www.wga.hu/art/a/aachen/adonis.jpg</td>\n",
       "      <td>painting</td>\n",
       "      <td>mythological</td>\n",
       "      <td>German</td>\n",
       "      <td>1601-1650</td>\n",
       "    </tr>\n",
       "  </tbody>\n",
       "</table>\n",
       "</div>"
      ],
      "text/plain": [
       "             AUTHOR                        BORN-DIED             TITLE  \\\n",
       "0  AACHEN, Hans von  (b. 1552, Köln, d. 1615, Praha)  Venus and Adonis   \n",
       "\n",
       "      DATE                  TECHNIQUE  \\\n",
       "0  1574-88  Oil on canvas, 68 x 95 cm   \n",
       "\n",
       "                                         LOCATION  \\\n",
       "0  Fogg Art Museum, Harvard University, Cambridge   \n",
       "\n",
       "                                          URL      FORM          TYPE  SCHOOL  \\\n",
       "0  https://www.wga.hu/art/a/aachen/adonis.jpg  painting  mythological  German   \n",
       "\n",
       "   TIMEFRAME  \n",
       "0  1601-1650  "
      ]
     },
     "execution_count": 3,
     "metadata": {},
     "output_type": "execute_result"
    }
   ],
   "source": [
    "df = get_data_locally(10_000)\n",
    "df.head(1)"
   ]
  },
  {
   "cell_type": "code",
   "execution_count": 4,
   "id": "specialized-switch",
   "metadata": {
    "hidden": true
   },
   "outputs": [],
   "source": [
    "# for example, let's use type and school as features\n",
    "types = df['TYPE'].unique()\n",
    "schools = df['SCHOOL'].unique()"
   ]
  },
  {
   "cell_type": "code",
   "execution_count": 5,
   "id": "automated-enemy",
   "metadata": {
    "hidden": true
   },
   "outputs": [],
   "source": [
    "cols = np.concatenate((types,schools))"
   ]
  },
  {
   "cell_type": "code",
   "execution_count": 6,
   "id": "closed-cement",
   "metadata": {
    "hidden": true
   },
   "outputs": [],
   "source": [
    "rand_df = pd.DataFrame(np.zeros((10_000,36)),columns=cols)"
   ]
  },
  {
   "cell_type": "code",
   "execution_count": 7,
   "id": "joined-editing",
   "metadata": {
    "hidden": true
   },
   "outputs": [],
   "source": [
    "def random_one(row):\n",
    "    row.iloc[np.random.randint(0,len(types))] = 1\n",
    "    row.iloc[np.random.randint(len(types),len(row))] = 1\n",
    "    return row"
   ]
  },
  {
   "cell_type": "code",
   "execution_count": 8,
   "id": "magnetic-closing",
   "metadata": {
    "hidden": true
   },
   "outputs": [],
   "source": [
    "rand_df = rand_df.apply(random_one, axis=1)"
   ]
  },
  {
   "cell_type": "markdown",
   "id": "dietary-celebration",
   "metadata": {},
   "source": [
    "#### Train KNN"
   ]
  },
  {
   "cell_type": "code",
   "execution_count": 14,
   "id": "excessive-secondary",
   "metadata": {},
   "outputs": [],
   "source": [
    "from sklearn.neighbors import NearestNeighbors\n",
    "\n",
    "model_features = NearestNeighbors().fit(rand_df)\n",
    "indexes_features = rand_df.index"
   ]
  },
  {
   "cell_type": "code",
   "execution_count": 23,
   "id": "fifty-soundtrack",
   "metadata": {},
   "outputs": [
    {
     "name": "stdout",
     "output_type": "stream",
     "text": [
      "=> model.joblib downloaded from storage\n"
     ]
    }
   ],
   "source": [
    "from vincentvanbot.params import BUCKET_NAME\n",
    "\n",
    "# download trained model\n",
    "client = storage.Client().bucket(BUCKET_NAME)\n",
    "local_name = 'model.joblib'\n",
    "storage_location = f\"predict/{local_name}\"\n",
    "blob = client.blob(storage_location)\n",
    "blob.download_to_filename(local_name)\n",
    "print(f\"=> {local_name} downloaded from storage\")\n",
    "model_picture = joblib.load(local_name)"
   ]
  },
  {
   "cell_type": "code",
   "execution_count": 13,
   "id": "intelligent-container",
   "metadata": {},
   "outputs": [
    {
     "name": "stdout",
     "output_type": "stream",
     "text": [
      "=> train_indexes.joblib downloaded from storage\n"
     ]
    }
   ],
   "source": [
    "local_name = 'train_indexes.joblib'\n",
    "storage_location = f\"predict/{local_name}\"\n",
    "blob = client.blob(storage_location)\n",
    "blob.download_to_filename(local_name)\n",
    "print(f\"=> {local_name} downloaded from storage\")\n",
    "indexes_picture = joblib.load(local_name)"
   ]
  },
  {
   "cell_type": "code",
   "execution_count": 15,
   "id": "useful-feature",
   "metadata": {},
   "outputs": [
    {
     "data": {
      "text/plain": [
       "'Venus and Adonis'"
      ]
     },
     "execution_count": 15,
     "metadata": {},
     "output_type": "execute_result"
    }
   ],
   "source": [
    "# predict closest given the title\n",
    "test_title = df.iloc[0]['TITLE']\n",
    "test_title"
   ]
  },
  {
   "cell_type": "code",
   "execution_count": 56,
   "id": "processed-mustang",
   "metadata": {},
   "outputs": [],
   "source": [
    "# get test input title\n",
    "# there are several paintings with the same title. I'll take the first one for now.\n",
    "test_index = df[df['TITLE']==test_title].iloc[0].name\n",
    "user_input_preproc_features = rand_df.iloc[test_index].to_numpy().reshape(1,-1) # this should be replaced by the feature preprocessing pipeline\n",
    "\n",
    "# get closest paintings index based on features\n",
    "index_neighbors_features = model_features.kneighbors(user_input_preproc_features,n_neighbors=100)[1][0]\n",
    "indexes_closest_features = [int(indexes_features[i]) for i in list(index_neighbors_features)]\n",
    "\n",
    "# get closest paintings distance based on features\n",
    "distance_neighbors_features = model_features.kneighbors(user_input_preproc_features,n_neighbors=100)[0][0]"
   ]
  },
  {
   "cell_type": "code",
   "execution_count": 57,
   "id": "diagnostic-diabetes",
   "metadata": {},
   "outputs": [],
   "source": [
    "# get preprocessed data for picture\n",
    "from vincentvanbot.preprocessing.utils import preprocess_image\n",
    "user_input_preproc_picture = preprocess_image('../raw_data/images/0.jpg')\n",
    "\n",
    "# get closest paintings index based on picture\n",
    "index_neighbors_picture = model_picture.kneighbors(user_input_preproc_picture,n_neighbors=100)[1][0]\n",
    "indexes_closest_picture = [int(indexes_picture[i]) for i in list(index_neighbors_picture)]\n",
    "\n",
    "# get closest paintings distance based on picture\n",
    "distance_neighbors_picture = model_picture.kneighbors(user_input_preproc_picture,n_neighbors=100)[0][0]"
   ]
  },
  {
   "cell_type": "code",
   "execution_count": null,
   "id": "gorgeous-plaza",
   "metadata": {},
   "outputs": [],
   "source": []
  }
 ],
 "metadata": {
  "kernelspec": {
   "display_name": "Python 3",
   "language": "python",
   "name": "python3"
  },
  "language_info": {
   "codemirror_mode": {
    "name": "ipython",
    "version": 3
   },
   "file_extension": ".py",
   "mimetype": "text/x-python",
   "name": "python",
   "nbconvert_exporter": "python",
   "pygments_lexer": "ipython3",
   "version": "3.8.6"
  },
  "toc": {
   "base_numbering": 1,
   "nav_menu": {},
   "number_sections": true,
   "sideBar": true,
   "skip_h1_title": false,
   "title_cell": "Table of Contents",
   "title_sidebar": "Contents",
   "toc_cell": false,
   "toc_position": {},
   "toc_section_display": true,
   "toc_window_display": false
  }
 },
 "nbformat": 4,
 "nbformat_minor": 5
}
