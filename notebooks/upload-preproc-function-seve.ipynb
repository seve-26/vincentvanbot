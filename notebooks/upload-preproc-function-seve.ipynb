{
 "cells": [
  {
   "cell_type": "code",
   "execution_count": 3,
   "id": "filled-medicare",
   "metadata": {},
   "outputs": [],
   "source": [
    "from google.cloud import storage\n",
    "import joblib\n",
    "import dill as pickle"
   ]
  },
  {
   "cell_type": "code",
   "execution_count": 4,
   "id": "contained-profit",
   "metadata": {},
   "outputs": [],
   "source": [
    "def preprocess_image(img, dim=(36,42)):\n",
    "    \"\"\"Takes img (either bytes or local path), returns np.array of flat,resized,normalized img\"\"\"\n",
    "    from tensorflow.keras.preprocessing.image import load_img, img_to_array\n",
    "    img = load_img(img, target_size=dim)\n",
    "    img = img_to_array(img)\n",
    "    img = img.flatten().reshape(1,-1)\n",
    "    img = img / 255\n",
    "    return img"
   ]
  },
  {
   "cell_type": "code",
   "execution_count": 6,
   "id": "alpha-smell",
   "metadata": {},
   "outputs": [
    {
     "data": {
      "text/plain": [
       "['../vincentvanbot/preprocessing/image_preprocessing.joblib']"
      ]
     },
     "execution_count": 6,
     "metadata": {},
     "output_type": "execute_result"
    }
   ],
   "source": [
    "joblib.dump(preprocess_image,'../vincentvanbot/preprocessing/image_preprocessing.joblib')"
   ]
  },
  {
   "cell_type": "code",
   "execution_count": 8,
   "id": "bronze-negative",
   "metadata": {},
   "outputs": [
    {
     "name": "stdout",
     "output_type": "stream",
     "text": [
      "=> image_preprocessing.joblib uploaded to bucket vincent-van-bot-bucket inside predict/image_preprocessing.joblib\n"
     ]
    }
   ],
   "source": [
    "BUCKET_NAME = 'vincent-van-bot-bucket'\n",
    "client = storage.Client().bucket(BUCKET_NAME)\n",
    "storage_location = f\"predict/image_preprocessing.joblib\"\n",
    "blob = client.blob(storage_location)\n",
    "blob.upload_from_filename('../vincentvanbot/preprocessing/image_preprocessing.joblib')\n",
    "print(f\"=> {'image_preprocessing.joblib'} uploaded to bucket {BUCKET_NAME} inside {storage_location}\")"
   ]
  },
  {
   "cell_type": "code",
   "execution_count": 23,
   "id": "dress-shelter",
   "metadata": {},
   "outputs": [
    {
     "name": "stdout",
     "output_type": "stream",
     "text": [
      "=> image_preprocessing.joblib downloaded from storage\n"
     ]
    }
   ],
   "source": [
    "client = storage.Client().bucket(BUCKET_NAME)\n",
    "\n",
    "local_name = 'image_preprocessing.joblib'\n",
    "storage_location = f\"predict/{local_name}\"\n",
    "blob = client.blob(storage_location)\n",
    "blob.download_to_filename(local_name)\n",
    "print(f\"=> {local_name} downloaded from storage\")\n",
    "prepr = joblib.load(local_name)"
   ]
  },
  {
   "cell_type": "code",
   "execution_count": 24,
   "id": "announced-reward",
   "metadata": {},
   "outputs": [
    {
     "data": {
      "text/plain": [
       "array([[0.8745098 , 0.7372549 , 0.5803922 , ..., 0.42745098, 0.40392157,\n",
       "        0.35686275]], dtype=float32)"
      ]
     },
     "execution_count": 24,
     "metadata": {},
     "output_type": "execute_result"
    }
   ],
   "source": [
    "prepr('example-input.jpg',dim=(36,42))"
   ]
  }
 ],
 "metadata": {
  "kernelspec": {
   "display_name": "Python 3",
   "language": "python",
   "name": "python3"
  },
  "language_info": {
   "codemirror_mode": {
    "name": "ipython",
    "version": 3
   },
   "file_extension": ".py",
   "mimetype": "text/x-python",
   "name": "python",
   "nbconvert_exporter": "python",
   "pygments_lexer": "ipython3",
   "version": "3.8.6"
  },
  "toc": {
   "base_numbering": 1,
   "nav_menu": {},
   "number_sections": true,
   "sideBar": true,
   "skip_h1_title": false,
   "title_cell": "Table of Contents",
   "title_sidebar": "Contents",
   "toc_cell": false,
   "toc_position": {},
   "toc_section_display": true,
   "toc_window_display": false
  }
 },
 "nbformat": 4,
 "nbformat_minor": 5
}
