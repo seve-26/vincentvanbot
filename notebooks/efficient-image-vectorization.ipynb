{
 "cells": [
  {
   "cell_type": "code",
   "execution_count": 1,
   "id": "southeast-national",
   "metadata": {},
   "outputs": [],
   "source": [
    "import cv2\n",
    "import matplotlib.pyplot as plt\n",
    "from tensorflow.keras.preprocessing.image import img_to_array, load_img\n",
    "import requests"
   ]
  },
  {
   "cell_type": "code",
   "execution_count": 2,
   "id": "dirty-relief",
   "metadata": {},
   "outputs": [],
   "source": [
    "# path = 'adonis.jpg'\n",
    "\n",
    "# %timeit load_img(path, target_size = (360, 420))"
   ]
  },
  {
   "cell_type": "code",
   "execution_count": 3,
   "id": "unable-broadcasting",
   "metadata": {},
   "outputs": [],
   "source": [
    "# train_image = load_img(path, target_size = (100, 420))\n",
    "# %timeit img_to_array(train_image)\n",
    "# %timeit cv2.imread(path)\n",
    "# %timeit plt.imread(path)"
   ]
  },
  {
   "cell_type": "code",
   "execution_count": 4,
   "id": "ordinary-experiment",
   "metadata": {},
   "outputs": [],
   "source": [
    "# img = plt.imread(path)\n",
    "# %timeit cv2.resize(img, (360, 420), interpolation=cv2.INTER_AREA)"
   ]
  },
  {
   "cell_type": "code",
   "execution_count": 5,
   "id": "existing-decade",
   "metadata": {},
   "outputs": [],
   "source": [
    "# plt.imshow(img);"
   ]
  },
  {
   "cell_type": "code",
   "execution_count": 6,
   "id": "vocal-porcelain",
   "metadata": {},
   "outputs": [],
   "source": [
    "# plt.imshow(train_image);"
   ]
  },
  {
   "cell_type": "code",
   "execution_count": 7,
   "id": "cosmetic-polish",
   "metadata": {},
   "outputs": [
    {
     "data": {
      "text/html": [
       "<div>\n",
       "<style scoped>\n",
       "    .dataframe tbody tr th:only-of-type {\n",
       "        vertical-align: middle;\n",
       "    }\n",
       "\n",
       "    .dataframe tbody tr th {\n",
       "        vertical-align: top;\n",
       "    }\n",
       "\n",
       "    .dataframe thead th {\n",
       "        text-align: right;\n",
       "    }\n",
       "</style>\n",
       "<table border=\"1\" class=\"dataframe\">\n",
       "  <thead>\n",
       "    <tr style=\"text-align: right;\">\n",
       "      <th></th>\n",
       "      <th>AUTHOR</th>\n",
       "      <th>BORN-DIED</th>\n",
       "      <th>TITLE</th>\n",
       "      <th>DATE</th>\n",
       "      <th>TECHNIQUE</th>\n",
       "      <th>LOCATION</th>\n",
       "      <th>URL</th>\n",
       "      <th>FORM</th>\n",
       "      <th>TYPE</th>\n",
       "      <th>SCHOOL</th>\n",
       "      <th>TIMEFRAME</th>\n",
       "    </tr>\n",
       "  </thead>\n",
       "  <tbody>\n",
       "    <tr>\n",
       "      <th>0</th>\n",
       "      <td>AACHEN, Hans von</td>\n",
       "      <td>(b. 1552, Köln, d. 1615, Praha)</td>\n",
       "      <td>Venus and Adonis</td>\n",
       "      <td>1574-88</td>\n",
       "      <td>Oil on canvas, 68 x 95 cm</td>\n",
       "      <td>Fogg Art Museum, Harvard University, Cambridge</td>\n",
       "      <td>https://www.wga.hu/art/a/aachen/adonis.jpg</td>\n",
       "      <td>painting</td>\n",
       "      <td>mythological</td>\n",
       "      <td>German</td>\n",
       "      <td>1601-1650</td>\n",
       "    </tr>\n",
       "    <tr>\n",
       "      <th>1</th>\n",
       "      <td>AACHEN, Hans von</td>\n",
       "      <td>(b. 1552, Köln, d. 1615, Praha)</td>\n",
       "      <td>Allegory</td>\n",
       "      <td>1598</td>\n",
       "      <td>Oil on copper, 56 x 47 cm</td>\n",
       "      <td>Alte Pinakothek, Munich</td>\n",
       "      <td>https://www.wga.hu/art/a/aachen/allegory.jpg</td>\n",
       "      <td>painting</td>\n",
       "      <td>mythological</td>\n",
       "      <td>German</td>\n",
       "      <td>1601-1650</td>\n",
       "    </tr>\n",
       "    <tr>\n",
       "      <th>2</th>\n",
       "      <td>AACHEN, Hans von</td>\n",
       "      <td>(b. 1552, Köln, d. 1615, Praha)</td>\n",
       "      <td>Allegory of Peace, Art and Abundance</td>\n",
       "      <td>1602</td>\n",
       "      <td>Oil on canvas, 197 x 142 cm</td>\n",
       "      <td>The Hermitage, St. Petersburg</td>\n",
       "      <td>https://www.wga.hu/art/a/aachen/allegorz.jpg</td>\n",
       "      <td>painting</td>\n",
       "      <td>mythological</td>\n",
       "      <td>German</td>\n",
       "      <td>1601-1650</td>\n",
       "    </tr>\n",
       "    <tr>\n",
       "      <th>3</th>\n",
       "      <td>AACHEN, Hans von</td>\n",
       "      <td>(b. 1552, Köln, d. 1615, Praha)</td>\n",
       "      <td>Jupiter, Antiope and Cupid</td>\n",
       "      <td>1595-98</td>\n",
       "      <td>Oil on copper, 31 x 21 cm</td>\n",
       "      <td>Kunsthistorisches Museum, Vienna</td>\n",
       "      <td>https://www.wga.hu/art/a/aachen/antiope.jpg</td>\n",
       "      <td>painting</td>\n",
       "      <td>mythological</td>\n",
       "      <td>German</td>\n",
       "      <td>1601-1650</td>\n",
       "    </tr>\n",
       "    <tr>\n",
       "      <th>4</th>\n",
       "      <td>AACHEN, Hans von</td>\n",
       "      <td>(b. 1552, Köln, d. 1615, Praha)</td>\n",
       "      <td>Pallas Athena, Venus and Juno</td>\n",
       "      <td>1593</td>\n",
       "      <td>Oil on canvas, 54 x 67 cm</td>\n",
       "      <td>Museum of Fine Arts, Boston</td>\n",
       "      <td>https://www.wga.hu/art/a/aachen/athena.jpg</td>\n",
       "      <td>painting</td>\n",
       "      <td>mythological</td>\n",
       "      <td>German</td>\n",
       "      <td>1601-1650</td>\n",
       "    </tr>\n",
       "  </tbody>\n",
       "</table>\n",
       "</div>"
      ],
      "text/plain": [
       "             AUTHOR                        BORN-DIED  \\\n",
       "0  AACHEN, Hans von  (b. 1552, Köln, d. 1615, Praha)   \n",
       "1  AACHEN, Hans von  (b. 1552, Köln, d. 1615, Praha)   \n",
       "2  AACHEN, Hans von  (b. 1552, Köln, d. 1615, Praha)   \n",
       "3  AACHEN, Hans von  (b. 1552, Köln, d. 1615, Praha)   \n",
       "4  AACHEN, Hans von  (b. 1552, Köln, d. 1615, Praha)   \n",
       "\n",
       "                                  TITLE     DATE                    TECHNIQUE  \\\n",
       "0                      Venus and Adonis  1574-88    Oil on canvas, 68 x 95 cm   \n",
       "1                              Allegory     1598    Oil on copper, 56 x 47 cm   \n",
       "2  Allegory of Peace, Art and Abundance     1602  Oil on canvas, 197 x 142 cm   \n",
       "3            Jupiter, Antiope and Cupid  1595-98    Oil on copper, 31 x 21 cm   \n",
       "4         Pallas Athena, Venus and Juno     1593    Oil on canvas, 54 x 67 cm   \n",
       "\n",
       "                                         LOCATION  \\\n",
       "0  Fogg Art Museum, Harvard University, Cambridge   \n",
       "1                         Alte Pinakothek, Munich   \n",
       "2                   The Hermitage, St. Petersburg   \n",
       "3                Kunsthistorisches Museum, Vienna   \n",
       "4                     Museum of Fine Arts, Boston   \n",
       "\n",
       "                                            URL      FORM          TYPE  \\\n",
       "0    https://www.wga.hu/art/a/aachen/adonis.jpg  painting  mythological   \n",
       "1  https://www.wga.hu/art/a/aachen/allegory.jpg  painting  mythological   \n",
       "2  https://www.wga.hu/art/a/aachen/allegorz.jpg  painting  mythological   \n",
       "3   https://www.wga.hu/art/a/aachen/antiope.jpg  painting  mythological   \n",
       "4    https://www.wga.hu/art/a/aachen/athena.jpg  painting  mythological   \n",
       "\n",
       "   SCHOOL  TIMEFRAME  \n",
       "0  German  1601-1650  \n",
       "1  German  1601-1650  \n",
       "2  German  1601-1650  \n",
       "3  German  1601-1650  \n",
       "4  German  1601-1650  "
      ]
     },
     "execution_count": 7,
     "metadata": {},
     "output_type": "execute_result"
    }
   ],
   "source": [
    "from vincentvanbot.data import get_data_locally\n",
    "\n",
    "df = get_data_locally(nrows=100_000)\n",
    "df.head()"
   ]
  },
  {
   "cell_type": "code",
   "execution_count": 25,
   "id": "emerging-chase",
   "metadata": {},
   "outputs": [],
   "source": [
    "import os\n",
    "\n",
    "images_path = os.path.join('..','raw_data','images')\n",
    "\n",
    "if not os.path.exists(images_path):\n",
    "    os.mkdir(images_path)"
   ]
  },
  {
   "cell_type": "code",
   "execution_count": 26,
   "id": "cooked-stuff",
   "metadata": {},
   "outputs": [],
   "source": [
    "def download_image(row):\n",
    "    response = requests.get(row['URL'])\n",
    "    f = open(os.path.join(images_path,f'{row.name}.jpg'), 'wb')\n",
    "    f.write(response.content)\n",
    "    f.close()\n",
    "    return row"
   ]
  },
  {
   "cell_type": "code",
   "execution_count": 27,
   "id": "senior-turning",
   "metadata": {},
   "outputs": [
    {
     "data": {
      "text/plain": [
       "(32008, 11)"
      ]
     },
     "execution_count": 27,
     "metadata": {},
     "output_type": "execute_result"
    }
   ],
   "source": [
    "df.shape"
   ]
  },
  {
   "cell_type": "code",
   "execution_count": 32,
   "id": "applicable-representation",
   "metadata": {},
   "outputs": [
    {
     "data": {
      "text/html": [
       "<div>\n",
       "<style scoped>\n",
       "    .dataframe tbody tr th:only-of-type {\n",
       "        vertical-align: middle;\n",
       "    }\n",
       "\n",
       "    .dataframe tbody tr th {\n",
       "        vertical-align: top;\n",
       "    }\n",
       "\n",
       "    .dataframe thead th {\n",
       "        text-align: right;\n",
       "    }\n",
       "</style>\n",
       "<table border=\"1\" class=\"dataframe\">\n",
       "  <thead>\n",
       "    <tr style=\"text-align: right;\">\n",
       "      <th></th>\n",
       "      <th>AUTHOR</th>\n",
       "      <th>BORN-DIED</th>\n",
       "      <th>TITLE</th>\n",
       "      <th>DATE</th>\n",
       "      <th>TECHNIQUE</th>\n",
       "      <th>LOCATION</th>\n",
       "      <th>URL</th>\n",
       "      <th>FORM</th>\n",
       "      <th>TYPE</th>\n",
       "      <th>SCHOOL</th>\n",
       "      <th>TIMEFRAME</th>\n",
       "    </tr>\n",
       "  </thead>\n",
       "  <tbody>\n",
       "    <tr>\n",
       "      <th>34115</th>\n",
       "      <td>PADOVANINO</td>\n",
       "      <td>(b. 1588, Padova, d. 1649, Venezia)</td>\n",
       "      <td>The Madonna with Design of a Shrine</td>\n",
       "      <td>c. 1630</td>\n",
       "      <td>Oil on canvas</td>\n",
       "      <td>Santa Maria della Salute, Venice</td>\n",
       "      <td>https://www.wga.hu/art/p/padovani/madonna.jpg</td>\n",
       "      <td>painting</td>\n",
       "      <td>religious</td>\n",
       "      <td>Italian</td>\n",
       "      <td>1601-1650</td>\n",
       "    </tr>\n",
       "    <tr>\n",
       "      <th>7785</th>\n",
       "      <td>BRUEGEL, Pieter the Elder</td>\n",
       "      <td>(b. ca. 1525, Brogel, d. 1569, Brussel)</td>\n",
       "      <td>The Peasant Dance (detail)</td>\n",
       "      <td>c. 1567</td>\n",
       "      <td>Oil on oak panel</td>\n",
       "      <td>Kunsthistorisches Museum, Vienna</td>\n",
       "      <td>https://www.wga.hu/art/b/bruegel/pieter_e/10/1...</td>\n",
       "      <td>painting</td>\n",
       "      <td>genre</td>\n",
       "      <td>Netherlandish</td>\n",
       "      <td>1501-1550</td>\n",
       "    </tr>\n",
       "    <tr>\n",
       "      <th>46360</th>\n",
       "      <td>UNKNOWN MASTER, French</td>\n",
       "      <td>(15th century in Valence)</td>\n",
       "      <td>The Adoration of the Magi</td>\n",
       "      <td>-</td>\n",
       "      <td>Oil on wood, 44 x 30 cm</td>\n",
       "      <td>Musée Bonnat, Bayonne</td>\n",
       "      <td>https://www.wga.hu/art/m/master/yunk_fr/yunk_f...</td>\n",
       "      <td>painting</td>\n",
       "      <td>religious</td>\n",
       "      <td>French</td>\n",
       "      <td>1451-1500</td>\n",
       "    </tr>\n",
       "    <tr>\n",
       "      <th>20101</th>\n",
       "      <td>GOSSART, Jan</td>\n",
       "      <td>(b. ca. 1478, Maubeuge, d. 1532, Middelburg)</td>\n",
       "      <td>Portrait of a Man</td>\n",
       "      <td>1520-25</td>\n",
       "      <td>Oil on oak panel, 43 x 31 cm</td>\n",
       "      <td>Currier Museum of Art, Manchester, New Hampshire</td>\n",
       "      <td>https://www.wga.hu/art/g/gossart/06portra/08po...</td>\n",
       "      <td>painting</td>\n",
       "      <td>portrait</td>\n",
       "      <td>Flemish</td>\n",
       "      <td>1501-1550</td>\n",
       "    </tr>\n",
       "    <tr>\n",
       "      <th>5842</th>\n",
       "      <td>BLOEMAERT, Abraham</td>\n",
       "      <td>(b. 1566, Gorinchem, d. 1651, Utrecht)</td>\n",
       "      <td>Shepherd and Sherpherdess</td>\n",
       "      <td>1627</td>\n",
       "      <td>Oil on canvas</td>\n",
       "      <td>Niedersächsisches Landesmuseum, Hannover</td>\n",
       "      <td>https://www.wga.hu/art/b/bloemaer/abraham/shep...</td>\n",
       "      <td>painting</td>\n",
       "      <td>genre</td>\n",
       "      <td>Dutch</td>\n",
       "      <td>1601-1650</td>\n",
       "    </tr>\n",
       "  </tbody>\n",
       "</table>\n",
       "</div>"
      ],
      "text/plain": [
       "                          AUTHOR  \\\n",
       "34115                 PADOVANINO   \n",
       "7785   BRUEGEL, Pieter the Elder   \n",
       "46360     UNKNOWN MASTER, French   \n",
       "20101               GOSSART, Jan   \n",
       "5842          BLOEMAERT, Abraham   \n",
       "\n",
       "                                          BORN-DIED  \\\n",
       "34115           (b. 1588, Padova, d. 1649, Venezia)   \n",
       "7785        (b. ca. 1525, Brogel, d. 1569, Brussel)   \n",
       "46360                     (15th century in Valence)   \n",
       "20101  (b. ca. 1478, Maubeuge, d. 1532, Middelburg)   \n",
       "5842         (b. 1566, Gorinchem, d. 1651, Utrecht)   \n",
       "\n",
       "                                     TITLE     DATE  \\\n",
       "34115  The Madonna with Design of a Shrine  c. 1630   \n",
       "7785            The Peasant Dance (detail)  c. 1567   \n",
       "46360            The Adoration of the Magi        -   \n",
       "20101                    Portrait of a Man  1520-25   \n",
       "5842             Shepherd and Sherpherdess     1627   \n",
       "\n",
       "                          TECHNIQUE  \\\n",
       "34115                 Oil on canvas   \n",
       "7785               Oil on oak panel   \n",
       "46360       Oil on wood, 44 x 30 cm   \n",
       "20101  Oil on oak panel, 43 x 31 cm   \n",
       "5842                  Oil on canvas   \n",
       "\n",
       "                                               LOCATION  \\\n",
       "34115                  Santa Maria della Salute, Venice   \n",
       "7785                   Kunsthistorisches Museum, Vienna   \n",
       "46360                             Musée Bonnat, Bayonne   \n",
       "20101  Currier Museum of Art, Manchester, New Hampshire   \n",
       "5842           Niedersächsisches Landesmuseum, Hannover   \n",
       "\n",
       "                                                     URL      FORM       TYPE  \\\n",
       "34115      https://www.wga.hu/art/p/padovani/madonna.jpg  painting  religious   \n",
       "7785   https://www.wga.hu/art/b/bruegel/pieter_e/10/1...  painting      genre   \n",
       "46360  https://www.wga.hu/art/m/master/yunk_fr/yunk_f...  painting  religious   \n",
       "20101  https://www.wga.hu/art/g/gossart/06portra/08po...  painting   portrait   \n",
       "5842   https://www.wga.hu/art/b/bloemaer/abraham/shep...  painting      genre   \n",
       "\n",
       "              SCHOOL  TIMEFRAME  \n",
       "34115        Italian  1601-1650  \n",
       "7785   Netherlandish  1501-1550  \n",
       "46360         French  1451-1500  \n",
       "20101        Flemish  1501-1550  \n",
       "5842           Dutch  1601-1650  "
      ]
     },
     "execution_count": 32,
     "metadata": {},
     "output_type": "execute_result"
    }
   ],
   "source": [
    "df_sample = df.sample(10)\n",
    "df_sample.head()"
   ]
  },
  {
   "cell_type": "code",
   "execution_count": 36,
   "id": "floppy-suspect",
   "metadata": {},
   "outputs": [],
   "source": [
    "def random_f(x):\n",
    "    return x + 'a'"
   ]
  },
  {
   "cell_type": "code",
   "execution_count": 37,
   "id": "otherwise-arbor",
   "metadata": {},
   "outputs": [
    {
     "data": {
      "application/vnd.jupyter.widget-view+json": {
       "model_id": "83027432098943b2abf3a5e02d4e8268",
       "version_major": 2,
       "version_minor": 0
      },
      "text/plain": [
       "  0%|          | 0/10 [00:00<?, ?it/s]"
      ]
     },
     "metadata": {},
     "output_type": "display_data"
    },
    {
     "data": {
      "text/plain": [
       "34115                      Oil on canvasa\n",
       "7785                    Oil on oak panela\n",
       "46360            Oil on wood, 44 x 30 cma\n",
       "20101       Oil on oak panel, 43 x 31 cma\n",
       "5842                       Oil on canvasa\n",
       "23124        Oil on canvas, 137 x 148 cma\n",
       "18458                             Frescoa\n",
       "28567    Egg tempera on wood, 60 x 35 cma\n",
       "45383          Oil on canvas, 92 x 74 cma\n",
       "19366          Oil on wood, 275 x 212 cma\n",
       "Name: TECHNIQUE, dtype: object"
      ]
     },
     "execution_count": 37,
     "metadata": {},
     "output_type": "execute_result"
    }
   ],
   "source": [
    "from tqdm.notebook import tqdm_notebook\n",
    "tqdm_notebook.pandas()\n",
    "\n",
    "df_sample['TECHNIQUE'].progress_map(random_f)"
   ]
  },
  {
   "cell_type": "code",
   "execution_count": null,
   "id": "disturbed-condition",
   "metadata": {},
   "outputs": [],
   "source": []
  }
 ],
 "metadata": {
  "kernelspec": {
   "display_name": "Python 3",
   "language": "python",
   "name": "python3"
  },
  "language_info": {
   "codemirror_mode": {
    "name": "ipython",
    "version": 3
   },
   "file_extension": ".py",
   "mimetype": "text/x-python",
   "name": "python",
   "nbconvert_exporter": "python",
   "pygments_lexer": "ipython3",
   "version": "3.8.6"
  },
  "toc": {
   "base_numbering": 1,
   "nav_menu": {},
   "number_sections": true,
   "sideBar": true,
   "skip_h1_title": false,
   "title_cell": "Table of Contents",
   "title_sidebar": "Contents",
   "toc_cell": false,
   "toc_position": {},
   "toc_section_display": true,
   "toc_window_display": false
  }
 },
 "nbformat": 4,
 "nbformat_minor": 5
}
