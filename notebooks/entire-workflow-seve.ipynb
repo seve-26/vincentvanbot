{
 "cells": [
  {
   "cell_type": "code",
   "execution_count": 1,
   "id": "threatened-afternoon",
   "metadata": {},
   "outputs": [],
   "source": [
    "%load_ext autoreload\n",
    "%autoreload 2"
   ]
  },
  {
   "cell_type": "code",
   "execution_count": 2,
   "id": "suitable-melbourne",
   "metadata": {},
   "outputs": [],
   "source": [
    "# import pandas as pd\n",
    "import os\n",
    "from sklearn.neighbors import NearestNeighbors\n",
    "import joblib\n",
    "import pandas as pd\n",
    "from google.cloud import storage\n",
    "from vincentvanbot.params import BUCKET_NAME, BUCKET_INITIAL_DATASET_FOLDER\n",
    "from vincentvanbot.preprocessing.utils import get_jpg_link"
   ]
  },
  {
   "cell_type": "markdown",
   "id": "adopted-virgin",
   "metadata": {},
   "source": [
    "Workflow:\n",
    "- get an example input file (in bytes)\n",
    "- preprocess it --> return df resized and flattened\n",
    "- KNN predict --> return indices of closest images\n",
    "- indices to url --> return  list of urls of closest images"
   ]
  },
  {
   "cell_type": "code",
   "execution_count": 3,
   "id": "recreational-asset",
   "metadata": {},
   "outputs": [],
   "source": [
    "# train\n",
    "def train_model(df_transformed):\n",
    "    \"\"\"Takes preprocessed train data as df. Returns fitted KNN model \n",
    "    and train data image indexes (used then to refer back to initial database).\n",
    "    Saves locally model and indexes.\"\"\"\n",
    "    knn_model = NearestNeighbors().fit(df_transformed)\n",
    "    \n",
    "    joblib.dump(knn_model,'model.joblib')\n",
    "    joblib.dump(df_transformed.index,'train_indexes.joblib')"
   ]
  },
  {
   "cell_type": "code",
   "execution_count": 4,
   "id": "bearing-logan",
   "metadata": {},
   "outputs": [],
   "source": [
    "def save_model_to_cloud(rm=False):\n",
    "    \"\"\"Uploads fitted model and related indexes to GCloud.\"\"\"\n",
    "    client = storage.Client().bucket(BUCKET_NAME)\n",
    "    \n",
    "    for filename in ['model.joblib','train_indexes.joblib']:\n",
    "        storage_location = f\"predict/{filename}\"\n",
    "        blob = client.blob(storage_location)\n",
    "        blob.upload_from_filename(filename)\n",
    "        print(f\"=> {filename} uploaded to bucket {BUCKET_NAME} inside {storage_location}\")\n",
    "    if rm:\n",
    "        os.remove('model.joblib')\n",
    "        os.remove('train_indexes.joblib')"
   ]
  },
  {
   "cell_type": "code",
   "execution_count": 5,
   "id": "worst-momentum",
   "metadata": {},
   "outputs": [],
   "source": [
    "# predict\n",
    "def get_closest_images_indexes(user_input_transformed, nsimilar=3, rm=True):\n",
    "    \"\"\"Takes user_input_transformed as np.array. Downloads fitted knn model and related indexes.\n",
    "    Returns indexes of nsimilar closest images\"\"\"\n",
    "    client = storage.Client().bucket(BUCKET_NAME)\n",
    "    \n",
    "    # download model\n",
    "    local_name = 'model.joblib'\n",
    "    storage_location = f\"predict/{local_name}\"\n",
    "    blob = client.blob(storage_location)\n",
    "    blob.download_to_filename(local_name)\n",
    "    print(f\"=> {local_name} downloaded from storage\")\n",
    "    model = joblib.load(local_name)\n",
    "    \n",
    "    # download indexes\n",
    "    local_name = 'train_indexes.joblib'\n",
    "    storage_location = f\"predict/{local_name}\"\n",
    "    blob = client.blob(storage_location)\n",
    "    blob.download_to_filename(local_name)\n",
    "    print(f\"=> {local_name} downloaded from storage\")\n",
    "    indexes = joblib.load(local_name)\n",
    "    \n",
    "    if rm:\n",
    "        os.remove('model.joblib')\n",
    "        os.remove('train_indexes.joblib')\n",
    "    \n",
    "    index_neighbors = model.kneighbors(user_input_transformed, n_neighbors=nsimilar)[1][0]\n",
    "    \n",
    "    return [int(indexes[i]) for i in list(index_neighbors)]"
   ]
  },
  {
   "cell_type": "code",
   "execution_count": 6,
   "id": "unusual-david",
   "metadata": {},
   "outputs": [],
   "source": [
    "def get_info_from_index(indexes, all_info=False):\n",
    "    \"\"\"From given image indexes, gets initial dataset from gcloud\n",
    "    and returns respective information (urls, etc.)\"\"\"\n",
    "    client = storage.Client()\n",
    "    \n",
    "    dataset_filename = 'catalog.csv'\n",
    "    path = f\"gs://{BUCKET_NAME}/{BUCKET_INITIAL_DATASET_FOLDER}/{dataset_filename}\"\n",
    "    \n",
    "    df = pd.read_csv(path, encoding= 'unicode_escape')\n",
    "    df['URL'] = df['URL'].map(get_jpg_link)\n",
    "    \n",
    "    urls = [df.iloc[i]['URL'] for i in indexes]\n",
    "    \n",
    "    if not all_info:\n",
    "        return urls\n",
    "    \n",
    "    # get additional info\n",
    "    titles = [df.iloc[i]['TITLE'] for i in indexes]\n",
    "    authors = [df.iloc[i]['AUTHOR'] for i in indexes]\n",
    "    \n",
    "    return urls, titles, authors"
   ]
  },
  {
   "cell_type": "code",
   "execution_count": 7,
   "id": "fresh-artwork",
   "metadata": {},
   "outputs": [],
   "source": [
    "# prepare inputs for test\n",
    "from vincentvanbot.preprocessing.utils import preprocess_image\n",
    "from vincentvanbot.data import get_pickle\n",
    "\n",
    "user_img = preprocess_image('example-input.jpg',dim=(36,42))\n",
    "train_df = get_pickle()"
   ]
  },
  {
   "cell_type": "code",
   "execution_count": 8,
   "id": "experienced-passage",
   "metadata": {},
   "outputs": [
    {
     "name": "stdout",
     "output_type": "stream",
     "text": [
      "=> model.joblib uploaded to bucket vincent-van-bot-bucket inside predict/model.joblib\n",
      "=> train_indexes.joblib uploaded to bucket vincent-van-bot-bucket inside predict/train_indexes.joblib\n",
      "=> model.joblib downloaded from storage\n",
      "=> train_indexes.joblib downloaded from storage\n"
     ]
    },
    {
     "data": {
      "text/plain": [
       "['https://www.wga.hu/art/a/abbate/torfani2.jpg',\n",
       " 'https://www.wga.hu/art/a/abbati/abbati1.jpg',\n",
       " 'https://www.wga.hu/art/a/ademollo/ark1.jpg']"
      ]
     },
     "execution_count": 8,
     "metadata": {},
     "output_type": "execute_result"
    }
   ],
   "source": [
    "# workflow\n",
    "train_model(train_df)\n",
    "save_model_to_cloud(rm=True)\n",
    "indexes = get_closest_images_indexes(user_img)\n",
    "get_info_from_index(indexes)"
   ]
  },
  {
   "cell_type": "code",
   "execution_count": null,
   "id": "planned-charles",
   "metadata": {},
   "outputs": [],
   "source": []
  }
 ],
 "metadata": {
  "kernelspec": {
   "display_name": "Python 3",
   "language": "python",
   "name": "python3"
  },
  "language_info": {
   "codemirror_mode": {
    "name": "ipython",
    "version": 3
   },
   "file_extension": ".py",
   "mimetype": "text/x-python",
   "name": "python",
   "nbconvert_exporter": "python",
   "pygments_lexer": "ipython3",
   "version": "3.8.6"
  },
  "toc": {
   "base_numbering": 1,
   "nav_menu": {},
   "number_sections": true,
   "sideBar": true,
   "skip_h1_title": false,
   "title_cell": "Table of Contents",
   "title_sidebar": "Contents",
   "toc_cell": false,
   "toc_position": {},
   "toc_section_display": true,
   "toc_window_display": false
  }
 },
 "nbformat": 4,
 "nbformat_minor": 5
}
