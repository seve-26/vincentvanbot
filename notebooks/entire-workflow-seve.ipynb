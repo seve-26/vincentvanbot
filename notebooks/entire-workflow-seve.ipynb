{
 "cells": [
  {
   "cell_type": "code",
   "execution_count": 1,
   "id": "hybrid-attempt",
   "metadata": {},
   "outputs": [],
   "source": [
    "%load_ext autoreload\n",
    "%autoreload 2"
   ]
  },
  {
   "cell_type": "markdown",
   "id": "sonic-ground",
   "metadata": {},
   "source": [
    "Workflow:\n",
    "- get an example input file (in bytes)\n",
    "- preprocess it --> return df resized and flattened\n",
    "- KNN predict --> return indices of closest images\n",
    "- indices to url --> return  list of urls of closest images"
   ]
  },
  {
   "cell_type": "code",
   "execution_count": 75,
   "id": "cubic-junction",
   "metadata": {},
   "outputs": [],
   "source": [
    "from vincentvanbot.preprocessing.utils import preprocess_image\n",
    "import pandas as pd"
   ]
  },
  {
   "cell_type": "code",
   "execution_count": 20,
   "id": "breathing-netscape",
   "metadata": {},
   "outputs": [
    {
     "data": {
      "text/plain": [
       "array([[0.8745098 , 0.7372549 , 0.5803922 , ..., 0.42745098, 0.40392157,\n",
       "        0.35686275]], dtype=float32)"
      ]
     },
     "execution_count": 20,
     "metadata": {},
     "output_type": "execute_result"
    }
   ],
   "source": [
    "dim = (36,42)\n",
    "\n",
    "img = preprocess_image('example-input.jpg',dim=dim)\n",
    "img"
   ]
  },
  {
   "cell_type": "code",
   "execution_count": 24,
   "id": "continuous-radar",
   "metadata": {},
   "outputs": [
    {
     "data": {
      "text/html": [
       "<div>\n",
       "<style scoped>\n",
       "    .dataframe tbody tr th:only-of-type {\n",
       "        vertical-align: middle;\n",
       "    }\n",
       "\n",
       "    .dataframe tbody tr th {\n",
       "        vertical-align: top;\n",
       "    }\n",
       "\n",
       "    .dataframe thead th {\n",
       "        text-align: right;\n",
       "    }\n",
       "</style>\n",
       "<table border=\"1\" class=\"dataframe\">\n",
       "  <thead>\n",
       "    <tr style=\"text-align: right;\">\n",
       "      <th></th>\n",
       "      <th>0</th>\n",
       "      <th>1</th>\n",
       "      <th>2</th>\n",
       "      <th>3</th>\n",
       "      <th>4</th>\n",
       "      <th>5</th>\n",
       "      <th>6</th>\n",
       "      <th>7</th>\n",
       "      <th>8</th>\n",
       "      <th>9</th>\n",
       "      <th>...</th>\n",
       "      <th>4526</th>\n",
       "      <th>4527</th>\n",
       "      <th>4528</th>\n",
       "      <th>4529</th>\n",
       "      <th>4530</th>\n",
       "      <th>4531</th>\n",
       "      <th>4532</th>\n",
       "      <th>4533</th>\n",
       "      <th>4534</th>\n",
       "      <th>4535</th>\n",
       "    </tr>\n",
       "  </thead>\n",
       "  <tbody>\n",
       "    <tr>\n",
       "      <th>0</th>\n",
       "      <td>0.274510</td>\n",
       "      <td>0.282353</td>\n",
       "      <td>0.188235</td>\n",
       "      <td>0.215686</td>\n",
       "      <td>0.200000</td>\n",
       "      <td>0.164706</td>\n",
       "      <td>0.180392</td>\n",
       "      <td>0.168627</td>\n",
       "      <td>0.149020</td>\n",
       "      <td>0.317647</td>\n",
       "      <td>...</td>\n",
       "      <td>0.078431</td>\n",
       "      <td>0.125490</td>\n",
       "      <td>0.086275</td>\n",
       "      <td>0.078431</td>\n",
       "      <td>0.090196</td>\n",
       "      <td>0.062745</td>\n",
       "      <td>0.039216</td>\n",
       "      <td>0.152941</td>\n",
       "      <td>0.109804</td>\n",
       "      <td>0.094118</td>\n",
       "    </tr>\n",
       "    <tr>\n",
       "      <th>1</th>\n",
       "      <td>0.262745</td>\n",
       "      <td>0.278431</td>\n",
       "      <td>0.211765</td>\n",
       "      <td>0.254902</td>\n",
       "      <td>0.294118</td>\n",
       "      <td>0.250980</td>\n",
       "      <td>0.219608</td>\n",
       "      <td>0.290196</td>\n",
       "      <td>0.243137</td>\n",
       "      <td>0.160784</td>\n",
       "      <td>...</td>\n",
       "      <td>0.156863</td>\n",
       "      <td>0.364706</td>\n",
       "      <td>0.301961</td>\n",
       "      <td>0.203922</td>\n",
       "      <td>0.345098</td>\n",
       "      <td>0.294118</td>\n",
       "      <td>0.231373</td>\n",
       "      <td>0.305882</td>\n",
       "      <td>0.231373</td>\n",
       "      <td>0.164706</td>\n",
       "    </tr>\n",
       "    <tr>\n",
       "      <th>10</th>\n",
       "      <td>0.066667</td>\n",
       "      <td>0.054902</td>\n",
       "      <td>0.027451</td>\n",
       "      <td>0.058824</td>\n",
       "      <td>0.031373</td>\n",
       "      <td>0.007843</td>\n",
       "      <td>0.078431</td>\n",
       "      <td>0.050980</td>\n",
       "      <td>0.027451</td>\n",
       "      <td>0.094118</td>\n",
       "      <td>...</td>\n",
       "      <td>0.000000</td>\n",
       "      <td>0.286275</td>\n",
       "      <td>0.117647</td>\n",
       "      <td>0.050980</td>\n",
       "      <td>0.113725</td>\n",
       "      <td>0.035294</td>\n",
       "      <td>0.000000</td>\n",
       "      <td>0.074510</td>\n",
       "      <td>0.019608</td>\n",
       "      <td>0.019608</td>\n",
       "    </tr>\n",
       "    <tr>\n",
       "      <th>100</th>\n",
       "      <td>0.176471</td>\n",
       "      <td>0.172549</td>\n",
       "      <td>0.164706</td>\n",
       "      <td>0.164706</td>\n",
       "      <td>0.145098</td>\n",
       "      <td>0.121569</td>\n",
       "      <td>0.192157</td>\n",
       "      <td>0.152941</td>\n",
       "      <td>0.149020</td>\n",
       "      <td>0.141176</td>\n",
       "      <td>...</td>\n",
       "      <td>0.243137</td>\n",
       "      <td>0.360784</td>\n",
       "      <td>0.301961</td>\n",
       "      <td>0.274510</td>\n",
       "      <td>0.356863</td>\n",
       "      <td>0.294118</td>\n",
       "      <td>0.298039</td>\n",
       "      <td>0.286275</td>\n",
       "      <td>0.239216</td>\n",
       "      <td>0.239216</td>\n",
       "    </tr>\n",
       "    <tr>\n",
       "      <th>101</th>\n",
       "      <td>0.254902</td>\n",
       "      <td>0.192157</td>\n",
       "      <td>0.094118</td>\n",
       "      <td>0.239216</td>\n",
       "      <td>0.172549</td>\n",
       "      <td>0.101961</td>\n",
       "      <td>0.215686</td>\n",
       "      <td>0.145098</td>\n",
       "      <td>0.098039</td>\n",
       "      <td>0.254902</td>\n",
       "      <td>...</td>\n",
       "      <td>0.105882</td>\n",
       "      <td>0.133333</td>\n",
       "      <td>0.129412</td>\n",
       "      <td>0.121569</td>\n",
       "      <td>0.137255</td>\n",
       "      <td>0.137255</td>\n",
       "      <td>0.129412</td>\n",
       "      <td>0.113725</td>\n",
       "      <td>0.109804</td>\n",
       "      <td>0.094118</td>\n",
       "    </tr>\n",
       "  </tbody>\n",
       "</table>\n",
       "<p>5 rows × 4536 columns</p>\n",
       "</div>"
      ],
      "text/plain": [
       "         0         1         2         3         4         5         6     \\\n",
       "0    0.274510  0.282353  0.188235  0.215686  0.200000  0.164706  0.180392   \n",
       "1    0.262745  0.278431  0.211765  0.254902  0.294118  0.250980  0.219608   \n",
       "10   0.066667  0.054902  0.027451  0.058824  0.031373  0.007843  0.078431   \n",
       "100  0.176471  0.172549  0.164706  0.164706  0.145098  0.121569  0.192157   \n",
       "101  0.254902  0.192157  0.094118  0.239216  0.172549  0.101961  0.215686   \n",
       "\n",
       "         7         8         9     ...      4526      4527      4528  \\\n",
       "0    0.168627  0.149020  0.317647  ...  0.078431  0.125490  0.086275   \n",
       "1    0.290196  0.243137  0.160784  ...  0.156863  0.364706  0.301961   \n",
       "10   0.050980  0.027451  0.094118  ...  0.000000  0.286275  0.117647   \n",
       "100  0.152941  0.149020  0.141176  ...  0.243137  0.360784  0.301961   \n",
       "101  0.145098  0.098039  0.254902  ...  0.105882  0.133333  0.129412   \n",
       "\n",
       "         4529      4530      4531      4532      4533      4534      4535  \n",
       "0    0.078431  0.090196  0.062745  0.039216  0.152941  0.109804  0.094118  \n",
       "1    0.203922  0.345098  0.294118  0.231373  0.305882  0.231373  0.164706  \n",
       "10   0.050980  0.113725  0.035294  0.000000  0.074510  0.019608  0.019608  \n",
       "100  0.274510  0.356863  0.294118  0.298039  0.286275  0.239216  0.239216  \n",
       "101  0.121569  0.137255  0.137255  0.129412  0.113725  0.109804  0.094118  \n",
       "\n",
       "[5 rows x 4536 columns]"
      ]
     },
     "execution_count": 24,
     "metadata": {},
     "output_type": "execute_result"
    }
   ],
   "source": [
    "# get training data\n",
    "from vincentvanbot.data import get_pickle\n",
    "\n",
    "img_db = get_pickle()\n",
    "img_db.head()"
   ]
  },
  {
   "cell_type": "code",
   "execution_count": 67,
   "id": "atmospheric-fifteen",
   "metadata": {},
   "outputs": [],
   "source": [
    "# train\n",
    "from sklearn.neighbors import NearestNeighbors\n",
    "import pickle\n",
    "\n",
    "def train_model(df_transformed): # previously called return_closest_images\n",
    "    \"\"\"Takes preprocessed train data as df. Saves fitted model in gcloud.\n",
    "    Returns fitted KNN model and train data image indexes.\"\"\"\n",
    "    knn_model = NearestNeighbors().fit(df_transformed)\n",
    "    \n",
    "    return knn_model, df_transformed.index"
   ]
  },
  {
   "cell_type": "code",
   "execution_count": 68,
   "id": "following-village",
   "metadata": {},
   "outputs": [],
   "source": [
    "# predict\n",
    "def get_closest_images_indexes(user_input_transformed, model, indexes, nsimilar=3):\n",
    "    \"\"\"Takes preprocessed user_input_transformed as np.array and fitted knn model.\n",
    "    Returns indices of nsimilar closest images\"\"\"\n",
    "    index_neighbors = model.kneighbors(user_input_transformed, n_neighbors=nsimilar)[1][0]\n",
    "    \n",
    "    return [int(indexes[i]) for i in list(index_neighbors)]"
   ]
  },
  {
   "cell_type": "code",
   "execution_count": 69,
   "id": "trying-extra",
   "metadata": {},
   "outputs": [],
   "source": [
    "model, indexes = train_model(img_db)"
   ]
  },
  {
   "cell_type": "code",
   "execution_count": 70,
   "id": "intellectual-excuse",
   "metadata": {},
   "outputs": [
    {
     "data": {
      "text/plain": [
       "[41, 42, 91]"
      ]
     },
     "execution_count": 70,
     "metadata": {},
     "output_type": "execute_result"
    }
   ],
   "source": [
    "get_closest_images_indexes(img,model,indexes)"
   ]
  },
  {
   "cell_type": "code",
   "execution_count": 59,
   "id": "executed-balance",
   "metadata": {},
   "outputs": [],
   "source": [
    "from vincentvanbot.data import get_data_locally"
   ]
  },
  {
   "cell_type": "code",
   "execution_count": 60,
   "id": "enabling-daughter",
   "metadata": {},
   "outputs": [
    {
     "data": {
      "text/plain": [
       "(32008, 11)"
      ]
     },
     "execution_count": 60,
     "metadata": {},
     "output_type": "execute_result"
    }
   ],
   "source": [
    "initial_df = get_data_locally(100_000)\n",
    "initial_df.shape"
   ]
  },
  {
   "cell_type": "code",
   "execution_count": 71,
   "id": "satisfactory-norway",
   "metadata": {},
   "outputs": [
    {
     "name": "stdout",
     "output_type": "stream",
     "text": [
      "https://www.wga.hu/art/a/abbati/abbati5.jpg\n",
      "https://www.wga.hu/art/a/abbatini/cornaro.jpg\n",
      "https://www.wga.hu/art/a/aertsen/christ_m.jpg\n"
     ]
    }
   ],
   "source": [
    "for index in get_closest_images_indexes(img,model,indexes):\n",
    "    print(initial_df.iloc[index]['URL'])"
   ]
  },
  {
   "cell_type": "code",
   "execution_count": 73,
   "id": "frank-oxygen",
   "metadata": {},
   "outputs": [],
   "source": [
    "from google.cloud import storage\n",
    "from vincentvanbot.params import BUCKET_NAME\n",
    "from vincentvanbot.preprocessing.utils import get_jpg_link\n",
    "\n",
    "BUCKET_INITIAL_DATASET_FOLDER = 'data'\n",
    "\n",
    "def get_info_from_index(indexes, all_info=False):\n",
    "    \"\"\"from given image indexes, gets initial dataset from gcloud\n",
    "    and returns respective jpg links\"\"\"\n",
    "    client = storage.Client()\n",
    "    \n",
    "    dataset_filename = 'catalog.csv'\n",
    "    path = f\"gs://{BUCKET_NAME}/{BUCKET_INITIAL_DATASET_FOLDER}/{dataset_filename}\"\n",
    "    \n",
    "    df = pd.read_csv(path, encoding= 'unicode_escape')\n",
    "    df['URL'] = df['URL'].map(get_jpg_link)\n",
    "    \n",
    "    urls = [df.iloc[i]['URL'] for i in indexes]\n",
    "\n",
    "    return urls"
   ]
  },
  {
   "cell_type": "code",
   "execution_count": 76,
   "id": "timely-hypothetical",
   "metadata": {},
   "outputs": [
    {
     "data": {
      "text/plain": [
       "['https://www.wga.hu/art/a/abbate/torfani2.jpg',\n",
       " 'https://www.wga.hu/art/a/abbati/abbati1.jpg',\n",
       " 'https://www.wga.hu/art/a/ademollo/ark1.jpg']"
      ]
     },
     "execution_count": 76,
     "metadata": {},
     "output_type": "execute_result"
    }
   ],
   "source": [
    "model, indexes = train_model(img_db)\n",
    "closest_i = get_closest_images_indexes(img,model,indexes)\n",
    "get_url_from_index(closest_i)"
   ]
  },
  {
   "cell_type": "code",
   "execution_count": null,
   "id": "ranging-morris",
   "metadata": {},
   "outputs": [],
   "source": []
  }
 ],
 "metadata": {
  "kernelspec": {
   "display_name": "Python 3",
   "language": "python",
   "name": "python3"
  },
  "language_info": {
   "codemirror_mode": {
    "name": "ipython",
    "version": 3
   },
   "file_extension": ".py",
   "mimetype": "text/x-python",
   "name": "python",
   "nbconvert_exporter": "python",
   "pygments_lexer": "ipython3",
   "version": "3.8.6"
  },
  "toc": {
   "base_numbering": 1,
   "nav_menu": {},
   "number_sections": true,
   "sideBar": true,
   "skip_h1_title": false,
   "title_cell": "Table of Contents",
   "title_sidebar": "Contents",
   "toc_cell": false,
   "toc_position": {},
   "toc_section_display": true,
   "toc_window_display": false
  }
 },
 "nbformat": 4,
 "nbformat_minor": 5
}
